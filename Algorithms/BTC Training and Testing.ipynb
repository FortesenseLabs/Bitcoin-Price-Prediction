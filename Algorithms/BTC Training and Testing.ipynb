{
  "nbformat": 4,
  "nbformat_minor": 0,
  "metadata": {
    "environment": {
      "name": "tf2-2-3-gpu.2-3.m55",
      "type": "gcloud",
      "uri": "gcr.io/deeplearning-platform-release/tf2-2-3-gpu.2-3:m55"
    },
    "kernelspec": {
      "display_name": "Python 3",
      "language": "python",
      "name": "python3"
    },
    "language_info": {
      "codemirror_mode": {
        "name": "ipython",
        "version": 3
      },
      "file_extension": ".py",
      "mimetype": "text/x-python",
      "name": "python",
      "nbconvert_exporter": "python",
      "pygments_lexer": "ipython3",
      "version": "3.7.8"
    },
    "colab": {
      "name": "lstm_trail2.ipynb",
      "provenance": [],
      "collapsed_sections": []
    },
    "accelerator": "GPU"
  },
  "cells": [
    {
      "cell_type": "code",
      "metadata": {
        "id": "dOg_Yplv2kJt",
        "colab_type": "code",
        "colab": {
          "base_uri": "https://localhost:8080/",
          "height": 87
        },
        "outputId": "9527bb5a-4b0e-4c62-9522-d729fe6a1e7f"
      },
      "source": [
        "import numpy as np\n",
        "import pandas as pd\n",
        "import os\n",
        "import matplotlib.pyplot as plt\n",
        "import seaborn as sns\n",
        "import datetime as dt\n",
        "from sklearn.preprocessing import RobustScaler\n",
        "from joblib import Parallel, delayed\n",
        "import pandas as pd\n",
        "\n",
        "import tensorflow as tf\n",
        "from tensorflow import keras\n",
        "from tensorflow.keras import layers\n",
        "import datetime\n",
        "\n",
        "print(tf.__version__)"
      ],
      "execution_count": 1,
      "outputs": [
        {
          "output_type": "stream",
          "text": [
            "/usr/local/lib/python3.6/dist-packages/statsmodels/tools/_testing.py:19: FutureWarning: pandas.util.testing is deprecated. Use the functions in the public API at pandas.testing instead.\n",
            "  import pandas.util.testing as tm\n"
          ],
          "name": "stderr"
        },
        {
          "output_type": "stream",
          "text": [
            "2.3.0\n"
          ],
          "name": "stdout"
        }
      ]
    },
    {
      "cell_type": "code",
      "metadata": {
        "id": "7A2MnUxL3Cne",
        "colab_type": "code",
        "colab": {
          "base_uri": "https://localhost:8080/",
          "height": 34
        },
        "outputId": "c04901a1-fe58-406d-fdc5-e63b146cc1e8"
      },
      "source": [
        "from google.colab import drive\n",
        "drive.mount('/content/drive')"
      ],
      "execution_count": 2,
      "outputs": [
        {
          "output_type": "stream",
          "text": [
            "Mounted at /content/drive\n"
          ],
          "name": "stdout"
        }
      ]
    },
    {
      "cell_type": "code",
      "metadata": {
        "id": "6PPzcobU3U49",
        "colab_type": "code",
        "colab": {
          "base_uri": "https://localhost:8080/",
          "height": 35
        },
        "outputId": "074579c3-f94e-4c59-fe53-dbe6d031c928"
      },
      "source": [
        "import os\n",
        "os.getcwd()"
      ],
      "execution_count": 3,
      "outputs": [
        {
          "output_type": "execute_result",
          "data": {
            "application/vnd.google.colaboratory.intrinsic+json": {
              "type": "string"
            },
            "text/plain": [
              "'/content'"
            ]
          },
          "metadata": {
            "tags": []
          },
          "execution_count": 3
        }
      ]
    },
    {
      "cell_type": "code",
      "metadata": {
        "id": "Rnfup1jE2zn_",
        "colab_type": "code",
        "colab": {}
      },
      "source": [
        "data_dir = 'drive/My Drive/Colab Notebooks/230T2/Data/'\n",
        "norm_features = pd.read_csv(data_dir + 'norm_features.csv', index_col=0, parse_dates=True)\n",
        "label = pd.read_csv(data_dir + 'label.csv', index_col=0, parse_dates=True)['0']"
      ],
      "execution_count": 4,
      "outputs": []
    },
    {
      "cell_type": "code",
      "metadata": {
        "id": "ibFdE_D2Ovcu",
        "colab_type": "code",
        "colab": {
          "base_uri": "https://localhost:8080/",
          "height": 235
        },
        "outputId": "0624141c-26c0-49b3-d874-586d2654b116"
      },
      "source": [
        "label.dropna()"
      ],
      "execution_count": null,
      "outputs": [
        {
          "output_type": "execute_result",
          "data": {
            "text/plain": [
              "Time\n",
              "2016-05-10 14:40:00    0.306164\n",
              "2016-05-10 15:20:00   -0.116551\n",
              "2016-05-10 15:30:00   -0.105559\n",
              "2016-05-10 15:40:00   -0.032994\n",
              "2016-05-10 15:50:00    0.125488\n",
              "                         ...   \n",
              "2019-01-07 20:30:00   -0.218711\n",
              "2019-01-07 20:40:00   -0.021177\n",
              "2019-01-07 20:50:00    0.141083\n",
              "2019-01-07 21:00:00   -0.003744\n",
              "2019-01-07 21:10:00   -0.221921\n",
              "Name: 0, Length: 135740, dtype: float64"
            ]
          },
          "metadata": {
            "tags": []
          },
          "execution_count": 42
        }
      ]
    },
    {
      "cell_type": "code",
      "metadata": {
        "id": "ulUlawJ74bNJ",
        "colab_type": "code",
        "colab": {
          "base_uri": "https://localhost:8080/",
          "height": 435
        },
        "outputId": "b5469533-23eb-4d53-a401-71b47b07e1bd"
      },
      "source": [
        "display(label.describe())\n",
        "norm_features.describe()"
      ],
      "execution_count": null,
      "outputs": [
        {
          "output_type": "display_data",
          "data": {
            "text/plain": [
              "count    135740.000000\n",
              "mean          0.009462\n",
              "std           0.971153\n",
              "min         -23.391706\n",
              "25%          -0.248917\n",
              "50%           0.015641\n",
              "75%           0.296545\n",
              "max          17.908958\n",
              "Name: 0, dtype: float64"
            ]
          },
          "metadata": {
            "tags": []
          }
        },
        {
          "output_type": "execute_result",
          "data": {
            "text/html": [
              "<div>\n",
              "<style scoped>\n",
              "    .dataframe tbody tr th:only-of-type {\n",
              "        vertical-align: middle;\n",
              "    }\n",
              "\n",
              "    .dataframe tbody tr th {\n",
              "        vertical-align: top;\n",
              "    }\n",
              "\n",
              "    .dataframe thead th {\n",
              "        text-align: right;\n",
              "    }\n",
              "</style>\n",
              "<table border=\"1\" class=\"dataframe\">\n",
              "  <thead>\n",
              "    <tr style=\"text-align: right;\">\n",
              "      <th></th>\n",
              "      <th>relative_vol</th>\n",
              "      <th>return</th>\n",
              "      <th>rela_HML</th>\n",
              "      <th>Rvol</th>\n",
              "      <th>return_ETH</th>\n",
              "      <th>price_diff_1h</th>\n",
              "      <th>price_diff_12h</th>\n",
              "    </tr>\n",
              "  </thead>\n",
              "  <tbody>\n",
              "    <tr>\n",
              "      <th>count</th>\n",
              "      <td>132835.000000</td>\n",
              "      <td>135489.000000</td>\n",
              "      <td>138159.000000</td>\n",
              "      <td>137782.000000</td>\n",
              "      <td>134652.000000</td>\n",
              "      <td>138047.000000</td>\n",
              "      <td>135515.000000</td>\n",
              "    </tr>\n",
              "    <tr>\n",
              "      <th>mean</th>\n",
              "      <td>-0.003359</td>\n",
              "      <td>0.015951</td>\n",
              "      <td>-0.101944</td>\n",
              "      <td>-0.111819</td>\n",
              "      <td>0.009980</td>\n",
              "      <td>-0.001631</td>\n",
              "      <td>0.004360</td>\n",
              "    </tr>\n",
              "    <tr>\n",
              "      <th>std</th>\n",
              "      <td>0.797240</td>\n",
              "      <td>1.247676</td>\n",
              "      <td>0.886476</td>\n",
              "      <td>0.888530</td>\n",
              "      <td>1.458095</td>\n",
              "      <td>1.246830</td>\n",
              "      <td>1.225912</td>\n",
              "    </tr>\n",
              "    <tr>\n",
              "      <th>min</th>\n",
              "      <td>-3.000000</td>\n",
              "      <td>-3.000000</td>\n",
              "      <td>-3.000000</td>\n",
              "      <td>-3.000000</td>\n",
              "      <td>-3.000000</td>\n",
              "      <td>-3.000000</td>\n",
              "      <td>-3.000000</td>\n",
              "    </tr>\n",
              "    <tr>\n",
              "      <th>25%</th>\n",
              "      <td>-0.506811</td>\n",
              "      <td>-0.473946</td>\n",
              "      <td>-0.525153</td>\n",
              "      <td>-0.527093</td>\n",
              "      <td>-0.474382</td>\n",
              "      <td>-0.491710</td>\n",
              "      <td>-0.459797</td>\n",
              "    </tr>\n",
              "    <tr>\n",
              "      <th>50%</th>\n",
              "      <td>0.000003</td>\n",
              "      <td>0.000015</td>\n",
              "      <td>0.000571</td>\n",
              "      <td>0.000497</td>\n",
              "      <td>0.000000</td>\n",
              "      <td>0.000208</td>\n",
              "      <td>0.000221</td>\n",
              "    </tr>\n",
              "    <tr>\n",
              "      <th>75%</th>\n",
              "      <td>0.493189</td>\n",
              "      <td>0.526596</td>\n",
              "      <td>0.474664</td>\n",
              "      <td>0.473046</td>\n",
              "      <td>0.528221</td>\n",
              "      <td>0.509096</td>\n",
              "      <td>0.540897</td>\n",
              "    </tr>\n",
              "    <tr>\n",
              "      <th>max</th>\n",
              "      <td>3.000000</td>\n",
              "      <td>3.000000</td>\n",
              "      <td>3.000000</td>\n",
              "      <td>3.000000</td>\n",
              "      <td>3.000000</td>\n",
              "      <td>3.000000</td>\n",
              "      <td>3.000000</td>\n",
              "    </tr>\n",
              "  </tbody>\n",
              "</table>\n",
              "</div>"
            ],
            "text/plain": [
              "        relative_vol         return  ...  price_diff_1h  price_diff_12h\n",
              "count  132835.000000  135489.000000  ...  138047.000000   135515.000000\n",
              "mean       -0.003359       0.015951  ...      -0.001631        0.004360\n",
              "std         0.797240       1.247676  ...       1.246830        1.225912\n",
              "min        -3.000000      -3.000000  ...      -3.000000       -3.000000\n",
              "25%        -0.506811      -0.473946  ...      -0.491710       -0.459797\n",
              "50%         0.000003       0.000015  ...       0.000208        0.000221\n",
              "75%         0.493189       0.526596  ...       0.509096        0.540897\n",
              "max         3.000000       3.000000  ...       3.000000        3.000000\n",
              "\n",
              "[8 rows x 7 columns]"
            ]
          },
          "metadata": {
            "tags": []
          },
          "execution_count": 6
        }
      ]
    },
    {
      "cell_type": "code",
      "metadata": {
        "id": "p8jAKYdhO8QS",
        "colab_type": "code",
        "colab": {
          "base_uri": "https://localhost:8080/",
          "height": 431
        },
        "outputId": "63d37dc7-2e06-4c54-8f44-e00c3304cb0d"
      },
      "source": [
        "norm_features\n"
      ],
      "execution_count": null,
      "outputs": [
        {
          "output_type": "execute_result",
          "data": {
            "text/html": [
              "<div>\n",
              "<style scoped>\n",
              "    .dataframe tbody tr th:only-of-type {\n",
              "        vertical-align: middle;\n",
              "    }\n",
              "\n",
              "    .dataframe tbody tr th {\n",
              "        vertical-align: top;\n",
              "    }\n",
              "\n",
              "    .dataframe thead th {\n",
              "        text-align: right;\n",
              "    }\n",
              "</style>\n",
              "<table border=\"1\" class=\"dataframe\">\n",
              "  <thead>\n",
              "    <tr style=\"text-align: right;\">\n",
              "      <th></th>\n",
              "      <th>relative_vol</th>\n",
              "      <th>return</th>\n",
              "      <th>rela_HML</th>\n",
              "      <th>Rvol</th>\n",
              "      <th>return_ETH</th>\n",
              "      <th>price_diff_1h</th>\n",
              "      <th>price_diff_12h</th>\n",
              "    </tr>\n",
              "    <tr>\n",
              "      <th>Time</th>\n",
              "      <th></th>\n",
              "      <th></th>\n",
              "      <th></th>\n",
              "      <th></th>\n",
              "      <th></th>\n",
              "      <th></th>\n",
              "      <th></th>\n",
              "    </tr>\n",
              "  </thead>\n",
              "  <tbody>\n",
              "    <tr>\n",
              "      <th>2016-05-10 13:30:00</th>\n",
              "      <td>NaN</td>\n",
              "      <td>NaN</td>\n",
              "      <td>NaN</td>\n",
              "      <td>NaN</td>\n",
              "      <td>NaN</td>\n",
              "      <td>NaN</td>\n",
              "      <td>NaN</td>\n",
              "    </tr>\n",
              "    <tr>\n",
              "      <th>2016-05-10 13:40:00</th>\n",
              "      <td>NaN</td>\n",
              "      <td>NaN</td>\n",
              "      <td>NaN</td>\n",
              "      <td>NaN</td>\n",
              "      <td>NaN</td>\n",
              "      <td>NaN</td>\n",
              "      <td>NaN</td>\n",
              "    </tr>\n",
              "    <tr>\n",
              "      <th>2016-05-10 13:50:00</th>\n",
              "      <td>NaN</td>\n",
              "      <td>NaN</td>\n",
              "      <td>NaN</td>\n",
              "      <td>NaN</td>\n",
              "      <td>NaN</td>\n",
              "      <td>NaN</td>\n",
              "      <td>NaN</td>\n",
              "    </tr>\n",
              "    <tr>\n",
              "      <th>2016-05-10 14:00:00</th>\n",
              "      <td>NaN</td>\n",
              "      <td>NaN</td>\n",
              "      <td>NaN</td>\n",
              "      <td>NaN</td>\n",
              "      <td>NaN</td>\n",
              "      <td>NaN</td>\n",
              "      <td>NaN</td>\n",
              "    </tr>\n",
              "    <tr>\n",
              "      <th>2016-05-10 14:10:00</th>\n",
              "      <td>NaN</td>\n",
              "      <td>NaN</td>\n",
              "      <td>NaN</td>\n",
              "      <td>NaN</td>\n",
              "      <td>NaN</td>\n",
              "      <td>NaN</td>\n",
              "      <td>NaN</td>\n",
              "    </tr>\n",
              "    <tr>\n",
              "      <th>...</th>\n",
              "      <td>...</td>\n",
              "      <td>...</td>\n",
              "      <td>...</td>\n",
              "      <td>...</td>\n",
              "      <td>...</td>\n",
              "      <td>...</td>\n",
              "      <td>...</td>\n",
              "    </tr>\n",
              "    <tr>\n",
              "      <th>2019-01-07 21:20:00</th>\n",
              "      <td>0.352456</td>\n",
              "      <td>-0.163541</td>\n",
              "      <td>-0.228866</td>\n",
              "      <td>-0.182309</td>\n",
              "      <td>-0.246363</td>\n",
              "      <td>-0.004992</td>\n",
              "      <td>-0.054930</td>\n",
              "    </tr>\n",
              "    <tr>\n",
              "      <th>2019-01-07 21:30:00</th>\n",
              "      <td>0.031618</td>\n",
              "      <td>-0.426442</td>\n",
              "      <td>-0.211422</td>\n",
              "      <td>-0.225059</td>\n",
              "      <td>-1.326428</td>\n",
              "      <td>-0.125991</td>\n",
              "      <td>-0.083215</td>\n",
              "    </tr>\n",
              "    <tr>\n",
              "      <th>2019-01-07 21:40:00</th>\n",
              "      <td>-0.038978</td>\n",
              "      <td>0.405179</td>\n",
              "      <td>-0.579771</td>\n",
              "      <td>-0.325312</td>\n",
              "      <td>-3.000000</td>\n",
              "      <td>0.089472</td>\n",
              "      <td>-0.107827</td>\n",
              "    </tr>\n",
              "    <tr>\n",
              "      <th>2019-01-07 21:50:00</th>\n",
              "      <td>0.292652</td>\n",
              "      <td>0.139888</td>\n",
              "      <td>-0.329468</td>\n",
              "      <td>-0.038665</td>\n",
              "      <td>3.000000</td>\n",
              "      <td>0.361217</td>\n",
              "      <td>-0.122913</td>\n",
              "    </tr>\n",
              "    <tr>\n",
              "      <th>2019-01-07 22:00:00</th>\n",
              "      <td>0.293982</td>\n",
              "      <td>-0.973940</td>\n",
              "      <td>0.339005</td>\n",
              "      <td>0.120249</td>\n",
              "      <td>-3.000000</td>\n",
              "      <td>-0.349044</td>\n",
              "      <td>-0.156031</td>\n",
              "    </tr>\n",
              "  </tbody>\n",
              "</table>\n",
              "<p>140020 rows × 7 columns</p>\n",
              "</div>"
            ],
            "text/plain": [
              "                     relative_vol    return  ...  price_diff_1h  price_diff_12h\n",
              "Time                                         ...                               \n",
              "2016-05-10 13:30:00           NaN       NaN  ...            NaN             NaN\n",
              "2016-05-10 13:40:00           NaN       NaN  ...            NaN             NaN\n",
              "2016-05-10 13:50:00           NaN       NaN  ...            NaN             NaN\n",
              "2016-05-10 14:00:00           NaN       NaN  ...            NaN             NaN\n",
              "2016-05-10 14:10:00           NaN       NaN  ...            NaN             NaN\n",
              "...                           ...       ...  ...            ...             ...\n",
              "2019-01-07 21:20:00      0.352456 -0.163541  ...      -0.004992       -0.054930\n",
              "2019-01-07 21:30:00      0.031618 -0.426442  ...      -0.125991       -0.083215\n",
              "2019-01-07 21:40:00     -0.038978  0.405179  ...       0.089472       -0.107827\n",
              "2019-01-07 21:50:00      0.292652  0.139888  ...       0.361217       -0.122913\n",
              "2019-01-07 22:00:00      0.293982 -0.973940  ...      -0.349044       -0.156031\n",
              "\n",
              "[140020 rows x 7 columns]"
            ]
          },
          "metadata": {
            "tags": []
          },
          "execution_count": 44
        }
      ]
    },
    {
      "cell_type": "markdown",
      "metadata": {
        "id": "ErGCPjI22kK3",
        "colab_type": "text"
      },
      "source": [
        "* Dropping missing values"
      ]
    },
    {
      "cell_type": "code",
      "metadata": {
        "id": "dqwPq3Xj2kK3",
        "colab_type": "code",
        "colab": {}
      },
      "source": [
        "def nandetector(x, threshold=10):\n",
        "    return np.sum(np.isnan(x)) > threshold  # true if there is more than 10 nan\n",
        "\n",
        "def get_input_output(norm_features, label, window=36):\n",
        "    shape = (len(label), window, norm_features.shape[1])\n",
        "    input_data = np.zeros(shape)\n",
        "\n",
        "    for t in range(window):\n",
        "        input_data[:, t, :] = norm_features.shift(window-1 - t)\n",
        "        \n",
        "    flag_nan_input = np.zeros(len(input_data))\n",
        "    for i in range(len(input_data)):\n",
        "        flag_nan_input[i] = nandetector(input_data[i])    \n",
        "    flag_nan_output = label.apply(np.isnan)\n",
        "\n",
        "    flag_nan = (flag_nan_output.values + flag_nan_input).astype(bool)\n",
        "    flag_nan = pd.Series(flag_nan, index=label.index)\n",
        "\n",
        "    ## get inputs, outputs\n",
        "    inputs = input_data[flag_nan.values==False]\n",
        "    inputs[np.isnan(inputs)] = 0.0  \n",
        "\n",
        "    outputs = label.values[flag_nan.values==False]\n",
        "    return (inputs, outputs, flag_nan )"
      ],
      "execution_count": null,
      "outputs": []
    },
    {
      "cell_type": "code",
      "metadata": {
        "id": "YABa1iWn5OrT",
        "colab_type": "code",
        "colab": {}
      },
      "source": [
        "nlags = 36\n",
        "inputs, outputs, flag_nan = get_input_output(norm_features, label, window=nlags)"
      ],
      "execution_count": null,
      "outputs": []
    },
    {
      "cell_type": "code",
      "metadata": {
        "id": "yHfqQuZs2kLF",
        "colab_type": "code",
        "colab": {
          "base_uri": "https://localhost:8080/",
          "height": 308
        },
        "outputId": "c7b420cd-27ba-487b-f4e3-e2f516db1d79"
      },
      "source": [
        "flag_nan.groupby(pd.Grouper(freq='d')).sum().plot()"
      ],
      "execution_count": null,
      "outputs": [
        {
          "output_type": "execute_result",
          "data": {
            "text/plain": [
              "<matplotlib.axes._subplots.AxesSubplot at 0x7fa4f61feef0>"
            ]
          },
          "metadata": {
            "tags": []
          },
          "execution_count": 9
        },
        {
          "output_type": "display_data",
          "data": {
            "image/png": "[encoded data removed]",
            "text/plain": [
              "<Figure size 432x288 with 1 Axes>"
            ]
          },
          "metadata": {
            "tags": [],
            "needs_background": "light"
          }
        }
      ]
    },
    {
      "cell_type": "code",
      "metadata": {
        "id": "PngXXMfz2kLI",
        "colab_type": "code",
        "colab": {}
      },
      "source": [
        "np.save(data_dir + 'inputs', inputs)\n",
        "np.save(data_dir + 'outputs', outputs)"
      ],
      "execution_count": null,
      "outputs": []
    },
    {
      "cell_type": "markdown",
      "metadata": {
        "id": "GUhdMa6Y2kLL",
        "colab_type": "text"
      },
      "source": [
        "* Train the model"
      ]
    },
    {
      "cell_type": "code",
      "metadata": {
        "id": "SGZX0JpR2kLL",
        "colab_type": "code",
        "colab": {}
      },
      "source": [
        "import keras.backend as K\n",
        "def right_direction(y_true, y_pred):\n",
        "    length = K.shape(y_true)[0]\n",
        "    pmn = K.sum(K.sign(y_true * y_pred)) ## positive - negative\n",
        "    ppn = K.sum(K.abs(K.sign(y_true * y_pred)))\n",
        "    wrong_rate = (ppn + pmn) /2/ ppn\n",
        "    return wrong_rate * 100\n",
        "\n",
        "def plot_history(history):\n",
        "  hist = pd.DataFrame(history.history)\n",
        "  hist['epoch'] = history.epoch\n",
        "  \n",
        "  fig, ax = plt.subplots()\n",
        "  ax.set_xlabel('Epoch')\n",
        "  ax.set_ylabel('MSE')\n",
        "  ax.plot(hist['epoch'], hist['loss'],\n",
        "           label='Train Error')\n",
        "  ax.legend()\n",
        "  ax1 = ax.twinx()\n",
        "  ax1.plot(hist['epoch'], hist['val_loss'],\n",
        "           label = 'Val Error', color='r')\n",
        "#   plt.ylim([0,])\n",
        "  ax1.legend()\n",
        "  \n",
        "  plt.figure()\n",
        "  plt.xlabel('Epoch')\n",
        "  plt.ylabel('accuracy')\n",
        "  plt.plot(hist['epoch'], hist['right_direction'],\n",
        "           label='Train Accuracy')\n",
        "  plt.plot(hist['epoch'], hist['val_right_direction'],\n",
        "           label = 'Val Accuracy', color='r')\n",
        "#   plt.ylim([0,20])\n",
        "  plt.legend()\n",
        "  plt.show()\n",
        "\n",
        "def build_model1(units=12, nlags=10, nfeatures=7 ,seed=1):\n",
        "    \n",
        "    model = keras.Sequential([\n",
        "#         layers.Dense(8, input_shape=(nlags, 5), activation='relu', kernel_regularizer=keras.regularizers.L2(0.01)),\n",
        "#         layers.Dense(12, activation='relu', kernel_regularizer=keras.regularizers.L2(0.01)),\n",
        "#         layers.BatchNormalization(trainable=True),\n",
        "#         layers.Dense(12, activation='relu', kernel_regularizer=keras.regularizers.L2(0.0)),\n",
        "#         layers.Dropout(rate=0.1),\n",
        "        layers.LSTM(units=units, activation='tanh', recurrent_activation='sigmoid', return_sequences=False, input_shape=(nlags, nfeatures)),\n",
        "#         layers.LSTM(units=units, activation='tanh', recurrent_activation='tanh'),\n",
        "        layers.Dense(10, activation='relu'),\n",
        "        layers.BatchNormalization(trainable=True),\n",
        "        layers.Dense(10, activation=tf.nn.relu),\n",
        "        layers.Dense(5, activation=tf.nn.relu),\n",
        "        layers.Dense(1)\n",
        "    ])\n",
        "\n",
        "#     lr = tf.keras.optimizers.schedules.ExponentialDecay(initial_learning_rate=0.001, decay_steps=100, decay_rate=0.9)\n",
        "    lr=0.001\n",
        "    \n",
        "    optimizer = tf.keras.optimizers.Adam(lr)\n",
        "\n",
        "    model.compile(loss='mae',\n",
        "                optimizer=optimizer,\n",
        "                metrics=[right_direction, 'mse'])\n",
        "    return model\n",
        "\n",
        "def build_model(units=12, nlags=10, nfeatures=7, seed=1):\n",
        "#     tf.random.set_seed(seed)\n",
        "    model = keras.Sequential([\n",
        "#         layers.Dense(8, input_shape=(nlags, 5), activation='relu', kernel_regularizer=keras.regularizers.L2(0.01)),\n",
        "#         layers.Dense(12, activation='relu', kernel_regularizer=keras.regularizers.L2(0.01)),\n",
        "#         layers.BatchNormalization(trainable=True),\n",
        "#         layers.Dense(12, activation='relu', kernel_regularizer=keras.regularizers.L2(0.0)),\n",
        "#         layers.Dropout(rate=0.1),\n",
        "        layers.LSTM(units=units, activation='tanh', recurrent_activation='sigmoid', return_sequences=True, input_shape=(nlags, nfeatures)),\n",
        "        layers.Dropout(rate=0.2),\n",
        "        layers.LSTM(units=units, activation='tanh', recurrent_activation='sigmoid'),\n",
        "        layers.BatchNormalization(trainable=True),\n",
        "        layers.Dense(10, activation=tf.nn.relu),\n",
        "        layers.Dense(5, activation=tf.nn.relu),\n",
        "        layers.Dense(1)\n",
        "    ])\n",
        "\n",
        "#     lr = tf.keras.optimizers.schedules.ExponentialDecay(initial_learning_rate=0.001, decay_steps=100, decay_rate=0.9)\n",
        "    lr=0.001\n",
        "    \n",
        "    optimizer = tf.keras.optimizers.Adam(lr)\n",
        "\n",
        "    model.compile(loss='mae',\n",
        "                optimizer=optimizer,\n",
        "                metrics=[right_direction, 'mse'])\n",
        "    return model"
      ],
      "execution_count": null,
      "outputs": []
    },
    {
      "cell_type": "code",
      "metadata": {
        "id": "TvCg5gcG2kLO",
        "colab_type": "code",
        "colab": {
          "base_uri": "https://localhost:8080/",
          "height": 386
        },
        "outputId": "9423f7c4-e7d9-475d-947d-92cc14d59183"
      },
      "source": [
        "\n",
        "# nlags=36\n",
        "initial_epoch=0\n",
        "tf.random.set_seed(0)\n",
        "nfeatures = norm_features.shape[1]\n",
        "model = build_model(nlags=nlags, nfeatures=nfeatures)\n",
        "model.summary()"
      ],
      "execution_count": null,
      "outputs": [
        {
          "output_type": "stream",
          "text": [
            "Model: \"sequential\"\n",
            "_________________________________________________________________\n",
            "Layer (type)                 Output Shape              Param #   \n",
            "=================================================================\n",
            "lstm (LSTM)                  (None, 36, 12)            960       \n",
            "_________________________________________________________________\n",
            "dropout (Dropout)            (None, 36, 12)            0         \n",
            "_________________________________________________________________\n",
            "lstm_1 (LSTM)                (None, 12)                1200      \n",
            "_________________________________________________________________\n",
            "batch_normalization (BatchNo (None, 12)                48        \n",
            "_________________________________________________________________\n",
            "dense (Dense)                (None, 10)                130       \n",
            "_________________________________________________________________\n",
            "dense_1 (Dense)              (None, 5)                 55        \n",
            "_________________________________________________________________\n",
            "dense_2 (Dense)              (None, 1)                 6         \n",
            "=================================================================\n",
            "Total params: 2,399\n",
            "Trainable params: 2,375\n",
            "Non-trainable params: 24\n",
            "_________________________________________________________________\n"
          ],
          "name": "stdout"
        }
      ]
    },
    {
      "cell_type": "code",
      "metadata": {
        "id": "TPwsXtCK6H2-",
        "colab_type": "code",
        "colab": {
          "base_uri": "https://localhost:8080/",
          "height": 1000
        },
        "outputId": "86c1d529-e0dd-405e-8ac9-7cabf342b5c5"
      },
      "source": [
        "size = 10000\n",
        "\n",
        "train_data = inputs[:size]\n",
        "train_label = outputs[:size]\n",
        "\n",
        "class PrintDot(keras.callbacks.Callback):\n",
        "  def on_epoch_end(self, epoch, logs):\n",
        "    if epoch % 100 == 0: print('')\n",
        "    print('.', end='')\n",
        "\n",
        "log_dir = \"logs/fit/\" + dt.datetime.now().strftime(\"%Y%m%d-%H%M%S\")\n",
        "tensorboard_callback = tf.keras.callbacks.TensorBoard(log_dir=log_dir, histogram_freq=1)\n",
        "\n",
        "EPOCHS = 300\n",
        "tf.random.set_seed(1)\n",
        "history = model.fit(\n",
        "    train_data, train_label, batch_size=10000, shuffle=True ,epochs=EPOCHS, validation_split=0.2, \n",
        "    verbose=1, callbacks=[PrintDot(), tensorboard_callback])#, initial_epoch=initial_epoch)\n",
        "initial_epoch += EPOCHS\n",
        "print(initial_epoch)\n",
        "plot_history(history)"
      ],
      "execution_count": null,
      "outputs": [
        {
          "output_type": "stream",
          "text": [
            "Epoch 1/300\n",
            "1/1 [==============================] - ETA: 0s - loss: 0.9396 - right_direction: 49.5231 - mse: 1.9955\n",
            "1/1 [==============================] - 1s 725ms/step - loss: 0.9396 - right_direction: 49.5231 - mse: 1.9955 - val_loss: 0.3263 - val_right_direction: 50.5279 - val_mse: 0.3296\n",
            "Epoch 2/300\n",
            "WARNING:tensorflow:From /usr/local/lib/python3.6/dist-packages/tensorflow/python/ops/summary_ops_v2.py:1277: stop (from tensorflow.python.eager.profiler) is deprecated and will be removed after 2020-07-01.\n",
            "Instructions for updating:\n",
            "use `tf.profiler.experimental.stop` instead.\n",
            "1/1 [==============================] - 0s 37ms/step - loss: 0.8960 - right_direction: 49.1215 - mse: 1.8090 - val_loss: 0.3246 - val_right_direction: 51.0307 - val_mse: 0.3276\n",
            "Epoch 3/300\n",
            "1/1 [==============================] - 0s 36ms/step - loss: 0.8542 - right_direction: 49.2219 - mse: 1.6540 - val_loss: 0.3233 - val_right_direction: 50.9301 - val_mse: 0.3261\n",
            "Epoch 4/300\n",
            "1/1 [==============================] - 0s 37ms/step - loss: 0.8132 - right_direction: 49.5858 - mse: 1.5000 - val_loss: 0.3223 - val_right_direction: 50.5279 - val_mse: 0.3250\n",
            "Epoch 5/300\n",
            "1/1 [==============================] - 0s 37ms/step - loss: 0.7686 - right_direction: 49.7741 - mse: 1.3453 - val_loss: 0.3217 - val_right_direction: 51.1312 - val_mse: 0.3243\n",
            "Epoch 6/300\n",
            "1/1 [==============================] - 0s 42ms/step - loss: 0.7319 - right_direction: 49.6109 - mse: 1.2358 - val_loss: 0.3213 - val_right_direction: 51.2821 - val_mse: 0.3238\n",
            "Epoch 7/300\n",
            "1/1 [==============================] - 0s 35ms/step - loss: 0.6927 - right_direction: 50.1632 - mse: 1.1154 - val_loss: 0.3212 - val_right_direction: 51.5837 - val_mse: 0.3236\n",
            "Epoch 8/300\n",
            "1/1 [==============================] - 0s 35ms/step - loss: 0.6632 - right_direction: 50.1004 - mse: 1.0339 - val_loss: 0.3215 - val_right_direction: 50.5279 - val_mse: 0.3237\n",
            "Epoch 9/300\n",
            "1/1 [==============================] - 0s 38ms/step - loss: 0.6339 - right_direction: 50.0000 - mse: 0.9531 - val_loss: 0.3219 - val_right_direction: 49.7235 - val_mse: 0.3238\n",
            "Epoch 10/300\n",
            "1/1 [==============================] - 0s 41ms/step - loss: 0.6042 - right_direction: 51.4433 - mse: 0.8851 - val_loss: 0.3223 - val_right_direction: 49.9246 - val_mse: 0.3240\n",
            "Epoch 11/300\n",
            "1/1 [==============================] - 0s 37ms/step - loss: 0.5785 - right_direction: 51.8574 - mse: 0.8286 - val_loss: 0.3229 - val_right_direction: 49.9749 - val_mse: 0.3242\n",
            "Epoch 12/300\n",
            "1/1 [==============================] - 0s 41ms/step - loss: 0.5625 - right_direction: 51.1044 - mse: 0.7951 - val_loss: 0.3234 - val_right_direction: 49.7235 - val_mse: 0.3245\n",
            "Epoch 13/300\n",
            "1/1 [==============================] - 0s 38ms/step - loss: 0.5498 - right_direction: 50.6903 - mse: 0.7583 - val_loss: 0.3239 - val_right_direction: 49.5224 - val_mse: 0.3247\n",
            "Epoch 14/300\n",
            "1/1 [==============================] - 0s 35ms/step - loss: 0.5371 - right_direction: 50.9915 - mse: 0.7472 - val_loss: 0.3244 - val_right_direction: 49.4218 - val_mse: 0.3250\n",
            "Epoch 15/300\n",
            "1/1 [==============================] - 0s 37ms/step - loss: 0.5291 - right_direction: 49.9372 - mse: 0.7212 - val_loss: 0.3249 - val_right_direction: 49.9246 - val_mse: 0.3252\n",
            "Epoch 16/300\n",
            "1/1 [==============================] - 0s 39ms/step - loss: 0.5210 - right_direction: 50.8409 - mse: 0.7096 - val_loss: 0.3254 - val_right_direction: 50.2262 - val_mse: 0.3254\n",
            "Epoch 17/300\n",
            "1/1 [==============================] - 0s 38ms/step - loss: 0.5152 - right_direction: 50.2887 - mse: 0.7012 - val_loss: 0.3258 - val_right_direction: 50.4776 - val_mse: 0.3256\n",
            "Epoch 18/300\n",
            "1/1 [==============================] - 0s 40ms/step - loss: 0.5095 - right_direction: 51.0919 - mse: 0.6887 - val_loss: 0.3262 - val_right_direction: 50.4776 - val_mse: 0.3259\n",
            "Epoch 19/300\n",
            "1/1 [==============================] - 0s 40ms/step - loss: 0.5068 - right_direction: 50.5397 - mse: 0.6906 - val_loss: 0.3266 - val_right_direction: 50.5782 - val_mse: 0.3261\n",
            "Epoch 20/300\n",
            "1/1 [==============================] - 0s 39ms/step - loss: 0.5062 - right_direction: 50.9915 - mse: 0.6816 - val_loss: 0.3269 - val_right_direction: 50.5279 - val_mse: 0.3262\n",
            "Epoch 21/300\n",
            "1/1 [==============================] - 0s 33ms/step - loss: 0.5049 - right_direction: 51.3303 - mse: 0.6783 - val_loss: 0.3271 - val_right_direction: 50.5279 - val_mse: 0.3263\n",
            "Epoch 22/300\n",
            "1/1 [==============================] - 0s 41ms/step - loss: 0.4975 - right_direction: 51.9578 - mse: 0.6674 - val_loss: 0.3272 - val_right_direction: 50.5279 - val_mse: 0.3263\n",
            "Epoch 23/300\n",
            "1/1 [==============================] - 0s 37ms/step - loss: 0.4979 - right_direction: 50.8534 - mse: 0.6724 - val_loss: 0.3272 - val_right_direction: 50.5279 - val_mse: 0.3263\n",
            "Epoch 24/300\n",
            "1/1 [==============================] - 0s 37ms/step - loss: 0.4943 - right_direction: 51.1044 - mse: 0.6615 - val_loss: 0.3272 - val_right_direction: 50.4776 - val_mse: 0.3262\n",
            "Epoch 25/300\n",
            "1/1 [==============================] - 0s 33ms/step - loss: 0.4922 - right_direction: 51.5060 - mse: 0.6608 - val_loss: 0.3271 - val_right_direction: 50.4776 - val_mse: 0.3261\n",
            "Epoch 26/300\n",
            "1/1 [==============================] - 0s 45ms/step - loss: 0.4908 - right_direction: 51.0793 - mse: 0.6609 - val_loss: 0.3269 - val_right_direction: 50.4776 - val_mse: 0.3259\n",
            "Epoch 27/300\n",
            "1/1 [==============================] - 0s 37ms/step - loss: 0.4903 - right_direction: 51.5311 - mse: 0.6569 - val_loss: 0.3267 - val_right_direction: 50.4776 - val_mse: 0.3256\n",
            "Epoch 28/300\n",
            "1/1 [==============================] - 0s 35ms/step - loss: 0.4863 - right_direction: 51.1672 - mse: 0.6508 - val_loss: 0.3263 - val_right_direction: 50.5279 - val_mse: 0.3253\n",
            "Epoch 29/300\n",
            "1/1 [==============================] - 0s 39ms/step - loss: 0.4819 - right_direction: 51.5186 - mse: 0.6424 - val_loss: 0.3259 - val_right_direction: 50.5782 - val_mse: 0.3250\n",
            "Epoch 30/300\n",
            "1/1 [==============================] - 0s 38ms/step - loss: 0.4804 - right_direction: 51.7319 - mse: 0.6457 - val_loss: 0.3254 - val_right_direction: 50.5279 - val_mse: 0.3246\n",
            "Epoch 31/300\n",
            "1/1 [==============================] - 0s 34ms/step - loss: 0.4757 - right_direction: 51.9327 - mse: 0.6317 - val_loss: 0.3249 - val_right_direction: 50.5279 - val_mse: 0.3242\n",
            "Epoch 32/300\n",
            "1/1 [==============================] - 0s 36ms/step - loss: 0.4748 - right_direction: 51.8072 - mse: 0.6280 - val_loss: 0.3245 - val_right_direction: 50.4776 - val_mse: 0.3238\n",
            "Epoch 33/300\n",
            "1/1 [==============================] - 0s 41ms/step - loss: 0.4713 - right_direction: 51.8323 - mse: 0.6249 - val_loss: 0.3240 - val_right_direction: 50.4274 - val_mse: 0.3235\n",
            "Epoch 34/300\n",
            "1/1 [==============================] - 0s 34ms/step - loss: 0.4702 - right_direction: 52.6104 - mse: 0.6243 - val_loss: 0.3235 - val_right_direction: 50.4274 - val_mse: 0.3231\n",
            "Epoch 35/300\n",
            "1/1 [==============================] - 0s 37ms/step - loss: 0.4666 - right_direction: 51.2550 - mse: 0.6234 - val_loss: 0.3230 - val_right_direction: 50.3771 - val_mse: 0.3227\n",
            "Epoch 36/300\n",
            "1/1 [==============================] - 0s 49ms/step - loss: 0.4682 - right_direction: 51.1421 - mse: 0.6185 - val_loss: 0.3226 - val_right_direction: 50.3771 - val_mse: 0.3223\n",
            "Epoch 37/300\n",
            "1/1 [==============================] - 0s 36ms/step - loss: 0.4628 - right_direction: 52.2967 - mse: 0.6153 - val_loss: 0.3221 - val_right_direction: 50.3771 - val_mse: 0.3219\n",
            "Epoch 38/300\n",
            "1/1 [==============================] - 0s 38ms/step - loss: 0.4654 - right_direction: 51.5813 - mse: 0.6254 - val_loss: 0.3216 - val_right_direction: 50.2765 - val_mse: 0.3215\n",
            "Epoch 39/300\n",
            "1/1 [==============================] - 0s 35ms/step - loss: 0.4628 - right_direction: 51.2676 - mse: 0.6176 - val_loss: 0.3212 - val_right_direction: 50.2765 - val_mse: 0.3211\n",
            "Epoch 40/300\n",
            "1/1 [==============================] - 0s 60ms/step - loss: 0.4622 - right_direction: 51.0542 - mse: 0.6150 - val_loss: 0.3208 - val_right_direction: 50.2765 - val_mse: 0.3208\n",
            "Epoch 41/300\n",
            "1/1 [==============================] - 0s 75ms/step - loss: 0.4584 - right_direction: 52.0959 - mse: 0.6091 - val_loss: 0.3205 - val_right_direction: 50.2262 - val_mse: 0.3205\n",
            "Epoch 42/300\n",
            "1/1 [==============================] - 0s 38ms/step - loss: 0.4556 - right_direction: 51.4935 - mse: 0.6102 - val_loss: 0.3202 - val_right_direction: 50.2262 - val_mse: 0.3202\n",
            "Epoch 43/300\n",
            "1/1 [==============================] - 0s 34ms/step - loss: 0.4557 - right_direction: 51.6441 - mse: 0.6110 - val_loss: 0.3199 - val_right_direction: 50.2765 - val_mse: 0.3199\n",
            "Epoch 44/300\n",
            "1/1 [==============================] - 0s 38ms/step - loss: 0.4524 - right_direction: 51.7570 - mse: 0.6069 - val_loss: 0.3197 - val_right_direction: 50.3771 - val_mse: 0.3197\n",
            "Epoch 45/300\n",
            "1/1 [==============================] - 0s 35ms/step - loss: 0.4528 - right_direction: 51.4935 - mse: 0.6017 - val_loss: 0.3194 - val_right_direction: 50.4274 - val_mse: 0.3195\n",
            "Epoch 46/300\n",
            "1/1 [==============================] - 0s 41ms/step - loss: 0.4521 - right_direction: 52.0959 - mse: 0.6093 - val_loss: 0.3192 - val_right_direction: 50.4274 - val_mse: 0.3193\n",
            "Epoch 47/300\n",
            "1/1 [==============================] - 0s 38ms/step - loss: 0.4527 - right_direction: 51.5437 - mse: 0.6063 - val_loss: 0.3190 - val_right_direction: 50.3771 - val_mse: 0.3191\n",
            "Epoch 48/300\n",
            "1/1 [==============================] - 0s 38ms/step - loss: 0.4500 - right_direction: 51.8700 - mse: 0.6017 - val_loss: 0.3188 - val_right_direction: 50.5279 - val_mse: 0.3189\n",
            "Epoch 49/300\n",
            "1/1 [==============================] - 0s 37ms/step - loss: 0.4485 - right_direction: 51.6441 - mse: 0.5996 - val_loss: 0.3185 - val_right_direction: 50.5782 - val_mse: 0.3187\n",
            "Epoch 50/300\n",
            "1/1 [==============================] - 0s 36ms/step - loss: 0.4448 - right_direction: 51.7068 - mse: 0.5937 - val_loss: 0.3183 - val_right_direction: 50.5782 - val_mse: 0.3185\n",
            "Epoch 51/300\n",
            "1/1 [==============================] - 0s 37ms/step - loss: 0.4462 - right_direction: 52.5853 - mse: 0.5956 - val_loss: 0.3181 - val_right_direction: 50.4274 - val_mse: 0.3184\n",
            "Epoch 52/300\n",
            "1/1 [==============================] - 0s 43ms/step - loss: 0.4438 - right_direction: 51.7319 - mse: 0.5937 - val_loss: 0.3179 - val_right_direction: 50.3268 - val_mse: 0.3182\n",
            "Epoch 53/300\n",
            "1/1 [==============================] - 0s 36ms/step - loss: 0.4433 - right_direction: 51.7068 - mse: 0.5963 - val_loss: 0.3177 - val_right_direction: 50.1760 - val_mse: 0.3180\n",
            "Epoch 54/300\n",
            "1/1 [==============================] - 0s 40ms/step - loss: 0.4429 - right_direction: 51.7570 - mse: 0.5939 - val_loss: 0.3174 - val_right_direction: 50.2262 - val_mse: 0.3178\n",
            "Epoch 55/300\n",
            "1/1 [==============================] - 0s 38ms/step - loss: 0.4427 - right_direction: 51.4809 - mse: 0.5940 - val_loss: 0.3172 - val_right_direction: 50.6285 - val_mse: 0.3176\n",
            "Epoch 56/300\n",
            "1/1 [==============================] - 0s 33ms/step - loss: 0.4411 - right_direction: 51.9955 - mse: 0.5903 - val_loss: 0.3170 - val_right_direction: 50.6787 - val_mse: 0.3175\n",
            "Epoch 57/300\n",
            "1/1 [==============================] - 0s 36ms/step - loss: 0.4400 - right_direction: 52.3720 - mse: 0.5936 - val_loss: 0.3168 - val_right_direction: 50.7793 - val_mse: 0.3173\n",
            "Epoch 58/300\n",
            "1/1 [==============================] - 0s 41ms/step - loss: 0.4399 - right_direction: 52.2967 - mse: 0.5888 - val_loss: 0.3165 - val_right_direction: 50.8296 - val_mse: 0.3171\n",
            "Epoch 59/300\n",
            "1/1 [==============================] - 0s 37ms/step - loss: 0.4365 - right_direction: 52.1210 - mse: 0.5874 - val_loss: 0.3164 - val_right_direction: 50.8296 - val_mse: 0.3170\n",
            "Epoch 60/300\n",
            "1/1 [==============================] - 0s 34ms/step - loss: 0.4371 - right_direction: 52.5728 - mse: 0.5844 - val_loss: 0.3162 - val_right_direction: 51.0809 - val_mse: 0.3168\n",
            "Epoch 61/300\n",
            "1/1 [==============================] - 0s 38ms/step - loss: 0.4349 - right_direction: 52.1712 - mse: 0.5865 - val_loss: 0.3160 - val_right_direction: 50.8798 - val_mse: 0.3167\n",
            "Epoch 62/300\n",
            "1/1 [==============================] - 0s 35ms/step - loss: 0.4341 - right_direction: 52.1084 - mse: 0.5855 - val_loss: 0.3158 - val_right_direction: 50.8798 - val_mse: 0.3165\n",
            "Epoch 63/300\n",
            "1/1 [==============================] - 0s 36ms/step - loss: 0.4344 - right_direction: 52.4975 - mse: 0.5842 - val_loss: 0.3157 - val_right_direction: 50.6285 - val_mse: 0.3164\n",
            "Epoch 64/300\n",
            "1/1 [==============================] - 0s 38ms/step - loss: 0.4340 - right_direction: 52.6857 - mse: 0.5875 - val_loss: 0.3156 - val_right_direction: 50.0754 - val_mse: 0.3162\n",
            "Epoch 65/300\n",
            "1/1 [==============================] - 0s 34ms/step - loss: 0.4347 - right_direction: 52.4222 - mse: 0.5857 - val_loss: 0.3155 - val_right_direction: 50.0251 - val_mse: 0.3161\n",
            "Epoch 66/300\n",
            "1/1 [==============================] - 0s 36ms/step - loss: 0.4320 - right_direction: 53.5266 - mse: 0.5808 - val_loss: 0.3154 - val_right_direction: 49.8240 - val_mse: 0.3160\n",
            "Epoch 67/300\n",
            "1/1 [==============================] - 0s 36ms/step - loss: 0.4314 - right_direction: 52.7485 - mse: 0.5820 - val_loss: 0.3153 - val_right_direction: 50.1257 - val_mse: 0.3159\n",
            "Epoch 68/300\n",
            "1/1 [==============================] - 0s 34ms/step - loss: 0.4323 - right_direction: 52.2967 - mse: 0.5843 - val_loss: 0.3153 - val_right_direction: 49.9246 - val_mse: 0.3158\n",
            "Epoch 69/300\n",
            "1/1 [==============================] - 0s 38ms/step - loss: 0.4315 - right_direction: 53.2129 - mse: 0.5832 - val_loss: 0.3152 - val_right_direction: 49.9246 - val_mse: 0.3158\n",
            "Epoch 70/300\n",
            "1/1 [==============================] - 0s 37ms/step - loss: 0.4309 - right_direction: 52.4096 - mse: 0.5774 - val_loss: 0.3152 - val_right_direction: 49.8743 - val_mse: 0.3157\n",
            "Epoch 71/300\n",
            "1/1 [==============================] - 0s 40ms/step - loss: 0.4305 - right_direction: 52.4598 - mse: 0.5795 - val_loss: 0.3152 - val_right_direction: 50.2262 - val_mse: 0.3156\n",
            "Epoch 72/300\n",
            "1/1 [==============================] - 0s 37ms/step - loss: 0.4296 - right_direction: 52.0582 - mse: 0.5769 - val_loss: 0.3152 - val_right_direction: 50.1257 - val_mse: 0.3156\n",
            "Epoch 73/300\n",
            "1/1 [==============================] - 0s 38ms/step - loss: 0.4275 - right_direction: 52.5853 - mse: 0.5784 - val_loss: 0.3152 - val_right_direction: 50.5279 - val_mse: 0.3155\n",
            "Epoch 74/300\n",
            "1/1 [==============================] - 0s 33ms/step - loss: 0.4276 - right_direction: 52.9618 - mse: 0.5738 - val_loss: 0.3152 - val_right_direction: 50.5279 - val_mse: 0.3155\n",
            "Epoch 75/300\n",
            "1/1 [==============================] - 0s 35ms/step - loss: 0.4276 - right_direction: 52.9493 - mse: 0.5739 - val_loss: 0.3152 - val_right_direction: 50.4776 - val_mse: 0.3154\n",
            "Epoch 76/300\n",
            "1/1 [==============================] - 0s 48ms/step - loss: 0.4284 - right_direction: 52.3594 - mse: 0.5721 - val_loss: 0.3152 - val_right_direction: 50.2765 - val_mse: 0.3154\n",
            "Epoch 77/300\n",
            "1/1 [==============================] - 0s 37ms/step - loss: 0.4278 - right_direction: 52.3720 - mse: 0.5763 - val_loss: 0.3152 - val_right_direction: 50.5782 - val_mse: 0.3154\n",
            "Epoch 78/300\n",
            "1/1 [==============================] - 0s 36ms/step - loss: 0.4251 - right_direction: 52.8363 - mse: 0.5675 - val_loss: 0.3153 - val_right_direction: 50.6787 - val_mse: 0.3154\n",
            "Epoch 79/300\n",
            "1/1 [==============================] - 0s 40ms/step - loss: 0.4252 - right_direction: 52.1837 - mse: 0.5681 - val_loss: 0.3153 - val_right_direction: 50.4274 - val_mse: 0.3154\n",
            "Epoch 80/300\n",
            "1/1 [==============================] - 0s 33ms/step - loss: 0.4265 - right_direction: 53.1878 - mse: 0.5705 - val_loss: 0.3153 - val_right_direction: 49.8743 - val_mse: 0.3153\n",
            "Epoch 81/300\n",
            "1/1 [==============================] - 0s 36ms/step - loss: 0.4259 - right_direction: 52.8740 - mse: 0.5722 - val_loss: 0.3154 - val_right_direction: 49.6229 - val_mse: 0.3153\n",
            "Epoch 82/300\n",
            "1/1 [==============================] - 0s 38ms/step - loss: 0.4261 - right_direction: 52.8489 - mse: 0.5739 - val_loss: 0.3154 - val_right_direction: 49.7235 - val_mse: 0.3153\n",
            "Epoch 83/300\n",
            "1/1 [==============================] - 0s 38ms/step - loss: 0.4237 - right_direction: 53.5392 - mse: 0.5686 - val_loss: 0.3154 - val_right_direction: 49.6732 - val_mse: 0.3153\n",
            "Epoch 84/300\n",
            "1/1 [==============================] - 0s 39ms/step - loss: 0.4266 - right_direction: 53.0246 - mse: 0.5678 - val_loss: 0.3154 - val_right_direction: 50.0754 - val_mse: 0.3153\n",
            "Epoch 85/300\n",
            "1/1 [==============================] - 0s 40ms/step - loss: 0.4231 - right_direction: 54.5181 - mse: 0.5716 - val_loss: 0.3155 - val_right_direction: 50.0754 - val_mse: 0.3153\n",
            "Epoch 86/300\n",
            "1/1 [==============================] - 0s 36ms/step - loss: 0.4240 - right_direction: 53.6019 - mse: 0.5737 - val_loss: 0.3155 - val_right_direction: 49.8240 - val_mse: 0.3153\n",
            "Epoch 87/300\n",
            "1/1 [==============================] - 0s 34ms/step - loss: 0.4234 - right_direction: 53.2254 - mse: 0.5678 - val_loss: 0.3155 - val_right_direction: 49.9246 - val_mse: 0.3152\n",
            "Epoch 88/300\n",
            "1/1 [==============================] - 0s 35ms/step - loss: 0.4232 - right_direction: 53.4890 - mse: 0.5666 - val_loss: 0.3155 - val_right_direction: 49.6732 - val_mse: 0.3152\n",
            "Epoch 89/300\n",
            "1/1 [==============================] - 0s 35ms/step - loss: 0.4224 - right_direction: 53.8655 - mse: 0.5658 - val_loss: 0.3156 - val_right_direction: 49.8743 - val_mse: 0.3152\n",
            "Epoch 90/300\n",
            "1/1 [==============================] - 0s 42ms/step - loss: 0.4216 - right_direction: 53.8655 - mse: 0.5651 - val_loss: 0.3156 - val_right_direction: 49.9246 - val_mse: 0.3152\n",
            "Epoch 91/300\n",
            "1/1 [==============================] - 0s 34ms/step - loss: 0.4225 - right_direction: 53.2003 - mse: 0.5685 - val_loss: 0.3156 - val_right_direction: 50.1760 - val_mse: 0.3151\n",
            "Epoch 92/300\n",
            "1/1 [==============================] - 0s 36ms/step - loss: 0.4211 - right_direction: 54.1918 - mse: 0.5676 - val_loss: 0.3157 - val_right_direction: 50.3771 - val_mse: 0.3151\n",
            "Epoch 93/300\n",
            "1/1 [==============================] - 0s 38ms/step - loss: 0.4219 - right_direction: 53.5768 - mse: 0.5681 - val_loss: 0.3157 - val_right_direction: 50.4274 - val_mse: 0.3151\n",
            "Epoch 94/300\n",
            "1/1 [==============================] - 0s 37ms/step - loss: 0.4206 - right_direction: 54.0035 - mse: 0.5640 - val_loss: 0.3158 - val_right_direction: 50.3268 - val_mse: 0.3151\n",
            "Epoch 95/300\n",
            "1/1 [==============================] - 0s 37ms/step - loss: 0.4211 - right_direction: 54.3173 - mse: 0.5710 - val_loss: 0.3159 - val_right_direction: 50.4274 - val_mse: 0.3150\n",
            "Epoch 96/300\n",
            "1/1 [==============================] - 0s 36ms/step - loss: 0.4204 - right_direction: 53.4890 - mse: 0.5660 - val_loss: 0.3159 - val_right_direction: 50.4274 - val_mse: 0.3150\n",
            "Epoch 97/300\n",
            "1/1 [==============================] - 0s 33ms/step - loss: 0.4190 - right_direction: 54.0663 - mse: 0.5640 - val_loss: 0.3159 - val_right_direction: 50.3268 - val_mse: 0.3150\n",
            "Epoch 98/300\n",
            "1/1 [==============================] - 0s 36ms/step - loss: 0.4188 - right_direction: 55.1456 - mse: 0.5630 - val_loss: 0.3159 - val_right_direction: 50.4776 - val_mse: 0.3150\n",
            "Epoch 99/300\n",
            "1/1 [==============================] - 0s 41ms/step - loss: 0.4208 - right_direction: 53.8529 - mse: 0.5659 - val_loss: 0.3159 - val_right_direction: 50.4776 - val_mse: 0.3150\n",
            "Epoch 100/300\n",
            "1/1 [==============================] - 0s 36ms/step - loss: 0.4196 - right_direction: 53.9408 - mse: 0.5644 - val_loss: 0.3159 - val_right_direction: 50.4776 - val_mse: 0.3150\n",
            "Epoch 101/300\n",
            "1/1 [==============================] - ETA: 0s - loss: 0.4184 - right_direction: 53.8780 - mse: 0.5600\n",
            "1/1 [==============================] - 0s 35ms/step - loss: 0.4184 - right_direction: 53.8780 - mse: 0.5600 - val_loss: 0.3159 - val_right_direction: 50.6787 - val_mse: 0.3150\n",
            "Epoch 102/300\n",
            "1/1 [==============================] - 0s 33ms/step - loss: 0.4188 - right_direction: 54.2545 - mse: 0.5613 - val_loss: 0.3159 - val_right_direction: 50.7793 - val_mse: 0.3150\n",
            "Epoch 103/300\n",
            "1/1 [==============================] - 0s 39ms/step - loss: 0.4202 - right_direction: 53.5894 - mse: 0.5638 - val_loss: 0.3159 - val_right_direction: 50.7290 - val_mse: 0.3150\n",
            "Epoch 104/300\n",
            "1/1 [==============================] - 0s 39ms/step - loss: 0.4177 - right_direction: 53.6521 - mse: 0.5613 - val_loss: 0.3160 - val_right_direction: 50.7290 - val_mse: 0.3150\n",
            "Epoch 105/300\n",
            "1/1 [==============================] - 0s 36ms/step - loss: 0.4179 - right_direction: 54.5683 - mse: 0.5617 - val_loss: 0.3160 - val_right_direction: 50.9301 - val_mse: 0.3150\n",
            "Epoch 106/300\n",
            "1/1 [==============================] - 0s 35ms/step - loss: 0.4187 - right_direction: 53.9659 - mse: 0.5641 - val_loss: 0.3160 - val_right_direction: 50.8798 - val_mse: 0.3150\n",
            "Epoch 107/300\n",
            "1/1 [==============================] - 0s 37ms/step - loss: 0.4180 - right_direction: 54.0161 - mse: 0.5649 - val_loss: 0.3161 - val_right_direction: 50.8296 - val_mse: 0.3150\n",
            "Epoch 108/300\n",
            "1/1 [==============================] - 0s 34ms/step - loss: 0.4170 - right_direction: 54.0788 - mse: 0.5591 - val_loss: 0.3161 - val_right_direction: 50.7290 - val_mse: 0.3150\n",
            "Epoch 109/300\n",
            "1/1 [==============================] - 0s 35ms/step - loss: 0.4165 - right_direction: 54.3800 - mse: 0.5605 - val_loss: 0.3162 - val_right_direction: 50.7793 - val_mse: 0.3149\n",
            "Epoch 110/300\n",
            "1/1 [==============================] - 0s 37ms/step - loss: 0.4176 - right_direction: 54.4302 - mse: 0.5613 - val_loss: 0.3163 - val_right_direction: 50.7290 - val_mse: 0.3149\n",
            "Epoch 111/300\n",
            "1/1 [==============================] - 0s 34ms/step - loss: 0.4167 - right_direction: 54.2796 - mse: 0.5588 - val_loss: 0.3163 - val_right_direction: 50.6285 - val_mse: 0.3149\n",
            "Epoch 112/300\n",
            "1/1 [==============================] - 0s 37ms/step - loss: 0.4167 - right_direction: 54.4804 - mse: 0.5611 - val_loss: 0.3163 - val_right_direction: 50.6787 - val_mse: 0.3149\n",
            "Epoch 113/300\n",
            "1/1 [==============================] - 0s 36ms/step - loss: 0.4174 - right_direction: 54.1792 - mse: 0.5601 - val_loss: 0.3164 - val_right_direction: 50.5782 - val_mse: 0.3149\n",
            "Epoch 114/300\n",
            "1/1 [==============================] - 0s 39ms/step - loss: 0.4160 - right_direction: 53.7525 - mse: 0.5598 - val_loss: 0.3164 - val_right_direction: 50.5782 - val_mse: 0.3148\n",
            "Epoch 115/300\n",
            "1/1 [==============================] - 0s 37ms/step - loss: 0.4159 - right_direction: 54.5934 - mse: 0.5614 - val_loss: 0.3164 - val_right_direction: 50.7793 - val_mse: 0.3148\n",
            "Epoch 116/300\n",
            "1/1 [==============================] - 0s 34ms/step - loss: 0.4161 - right_direction: 53.8404 - mse: 0.5590 - val_loss: 0.3164 - val_right_direction: 50.6787 - val_mse: 0.3148\n",
            "Epoch 117/300\n",
            "1/1 [==============================] - 0s 42ms/step - loss: 0.4164 - right_direction: 54.2043 - mse: 0.5619 - val_loss: 0.3164 - val_right_direction: 50.7290 - val_mse: 0.3148\n",
            "Epoch 118/300\n",
            "1/1 [==============================] - 0s 42ms/step - loss: 0.4167 - right_direction: 54.2796 - mse: 0.5599 - val_loss: 0.3164 - val_right_direction: 50.6787 - val_mse: 0.3147\n",
            "Epoch 119/300\n",
            "1/1 [==============================] - 0s 33ms/step - loss: 0.4143 - right_direction: 54.7816 - mse: 0.5567 - val_loss: 0.3164 - val_right_direction: 50.8296 - val_mse: 0.3147\n",
            "Epoch 120/300\n",
            "1/1 [==============================] - 0s 49ms/step - loss: 0.4140 - right_direction: 55.0452 - mse: 0.5568 - val_loss: 0.3164 - val_right_direction: 50.9301 - val_mse: 0.3147\n",
            "Epoch 121/300\n",
            "1/1 [==============================] - 0s 33ms/step - loss: 0.4129 - right_direction: 55.3213 - mse: 0.5567 - val_loss: 0.3164 - val_right_direction: 51.1312 - val_mse: 0.3146\n",
            "Epoch 122/300\n",
            "1/1 [==============================] - 0s 38ms/step - loss: 0.4149 - right_direction: 54.4177 - mse: 0.5569 - val_loss: 0.3164 - val_right_direction: 51.1312 - val_mse: 0.3146\n",
            "Epoch 123/300\n",
            "1/1 [==============================] - 0s 36ms/step - loss: 0.4143 - right_direction: 54.8193 - mse: 0.5594 - val_loss: 0.3164 - val_right_direction: 51.1312 - val_mse: 0.3146\n",
            "Epoch 124/300\n",
            "1/1 [==============================] - 0s 36ms/step - loss: 0.4137 - right_direction: 54.5306 - mse: 0.5552 - val_loss: 0.3163 - val_right_direction: 51.2318 - val_mse: 0.3145\n",
            "Epoch 125/300\n",
            "1/1 [==============================] - 0s 40ms/step - loss: 0.4141 - right_direction: 55.5974 - mse: 0.5598 - val_loss: 0.3163 - val_right_direction: 51.1815 - val_mse: 0.3145\n",
            "Epoch 126/300\n",
            "1/1 [==============================] - 0s 36ms/step - loss: 0.4138 - right_direction: 54.5055 - mse: 0.5546 - val_loss: 0.3163 - val_right_direction: 51.1815 - val_mse: 0.3144\n",
            "Epoch 127/300\n",
            "1/1 [==============================] - 0s 36ms/step - loss: 0.4143 - right_direction: 54.9824 - mse: 0.5588 - val_loss: 0.3163 - val_right_direction: 51.1312 - val_mse: 0.3144\n",
            "Epoch 128/300\n",
            "1/1 [==============================] - 0s 39ms/step - loss: 0.4132 - right_direction: 55.6852 - mse: 0.5558 - val_loss: 0.3163 - val_right_direction: 51.2318 - val_mse: 0.3144\n",
            "Epoch 129/300\n",
            "1/1 [==============================] - 0s 34ms/step - loss: 0.4126 - right_direction: 55.5221 - mse: 0.5550 - val_loss: 0.3163 - val_right_direction: 51.3323 - val_mse: 0.3143\n",
            "Epoch 130/300\n",
            "1/1 [==============================] - 0s 39ms/step - loss: 0.4145 - right_direction: 54.7314 - mse: 0.5569 - val_loss: 0.3163 - val_right_direction: 51.4329 - val_mse: 0.3143\n",
            "Epoch 131/300\n",
            "1/1 [==============================] - 0s 36ms/step - loss: 0.4110 - right_direction: 55.0577 - mse: 0.5553 - val_loss: 0.3163 - val_right_direction: 51.4832 - val_mse: 0.3143\n",
            "Epoch 132/300\n",
            "1/1 [==============================] - 0s 38ms/step - loss: 0.4133 - right_direction: 55.1958 - mse: 0.5593 - val_loss: 0.3163 - val_right_direction: 51.5837 - val_mse: 0.3143\n",
            "Epoch 133/300\n",
            "1/1 [==============================] - 0s 36ms/step - loss: 0.4118 - right_direction: 55.4342 - mse: 0.5539 - val_loss: 0.3163 - val_right_direction: 51.6340 - val_mse: 0.3143\n",
            "Epoch 134/300\n",
            "1/1 [==============================] - 0s 35ms/step - loss: 0.4133 - right_direction: 55.1707 - mse: 0.5537 - val_loss: 0.3163 - val_right_direction: 51.7345 - val_mse: 0.3143\n",
            "Epoch 135/300\n",
            "1/1 [==============================] - 0s 36ms/step - loss: 0.4133 - right_direction: 55.4217 - mse: 0.5573 - val_loss: 0.3164 - val_right_direction: 51.7848 - val_mse: 0.3143\n",
            "Epoch 136/300\n",
            "1/1 [==============================] - 0s 33ms/step - loss: 0.4117 - right_direction: 55.5472 - mse: 0.5508 - val_loss: 0.3164 - val_right_direction: 51.8351 - val_mse: 0.3142\n",
            "Epoch 137/300\n",
            "1/1 [==============================] - 0s 37ms/step - loss: 0.4112 - right_direction: 55.8609 - mse: 0.5538 - val_loss: 0.3164 - val_right_direction: 51.9356 - val_mse: 0.3142\n",
            "Epoch 138/300\n",
            "1/1 [==============================] - 0s 39ms/step - loss: 0.4114 - right_direction: 55.5597 - mse: 0.5546 - val_loss: 0.3164 - val_right_direction: 51.7848 - val_mse: 0.3142\n",
            "Epoch 139/300\n",
            "1/1 [==============================] - 0s 38ms/step - loss: 0.4108 - right_direction: 54.9071 - mse: 0.5504 - val_loss: 0.3164 - val_right_direction: 51.8351 - val_mse: 0.3141\n",
            "Epoch 140/300\n",
            "1/1 [==============================] - 0s 35ms/step - loss: 0.4121 - right_direction: 55.5848 - mse: 0.5571 - val_loss: 0.3164 - val_right_direction: 51.8854 - val_mse: 0.3141\n",
            "Epoch 141/300\n",
            "1/1 [==============================] - 0s 35ms/step - loss: 0.4119 - right_direction: 54.8946 - mse: 0.5532 - val_loss: 0.3164 - val_right_direction: 51.6843 - val_mse: 0.3141\n",
            "Epoch 142/300\n",
            "1/1 [==============================] - 0s 33ms/step - loss: 0.4101 - right_direction: 56.0994 - mse: 0.5531 - val_loss: 0.3164 - val_right_direction: 51.6843 - val_mse: 0.3140\n",
            "Epoch 143/300\n",
            "1/1 [==============================] - 0s 35ms/step - loss: 0.4109 - right_direction: 55.9237 - mse: 0.5528 - val_loss: 0.3164 - val_right_direction: 51.7848 - val_mse: 0.3140\n",
            "Epoch 144/300\n",
            "1/1 [==============================] - 0s 40ms/step - loss: 0.4123 - right_direction: 55.6225 - mse: 0.5540 - val_loss: 0.3164 - val_right_direction: 51.6843 - val_mse: 0.3139\n",
            "Epoch 145/300\n",
            "1/1 [==============================] - 0s 37ms/step - loss: 0.4091 - right_direction: 56.2500 - mse: 0.5501 - val_loss: 0.3164 - val_right_direction: 51.6340 - val_mse: 0.3139\n",
            "Epoch 146/300\n",
            "1/1 [==============================] - 0s 36ms/step - loss: 0.4096 - right_direction: 55.7103 - mse: 0.5507 - val_loss: 0.3164 - val_right_direction: 51.5837 - val_mse: 0.3138\n",
            "Epoch 147/300\n",
            "1/1 [==============================] - 0s 34ms/step - loss: 0.4107 - right_direction: 55.5723 - mse: 0.5521 - val_loss: 0.3164 - val_right_direction: 51.5334 - val_mse: 0.3138\n",
            "Epoch 148/300\n",
            "1/1 [==============================] - 0s 38ms/step - loss: 0.4101 - right_direction: 55.9739 - mse: 0.5504 - val_loss: 0.3164 - val_right_direction: 51.6340 - val_mse: 0.3138\n",
            "Epoch 149/300\n",
            "1/1 [==============================] - 0s 36ms/step - loss: 0.4110 - right_direction: 55.3840 - mse: 0.5512 - val_loss: 0.3164 - val_right_direction: 51.6340 - val_mse: 0.3137\n",
            "Epoch 150/300\n",
            "1/1 [==============================] - 0s 33ms/step - loss: 0.4102 - right_direction: 55.6350 - mse: 0.5491 - val_loss: 0.3164 - val_right_direction: 51.7345 - val_mse: 0.3137\n",
            "Epoch 151/300\n",
            "1/1 [==============================] - 0s 35ms/step - loss: 0.4087 - right_direction: 55.9990 - mse: 0.5502 - val_loss: 0.3164 - val_right_direction: 51.6340 - val_mse: 0.3136\n",
            "Epoch 152/300\n",
            "1/1 [==============================] - 0s 34ms/step - loss: 0.4095 - right_direction: 55.7731 - mse: 0.5511 - val_loss: 0.3164 - val_right_direction: 51.5334 - val_mse: 0.3136\n",
            "Epoch 153/300\n",
            "1/1 [==============================] - 0s 34ms/step - loss: 0.4107 - right_direction: 55.4468 - mse: 0.5556 - val_loss: 0.3163 - val_right_direction: 51.3323 - val_mse: 0.3136\n",
            "Epoch 154/300\n",
            "1/1 [==============================] - 0s 40ms/step - loss: 0.4096 - right_direction: 55.7856 - mse: 0.5502 - val_loss: 0.3163 - val_right_direction: 51.1815 - val_mse: 0.3135\n",
            "Epoch 155/300\n",
            "1/1 [==============================] - 0s 32ms/step - loss: 0.4105 - right_direction: 56.1371 - mse: 0.5535 - val_loss: 0.3162 - val_right_direction: 51.3826 - val_mse: 0.3135\n",
            "Epoch 156/300\n",
            "1/1 [==============================] - 0s 35ms/step - loss: 0.4092 - right_direction: 56.7144 - mse: 0.5507 - val_loss: 0.3162 - val_right_direction: 51.7345 - val_mse: 0.3135\n",
            "Epoch 157/300\n",
            "1/1 [==============================] - 0s 35ms/step - loss: 0.4083 - right_direction: 55.6476 - mse: 0.5457 - val_loss: 0.3161 - val_right_direction: 51.5334 - val_mse: 0.3134\n",
            "Epoch 158/300\n",
            "1/1 [==============================] - 0s 32ms/step - loss: 0.4085 - right_direction: 56.3379 - mse: 0.5492 - val_loss: 0.3161 - val_right_direction: 51.6843 - val_mse: 0.3134\n",
            "Epoch 159/300\n",
            "1/1 [==============================] - 0s 39ms/step - loss: 0.4079 - right_direction: 56.2123 - mse: 0.5506 - val_loss: 0.3160 - val_right_direction: 51.5334 - val_mse: 0.3133\n",
            "Epoch 160/300\n",
            "1/1 [==============================] - 0s 39ms/step - loss: 0.4074 - right_direction: 56.5512 - mse: 0.5444 - val_loss: 0.3160 - val_right_direction: 51.4329 - val_mse: 0.3133\n",
            "Epoch 161/300\n",
            "1/1 [==============================] - 0s 35ms/step - loss: 0.4079 - right_direction: 56.8524 - mse: 0.5481 - val_loss: 0.3159 - val_right_direction: 51.5837 - val_mse: 0.3133\n",
            "Epoch 162/300\n",
            "1/1 [==============================] - 0s 41ms/step - loss: 0.4060 - right_direction: 56.7771 - mse: 0.5468 - val_loss: 0.3159 - val_right_direction: 51.5334 - val_mse: 0.3133\n",
            "Epoch 163/300\n",
            "1/1 [==============================] - 0s 35ms/step - loss: 0.4075 - right_direction: 56.4257 - mse: 0.5475 - val_loss: 0.3160 - val_right_direction: 51.4832 - val_mse: 0.3132\n",
            "Epoch 164/300\n",
            "1/1 [==============================] - 0s 33ms/step - loss: 0.4081 - right_direction: 56.6642 - mse: 0.5479 - val_loss: 0.3160 - val_right_direction: 51.4329 - val_mse: 0.3132\n",
            "Epoch 165/300\n",
            "1/1 [==============================] - 0s 39ms/step - loss: 0.4069 - right_direction: 56.4132 - mse: 0.5478 - val_loss: 0.3160 - val_right_direction: 51.3826 - val_mse: 0.3131\n",
            "Epoch 166/300\n",
            "1/1 [==============================] - 0s 36ms/step - loss: 0.4070 - right_direction: 56.0366 - mse: 0.5479 - val_loss: 0.3160 - val_right_direction: 51.5334 - val_mse: 0.3131\n",
            "Epoch 167/300\n",
            "1/1 [==============================] - 0s 40ms/step - loss: 0.4076 - right_direction: 55.7229 - mse: 0.5448 - val_loss: 0.3161 - val_right_direction: 51.5837 - val_mse: 0.3131\n",
            "Epoch 168/300\n",
            "1/1 [==============================] - 0s 38ms/step - loss: 0.4071 - right_direction: 56.6014 - mse: 0.5481 - val_loss: 0.3161 - val_right_direction: 51.5837 - val_mse: 0.3130\n",
            "Epoch 169/300\n",
            "1/1 [==============================] - 0s 34ms/step - loss: 0.4073 - right_direction: 56.4759 - mse: 0.5495 - val_loss: 0.3160 - val_right_direction: 51.5334 - val_mse: 0.3130\n",
            "Epoch 170/300\n",
            "1/1 [==============================] - 0s 35ms/step - loss: 0.4077 - right_direction: 56.2877 - mse: 0.5471 - val_loss: 0.3160 - val_right_direction: 51.3826 - val_mse: 0.3129\n",
            "Epoch 171/300\n",
            "1/1 [==============================] - 0s 35ms/step - loss: 0.4073 - right_direction: 56.1371 - mse: 0.5489 - val_loss: 0.3159 - val_right_direction: 51.2318 - val_mse: 0.3129\n",
            "Epoch 172/300\n",
            "1/1 [==============================] - 0s 35ms/step - loss: 0.4061 - right_direction: 57.0658 - mse: 0.5453 - val_loss: 0.3158 - val_right_direction: 51.1815 - val_mse: 0.3129\n",
            "Epoch 173/300\n",
            "1/1 [==============================] - 0s 36ms/step - loss: 0.4053 - right_direction: 56.9654 - mse: 0.5446 - val_loss: 0.3158 - val_right_direction: 50.9804 - val_mse: 0.3129\n",
            "Epoch 174/300\n",
            "1/1 [==============================] - 0s 42ms/step - loss: 0.4053 - right_direction: 56.6642 - mse: 0.5475 - val_loss: 0.3157 - val_right_direction: 50.7793 - val_mse: 0.3129\n",
            "Epoch 175/300\n",
            "1/1 [==============================] - 0s 35ms/step - loss: 0.4068 - right_direction: 55.7856 - mse: 0.5460 - val_loss: 0.3156 - val_right_direction: 50.8296 - val_mse: 0.3129\n",
            "Epoch 176/300\n",
            "1/1 [==============================] - 0s 38ms/step - loss: 0.4051 - right_direction: 56.5763 - mse: 0.5447 - val_loss: 0.3156 - val_right_direction: 50.7793 - val_mse: 0.3128\n",
            "Epoch 177/300\n",
            "1/1 [==============================] - 0s 36ms/step - loss: 0.4061 - right_direction: 55.6099 - mse: 0.5460 - val_loss: 0.3156 - val_right_direction: 50.6285 - val_mse: 0.3128\n",
            "Epoch 178/300\n",
            "1/1 [==============================] - 0s 34ms/step - loss: 0.4049 - right_direction: 57.2917 - mse: 0.5432 - val_loss: 0.3156 - val_right_direction: 50.7793 - val_mse: 0.3128\n",
            "Epoch 179/300\n",
            "1/1 [==============================] - 0s 34ms/step - loss: 0.4066 - right_direction: 56.0743 - mse: 0.5445 - val_loss: 0.3156 - val_right_direction: 51.0809 - val_mse: 0.3128\n",
            "Epoch 180/300\n",
            "1/1 [==============================] - 0s 37ms/step - loss: 0.4059 - right_direction: 56.9277 - mse: 0.5463 - val_loss: 0.3157 - val_right_direction: 51.0307 - val_mse: 0.3127\n",
            "Epoch 181/300\n",
            "1/1 [==============================] - 0s 34ms/step - loss: 0.4055 - right_direction: 56.9152 - mse: 0.5451 - val_loss: 0.3157 - val_right_direction: 51.3323 - val_mse: 0.3127\n",
            "Epoch 182/300\n",
            "1/1 [==============================] - 0s 35ms/step - loss: 0.4052 - right_direction: 56.5763 - mse: 0.5428 - val_loss: 0.3158 - val_right_direction: 51.2318 - val_mse: 0.3127\n",
            "Epoch 183/300\n",
            "1/1 [==============================] - 0s 37ms/step - loss: 0.4058 - right_direction: 56.2877 - mse: 0.5427 - val_loss: 0.3158 - val_right_direction: 51.3323 - val_mse: 0.3127\n",
            "Epoch 184/300\n",
            "1/1 [==============================] - 0s 37ms/step - loss: 0.4038 - right_direction: 57.4172 - mse: 0.5437 - val_loss: 0.3158 - val_right_direction: 51.3826 - val_mse: 0.3127\n",
            "Epoch 185/300\n",
            "1/1 [==============================] - 0s 34ms/step - loss: 0.4041 - right_direction: 57.0783 - mse: 0.5427 - val_loss: 0.3158 - val_right_direction: 51.3323 - val_mse: 0.3127\n",
            "Epoch 186/300\n",
            "1/1 [==============================] - 0s 34ms/step - loss: 0.4047 - right_direction: 56.7018 - mse: 0.5424 - val_loss: 0.3158 - val_right_direction: 51.1312 - val_mse: 0.3127\n",
            "Epoch 187/300\n",
            "1/1 [==============================] - 0s 35ms/step - loss: 0.4054 - right_direction: 57.3042 - mse: 0.5470 - val_loss: 0.3157 - val_right_direction: 51.1312 - val_mse: 0.3127\n",
            "Epoch 188/300\n",
            "1/1 [==============================] - 0s 42ms/step - loss: 0.4054 - right_direction: 56.1621 - mse: 0.5427 - val_loss: 0.3157 - val_right_direction: 51.1815 - val_mse: 0.3127\n",
            "Epoch 189/300\n",
            "1/1 [==============================] - 0s 32ms/step - loss: 0.4044 - right_direction: 56.1621 - mse: 0.5417 - val_loss: 0.3157 - val_right_direction: 50.7793 - val_mse: 0.3127\n",
            "Epoch 190/300\n",
            "1/1 [==============================] - 0s 34ms/step - loss: 0.4036 - right_direction: 56.9152 - mse: 0.5412 - val_loss: 0.3156 - val_right_direction: 50.7793 - val_mse: 0.3128\n",
            "Epoch 191/300\n",
            "1/1 [==============================] - 0s 37ms/step - loss: 0.4051 - right_direction: 56.9654 - mse: 0.5432 - val_loss: 0.3156 - val_right_direction: 50.8798 - val_mse: 0.3127\n",
            "Epoch 192/300\n",
            "1/1 [==============================] - 0s 35ms/step - loss: 0.4051 - right_direction: 56.5387 - mse: 0.5424 - val_loss: 0.3155 - val_right_direction: 50.7290 - val_mse: 0.3127\n",
            "Epoch 193/300\n",
            "1/1 [==============================] - 0s 36ms/step - loss: 0.4031 - right_direction: 56.7520 - mse: 0.5375 - val_loss: 0.3155 - val_right_direction: 50.7290 - val_mse: 0.3127\n",
            "Epoch 194/300\n",
            "1/1 [==============================] - 0s 35ms/step - loss: 0.4040 - right_direction: 56.8148 - mse: 0.5444 - val_loss: 0.3155 - val_right_direction: 50.7290 - val_mse: 0.3127\n",
            "Epoch 195/300\n",
            "1/1 [==============================] - 0s 37ms/step - loss: 0.4061 - right_direction: 55.4719 - mse: 0.5472 - val_loss: 0.3156 - val_right_direction: 50.7290 - val_mse: 0.3127\n",
            "Epoch 196/300\n",
            "1/1 [==============================] - 0s 33ms/step - loss: 0.4034 - right_direction: 57.2164 - mse: 0.5403 - val_loss: 0.3156 - val_right_direction: 50.6787 - val_mse: 0.3126\n",
            "Epoch 197/300\n",
            "1/1 [==============================] - 0s 36ms/step - loss: 0.4027 - right_direction: 57.4423 - mse: 0.5404 - val_loss: 0.3156 - val_right_direction: 50.6285 - val_mse: 0.3126\n",
            "Epoch 198/300\n",
            "1/1 [==============================] - 0s 34ms/step - loss: 0.4035 - right_direction: 56.7018 - mse: 0.5410 - val_loss: 0.3157 - val_right_direction: 50.5279 - val_mse: 0.3126\n",
            "Epoch 199/300\n",
            "1/1 [==============================] - 0s 37ms/step - loss: 0.4038 - right_direction: 56.4508 - mse: 0.5444 - val_loss: 0.3157 - val_right_direction: 50.5279 - val_mse: 0.3125\n",
            "Epoch 200/300\n",
            "1/1 [==============================] - 0s 35ms/step - loss: 0.4033 - right_direction: 56.4383 - mse: 0.5374 - val_loss: 0.3157 - val_right_direction: 50.4274 - val_mse: 0.3125\n",
            "Epoch 201/300\n",
            "1/1 [==============================] - ETA: 0s - loss: 0.4037 - right_direction: 57.3168 - mse: 0.5417\n",
            "1/1 [==============================] - 0s 39ms/step - loss: 0.4037 - right_direction: 57.3168 - mse: 0.5417 - val_loss: 0.3156 - val_right_direction: 50.5782 - val_mse: 0.3124\n",
            "Epoch 202/300\n",
            "1/1 [==============================] - 0s 40ms/step - loss: 0.4031 - right_direction: 57.3042 - mse: 0.5431 - val_loss: 0.3156 - val_right_direction: 50.5279 - val_mse: 0.3124\n",
            "Epoch 203/300\n",
            "1/1 [==============================] - 0s 36ms/step - loss: 0.4016 - right_direction: 57.6556 - mse: 0.5376 - val_loss: 0.3156 - val_right_direction: 50.5279 - val_mse: 0.3124\n",
            "Epoch 204/300\n",
            "1/1 [==============================] - 0s 34ms/step - loss: 0.4025 - right_direction: 56.8524 - mse: 0.5382 - val_loss: 0.3155 - val_right_direction: 50.4274 - val_mse: 0.3123\n",
            "Epoch 205/300\n",
            "1/1 [==============================] - 0s 34ms/step - loss: 0.4052 - right_direction: 55.9362 - mse: 0.5429 - val_loss: 0.3155 - val_right_direction: 50.4274 - val_mse: 0.3122\n",
            "Epoch 206/300\n",
            "1/1 [==============================] - 0s 37ms/step - loss: 0.4056 - right_direction: 56.2123 - mse: 0.5433 - val_loss: 0.3155 - val_right_direction: 50.6285 - val_mse: 0.3122\n",
            "Epoch 207/300\n",
            "1/1 [==============================] - 0s 34ms/step - loss: 0.4026 - right_direction: 56.8148 - mse: 0.5358 - val_loss: 0.3155 - val_right_direction: 50.4776 - val_mse: 0.3121\n",
            "Epoch 208/300\n",
            "1/1 [==============================] - 0s 39ms/step - loss: 0.4030 - right_direction: 56.7897 - mse: 0.5398 - val_loss: 0.3154 - val_right_direction: 50.8798 - val_mse: 0.3121\n",
            "Epoch 209/300\n",
            "1/1 [==============================] - 0s 34ms/step - loss: 0.4023 - right_direction: 57.1160 - mse: 0.5389 - val_loss: 0.3154 - val_right_direction: 50.6787 - val_mse: 0.3121\n",
            "Epoch 210/300\n",
            "1/1 [==============================] - 0s 35ms/step - loss: 0.4040 - right_direction: 56.9779 - mse: 0.5402 - val_loss: 0.3154 - val_right_direction: 50.7290 - val_mse: 0.3121\n",
            "Epoch 211/300\n",
            "1/1 [==============================] - 0s 35ms/step - loss: 0.4024 - right_direction: 57.3544 - mse: 0.5376 - val_loss: 0.3153 - val_right_direction: 50.8296 - val_mse: 0.3121\n",
            "Epoch 212/300\n",
            "1/1 [==============================] - 0s 37ms/step - loss: 0.4041 - right_direction: 56.8148 - mse: 0.5414 - val_loss: 0.3153 - val_right_direction: 50.6787 - val_mse: 0.3121\n",
            "Epoch 213/300\n",
            "1/1 [==============================] - 0s 33ms/step - loss: 0.4028 - right_direction: 57.4172 - mse: 0.5393 - val_loss: 0.3152 - val_right_direction: 50.5782 - val_mse: 0.3121\n",
            "Epoch 214/300\n",
            "1/1 [==============================] - 0s 35ms/step - loss: 0.4027 - right_direction: 56.4383 - mse: 0.5382 - val_loss: 0.3152 - val_right_direction: 50.5782 - val_mse: 0.3121\n",
            "Epoch 215/300\n",
            "1/1 [==============================] - 0s 37ms/step - loss: 0.4030 - right_direction: 57.1662 - mse: 0.5401 - val_loss: 0.3152 - val_right_direction: 50.7290 - val_mse: 0.3122\n",
            "Epoch 216/300\n",
            "1/1 [==============================] - 0s 35ms/step - loss: 0.4023 - right_direction: 57.1411 - mse: 0.5380 - val_loss: 0.3153 - val_right_direction: 50.5279 - val_mse: 0.3122\n",
            "Epoch 217/300\n",
            "1/1 [==============================] - 0s 37ms/step - loss: 0.4032 - right_direction: 57.0658 - mse: 0.5420 - val_loss: 0.3153 - val_right_direction: 50.4274 - val_mse: 0.3122\n",
            "Epoch 218/300\n",
            "1/1 [==============================] - 0s 37ms/step - loss: 0.4016 - right_direction: 56.8650 - mse: 0.5362 - val_loss: 0.3154 - val_right_direction: 50.6285 - val_mse: 0.3121\n",
            "Epoch 219/300\n",
            "1/1 [==============================] - 0s 34ms/step - loss: 0.4012 - right_direction: 57.2038 - mse: 0.5339 - val_loss: 0.3154 - val_right_direction: 50.6285 - val_mse: 0.3121\n",
            "Epoch 220/300\n",
            "1/1 [==============================] - 0s 37ms/step - loss: 0.4015 - right_direction: 56.6265 - mse: 0.5354 - val_loss: 0.3155 - val_right_direction: 50.7793 - val_mse: 0.3121\n",
            "Epoch 221/300\n",
            "1/1 [==============================] - 0s 38ms/step - loss: 0.4016 - right_direction: 56.3128 - mse: 0.5344 - val_loss: 0.3155 - val_right_direction: 50.7793 - val_mse: 0.3121\n",
            "Epoch 222/300\n",
            "1/1 [==============================] - 0s 38ms/step - loss: 0.4009 - right_direction: 56.7646 - mse: 0.5345 - val_loss: 0.3155 - val_right_direction: 50.7793 - val_mse: 0.3121\n",
            "Epoch 223/300\n",
            "1/1 [==============================] - 0s 33ms/step - loss: 0.4009 - right_direction: 57.4046 - mse: 0.5341 - val_loss: 0.3154 - val_right_direction: 50.5279 - val_mse: 0.3121\n",
            "Epoch 224/300\n",
            "1/1 [==============================] - 0s 37ms/step - loss: 0.4014 - right_direction: 57.8062 - mse: 0.5377 - val_loss: 0.3153 - val_right_direction: 50.4274 - val_mse: 0.3121\n",
            "Epoch 225/300\n",
            "1/1 [==============================] - 0s 36ms/step - loss: 0.4020 - right_direction: 57.0281 - mse: 0.5379 - val_loss: 0.3153 - val_right_direction: 50.5279 - val_mse: 0.3121\n",
            "Epoch 226/300\n",
            "1/1 [==============================] - 0s 37ms/step - loss: 0.4008 - right_direction: 57.9443 - mse: 0.5331 - val_loss: 0.3152 - val_right_direction: 50.6285 - val_mse: 0.3121\n",
            "Epoch 227/300\n",
            "1/1 [==============================] - 0s 37ms/step - loss: 0.4013 - right_direction: 57.1787 - mse: 0.5356 - val_loss: 0.3152 - val_right_direction: 50.8296 - val_mse: 0.3121\n",
            "Epoch 228/300\n",
            "1/1 [==============================] - 0s 39ms/step - loss: 0.4008 - right_direction: 57.9568 - mse: 0.5364 - val_loss: 0.3152 - val_right_direction: 50.5279 - val_mse: 0.3121\n",
            "Epoch 229/300\n",
            "1/1 [==============================] - 0s 36ms/step - loss: 0.4004 - right_direction: 57.6933 - mse: 0.5338 - val_loss: 0.3152 - val_right_direction: 50.7290 - val_mse: 0.3121\n",
            "Epoch 230/300\n",
            "1/1 [==============================] - 0s 38ms/step - loss: 0.4004 - right_direction: 58.1702 - mse: 0.5346 - val_loss: 0.3152 - val_right_direction: 50.5279 - val_mse: 0.3121\n",
            "Epoch 231/300\n",
            "1/1 [==============================] - 0s 34ms/step - loss: 0.3998 - right_direction: 57.3921 - mse: 0.5326 - val_loss: 0.3152 - val_right_direction: 50.3771 - val_mse: 0.3120\n",
            "Epoch 232/300\n",
            "1/1 [==============================] - 0s 32ms/step - loss: 0.4005 - right_direction: 57.4799 - mse: 0.5342 - val_loss: 0.3152 - val_right_direction: 50.5279 - val_mse: 0.3120\n",
            "Epoch 233/300\n",
            "1/1 [==============================] - 0s 35ms/step - loss: 0.4016 - right_direction: 56.6767 - mse: 0.5385 - val_loss: 0.3153 - val_right_direction: 50.3771 - val_mse: 0.3120\n",
            "Epoch 234/300\n",
            "1/1 [==============================] - 0s 43ms/step - loss: 0.3991 - right_direction: 57.7184 - mse: 0.5338 - val_loss: 0.3153 - val_right_direction: 50.1257 - val_mse: 0.3120\n",
            "Epoch 235/300\n",
            "1/1 [==============================] - 0s 33ms/step - loss: 0.4009 - right_direction: 57.2917 - mse: 0.5360 - val_loss: 0.3153 - val_right_direction: 50.1760 - val_mse: 0.3120\n",
            "Epoch 236/300\n",
            "1/1 [==============================] - 0s 35ms/step - loss: 0.3994 - right_direction: 57.7560 - mse: 0.5309 - val_loss: 0.3154 - val_right_direction: 50.3268 - val_mse: 0.3120\n",
            "Epoch 237/300\n",
            "1/1 [==============================] - 0s 37ms/step - loss: 0.4000 - right_direction: 57.3293 - mse: 0.5339 - val_loss: 0.3154 - val_right_direction: 50.1760 - val_mse: 0.3120\n",
            "Epoch 238/300\n",
            "1/1 [==============================] - 0s 36ms/step - loss: 0.4014 - right_direction: 57.5678 - mse: 0.5370 - val_loss: 0.3154 - val_right_direction: 50.0251 - val_mse: 0.3120\n",
            "Epoch 239/300\n",
            "1/1 [==============================] - 0s 34ms/step - loss: 0.3996 - right_direction: 57.7560 - mse: 0.5330 - val_loss: 0.3154 - val_right_direction: 50.8798 - val_mse: 0.3120\n",
            "Epoch 240/300\n",
            "1/1 [==============================] - 0s 37ms/step - loss: 0.4008 - right_direction: 57.4297 - mse: 0.5319 - val_loss: 0.3154 - val_right_direction: 50.9804 - val_mse: 0.3120\n",
            "Epoch 241/300\n",
            "1/1 [==============================] - 0s 38ms/step - loss: 0.4004 - right_direction: 57.1787 - mse: 0.5314 - val_loss: 0.3154 - val_right_direction: 50.8798 - val_mse: 0.3120\n",
            "Epoch 242/300\n",
            "1/1 [==============================] - 0s 39ms/step - loss: 0.3997 - right_direction: 57.8439 - mse: 0.5326 - val_loss: 0.3154 - val_right_direction: 51.0307 - val_mse: 0.3120\n",
            "Epoch 243/300\n",
            "1/1 [==============================] - 0s 37ms/step - loss: 0.3986 - right_direction: 57.7058 - mse: 0.5318 - val_loss: 0.3154 - val_right_direction: 51.0809 - val_mse: 0.3120\n",
            "Epoch 244/300\n",
            "1/1 [==============================] - 0s 41ms/step - loss: 0.3986 - right_direction: 58.3459 - mse: 0.5320 - val_loss: 0.3153 - val_right_direction: 51.2318 - val_mse: 0.3120\n",
            "Epoch 245/300\n",
            "1/1 [==============================] - 0s 38ms/step - loss: 0.3976 - right_direction: 57.6807 - mse: 0.5260 - val_loss: 0.3153 - val_right_direction: 51.0809 - val_mse: 0.3119\n",
            "Epoch 246/300\n",
            "1/1 [==============================] - 0s 46ms/step - loss: 0.3992 - right_direction: 57.2289 - mse: 0.5314 - val_loss: 0.3153 - val_right_direction: 51.2318 - val_mse: 0.3120\n",
            "Epoch 247/300\n",
            "1/1 [==============================] - 0s 36ms/step - loss: 0.3986 - right_direction: 57.6180 - mse: 0.5317 - val_loss: 0.3153 - val_right_direction: 51.1815 - val_mse: 0.3120\n",
            "Epoch 248/300\n",
            "1/1 [==============================] - 0s 40ms/step - loss: 0.3986 - right_direction: 58.0070 - mse: 0.5306 - val_loss: 0.3152 - val_right_direction: 51.1312 - val_mse: 0.3120\n",
            "Epoch 249/300\n",
            "1/1 [==============================] - 0s 36ms/step - loss: 0.3999 - right_direction: 57.5678 - mse: 0.5305 - val_loss: 0.3152 - val_right_direction: 51.2318 - val_mse: 0.3120\n",
            "Epoch 250/300\n",
            "1/1 [==============================] - 0s 36ms/step - loss: 0.3978 - right_direction: 58.0070 - mse: 0.5290 - val_loss: 0.3152 - val_right_direction: 51.6843 - val_mse: 0.3119\n",
            "Epoch 251/300\n",
            "1/1 [==============================] - 0s 35ms/step - loss: 0.3985 - right_direction: 57.3419 - mse: 0.5283 - val_loss: 0.3152 - val_right_direction: 51.6843 - val_mse: 0.3119\n",
            "Epoch 252/300\n",
            "1/1 [==============================] - 0s 38ms/step - loss: 0.3990 - right_direction: 57.4548 - mse: 0.5304 - val_loss: 0.3152 - val_right_direction: 51.5837 - val_mse: 0.3119\n",
            "Epoch 253/300\n",
            "1/1 [==============================] - 0s 35ms/step - loss: 0.3977 - right_direction: 57.9694 - mse: 0.5297 - val_loss: 0.3152 - val_right_direction: 51.6340 - val_mse: 0.3119\n",
            "Epoch 254/300\n",
            "1/1 [==============================] - 0s 36ms/step - loss: 0.3974 - right_direction: 57.9819 - mse: 0.5287 - val_loss: 0.3152 - val_right_direction: 51.5334 - val_mse: 0.3119\n",
            "Epoch 255/300\n",
            "1/1 [==============================] - 0s 38ms/step - loss: 0.3977 - right_direction: 57.6305 - mse: 0.5269 - val_loss: 0.3153 - val_right_direction: 51.7345 - val_mse: 0.3118\n",
            "Epoch 256/300\n",
            "1/1 [==============================] - 0s 37ms/step - loss: 0.3970 - right_direction: 57.2917 - mse: 0.5259 - val_loss: 0.3153 - val_right_direction: 51.9356 - val_mse: 0.3118\n",
            "Epoch 257/300\n",
            "1/1 [==============================] - 0s 36ms/step - loss: 0.3967 - right_direction: 57.3419 - mse: 0.5239 - val_loss: 0.3154 - val_right_direction: 51.6843 - val_mse: 0.3117\n",
            "Epoch 258/300\n",
            "1/1 [==============================] - 0s 41ms/step - loss: 0.3977 - right_direction: 57.7184 - mse: 0.5292 - val_loss: 0.3154 - val_right_direction: 52.0362 - val_mse: 0.3118\n",
            "Epoch 259/300\n",
            "1/1 [==============================] - 0s 33ms/step - loss: 0.3983 - right_direction: 57.9568 - mse: 0.5256 - val_loss: 0.3154 - val_right_direction: 51.9859 - val_mse: 0.3118\n",
            "Epoch 260/300\n",
            "1/1 [==============================] - 0s 36ms/step - loss: 0.3988 - right_direction: 56.7395 - mse: 0.5291 - val_loss: 0.3154 - val_right_direction: 52.1368 - val_mse: 0.3118\n",
            "Epoch 261/300\n",
            "1/1 [==============================] - 0s 35ms/step - loss: 0.3972 - right_direction: 57.5301 - mse: 0.5277 - val_loss: 0.3154 - val_right_direction: 52.1368 - val_mse: 0.3119\n",
            "Epoch 262/300\n",
            "1/1 [==============================] - 0s 46ms/step - loss: 0.3965 - right_direction: 57.7937 - mse: 0.5267 - val_loss: 0.3153 - val_right_direction: 52.0865 - val_mse: 0.3120\n",
            "Epoch 263/300\n",
            "1/1 [==============================] - 0s 34ms/step - loss: 0.3968 - right_direction: 57.6807 - mse: 0.5272 - val_loss: 0.3153 - val_right_direction: 51.9356 - val_mse: 0.3121\n",
            "Epoch 264/300\n",
            "1/1 [==============================] - 0s 35ms/step - loss: 0.3960 - right_direction: 58.5216 - mse: 0.5231 - val_loss: 0.3154 - val_right_direction: 51.7848 - val_mse: 0.3122\n",
            "Epoch 265/300\n",
            "1/1 [==============================] - 0s 36ms/step - loss: 0.3965 - right_direction: 57.5803 - mse: 0.5241 - val_loss: 0.3154 - val_right_direction: 51.7345 - val_mse: 0.3123\n",
            "Epoch 266/300\n",
            "1/1 [==============================] - 0s 39ms/step - loss: 0.3968 - right_direction: 58.0447 - mse: 0.5259 - val_loss: 0.3154 - val_right_direction: 51.8351 - val_mse: 0.3123\n",
            "Epoch 267/300\n",
            "1/1 [==============================] - 0s 34ms/step - loss: 0.3967 - right_direction: 57.8439 - mse: 0.5225 - val_loss: 0.3154 - val_right_direction: 51.7345 - val_mse: 0.3122\n",
            "Epoch 268/300\n",
            "1/1 [==============================] - 0s 38ms/step - loss: 0.3967 - right_direction: 57.8941 - mse: 0.5257 - val_loss: 0.3155 - val_right_direction: 51.5334 - val_mse: 0.3122\n",
            "Epoch 269/300\n",
            "1/1 [==============================] - 0s 42ms/step - loss: 0.3962 - right_direction: 58.2078 - mse: 0.5206 - val_loss: 0.3155 - val_right_direction: 51.4329 - val_mse: 0.3122\n",
            "Epoch 270/300\n",
            "1/1 [==============================] - 0s 39ms/step - loss: 0.3955 - right_direction: 58.2580 - mse: 0.5242 - val_loss: 0.3156 - val_right_direction: 51.5837 - val_mse: 0.3122\n",
            "Epoch 271/300\n",
            "1/1 [==============================] - 0s 35ms/step - loss: 0.3953 - right_direction: 57.9066 - mse: 0.5192 - val_loss: 0.3156 - val_right_direction: 51.3323 - val_mse: 0.3122\n",
            "Epoch 272/300\n",
            "1/1 [==============================] - 0s 37ms/step - loss: 0.3960 - right_direction: 57.9192 - mse: 0.5238 - val_loss: 0.3156 - val_right_direction: 51.4329 - val_mse: 0.3123\n",
            "Epoch 273/300\n",
            "1/1 [==============================] - 0s 37ms/step - loss: 0.3956 - right_direction: 57.8815 - mse: 0.5230 - val_loss: 0.3156 - val_right_direction: 51.2821 - val_mse: 0.3123\n",
            "Epoch 274/300\n",
            "1/1 [==============================] - 0s 36ms/step - loss: 0.3945 - right_direction: 58.1827 - mse: 0.5202 - val_loss: 0.3156 - val_right_direction: 51.4832 - val_mse: 0.3123\n",
            "Epoch 275/300\n",
            "1/1 [==============================] - 0s 35ms/step - loss: 0.3959 - right_direction: 58.1325 - mse: 0.5244 - val_loss: 0.3155 - val_right_direction: 51.4832 - val_mse: 0.3123\n",
            "Epoch 276/300\n",
            "1/1 [==============================] - 0s 37ms/step - loss: 0.3957 - right_direction: 58.0447 - mse: 0.5245 - val_loss: 0.3155 - val_right_direction: 51.5334 - val_mse: 0.3123\n",
            "Epoch 277/300\n",
            "1/1 [==============================] - 0s 38ms/step - loss: 0.3938 - right_direction: 58.7224 - mse: 0.5174 - val_loss: 0.3156 - val_right_direction: 51.6340 - val_mse: 0.3122\n",
            "Epoch 278/300\n",
            "1/1 [==============================] - 0s 38ms/step - loss: 0.3940 - right_direction: 58.5341 - mse: 0.5183 - val_loss: 0.3156 - val_right_direction: 51.7345 - val_mse: 0.3122\n",
            "Epoch 279/300\n",
            "1/1 [==============================] - 0s 35ms/step - loss: 0.3959 - right_direction: 58.0196 - mse: 0.5204 - val_loss: 0.3156 - val_right_direction: 51.8854 - val_mse: 0.3121\n",
            "Epoch 280/300\n",
            "1/1 [==============================] - 0s 40ms/step - loss: 0.3942 - right_direction: 58.4463 - mse: 0.5169 - val_loss: 0.3156 - val_right_direction: 51.9859 - val_mse: 0.3120\n",
            "Epoch 281/300\n",
            "1/1 [==============================] - 0s 35ms/step - loss: 0.3939 - right_direction: 58.2329 - mse: 0.5197 - val_loss: 0.3155 - val_right_direction: 52.0865 - val_mse: 0.3120\n",
            "Epoch 282/300\n",
            "1/1 [==============================] - 0s 37ms/step - loss: 0.3948 - right_direction: 57.9066 - mse: 0.5189 - val_loss: 0.3155 - val_right_direction: 51.8854 - val_mse: 0.3120\n",
            "Epoch 283/300\n",
            "1/1 [==============================] - 0s 37ms/step - loss: 0.3945 - right_direction: 58.6220 - mse: 0.5167 - val_loss: 0.3154 - val_right_direction: 52.1368 - val_mse: 0.3121\n",
            "Epoch 284/300\n",
            "1/1 [==============================] - 0s 34ms/step - loss: 0.3947 - right_direction: 58.1827 - mse: 0.5177 - val_loss: 0.3153 - val_right_direction: 52.0865 - val_mse: 0.3123\n",
            "Epoch 285/300\n",
            "1/1 [==============================] - 0s 35ms/step - loss: 0.3942 - right_direction: 57.6682 - mse: 0.5191 - val_loss: 0.3153 - val_right_direction: 51.7848 - val_mse: 0.3124\n",
            "Epoch 286/300\n",
            "1/1 [==============================] - 0s 36ms/step - loss: 0.3942 - right_direction: 57.6682 - mse: 0.5190 - val_loss: 0.3153 - val_right_direction: 51.6340 - val_mse: 0.3125\n",
            "Epoch 287/300\n",
            "1/1 [==============================] - 0s 41ms/step - loss: 0.3933 - right_direction: 58.0698 - mse: 0.5151 - val_loss: 0.3154 - val_right_direction: 51.6340 - val_mse: 0.3126\n",
            "Epoch 288/300\n",
            "1/1 [==============================] - 0s 37ms/step - loss: 0.3938 - right_direction: 58.6345 - mse: 0.5175 - val_loss: 0.3154 - val_right_direction: 51.4832 - val_mse: 0.3127\n",
            "Epoch 289/300\n",
            "1/1 [==============================] - 0s 33ms/step - loss: 0.3946 - right_direction: 58.0698 - mse: 0.5188 - val_loss: 0.3155 - val_right_direction: 51.3826 - val_mse: 0.3127\n",
            "Epoch 290/300\n",
            "1/1 [==============================] - 0s 37ms/step - loss: 0.3939 - right_direction: 58.2831 - mse: 0.5205 - val_loss: 0.3156 - val_right_direction: 51.7345 - val_mse: 0.3128\n",
            "Epoch 291/300\n",
            "1/1 [==============================] - 0s 37ms/step - loss: 0.3930 - right_direction: 58.5216 - mse: 0.5166 - val_loss: 0.3157 - val_right_direction: 51.7848 - val_mse: 0.3127\n",
            "Epoch 292/300\n",
            "1/1 [==============================] - 0s 42ms/step - loss: 0.3938 - right_direction: 58.6094 - mse: 0.5158 - val_loss: 0.3158 - val_right_direction: 51.7848 - val_mse: 0.3127\n",
            "Epoch 293/300\n",
            "1/1 [==============================] - 0s 34ms/step - loss: 0.3934 - right_direction: 58.3333 - mse: 0.5165 - val_loss: 0.3159 - val_right_direction: 51.9859 - val_mse: 0.3127\n",
            "Epoch 294/300\n",
            "1/1 [==============================] - 0s 38ms/step - loss: 0.3947 - right_direction: 57.1662 - mse: 0.5143 - val_loss: 0.3160 - val_right_direction: 51.9859 - val_mse: 0.3127\n",
            "Epoch 295/300\n",
            "1/1 [==============================] - 0s 36ms/step - loss: 0.3935 - right_direction: 58.2580 - mse: 0.5147 - val_loss: 0.3160 - val_right_direction: 51.6843 - val_mse: 0.3127\n",
            "Epoch 296/300\n",
            "1/1 [==============================] - 0s 38ms/step - loss: 0.3936 - right_direction: 58.0698 - mse: 0.5190 - val_loss: 0.3160 - val_right_direction: 51.6843 - val_mse: 0.3127\n",
            "Epoch 297/300\n",
            "1/1 [==============================] - 0s 36ms/step - loss: 0.3928 - right_direction: 58.8604 - mse: 0.5148 - val_loss: 0.3159 - val_right_direction: 52.0362 - val_mse: 0.3128\n",
            "Epoch 298/300\n",
            "1/1 [==============================] - 0s 35ms/step - loss: 0.3933 - right_direction: 57.8690 - mse: 0.5144 - val_loss: 0.3159 - val_right_direction: 52.1870 - val_mse: 0.3129\n",
            "Epoch 299/300\n",
            "1/1 [==============================] - 0s 36ms/step - loss: 0.3945 - right_direction: 58.1702 - mse: 0.5160 - val_loss: 0.3158 - val_right_direction: 52.0865 - val_mse: 0.3129\n",
            "Epoch 300/300\n",
            "1/1 [==============================] - 0s 42ms/step - loss: 0.3941 - right_direction: 57.9945 - mse: 0.5144 - val_loss: 0.3158 - val_right_direction: 52.1870 - val_mse: 0.3130\n",
            "300\n"
          ],
          "name": "stdout"
        },
        {
          "output_type": "display_data",
          "data": {
            "image/png": "[encoded data removed]",
            "text/plain": [
              "<Figure size 432x288 with 2 Axes>"
            ]
          },
          "metadata": {
            "tags": [],
            "needs_background": "light"
          }
        },
        {
          "output_type": "display_data",
          "data": {
            "image/png": "[encoded data removed]",
            "text/plain": [
              "<Figure size 432x288 with 1 Axes>"
            ]
          },
          "metadata": {
            "tags": [],
            "needs_background": "light"
          }
        }
      ]
    },
    {
      "cell_type": "code",
      "metadata": {
        "id": "a3qRtdk9Ka27",
        "colab_type": "code",
        "colab": {}
      },
      "source": [
        "model.save_weights(data_dir + 'model_weights01')"
      ],
      "execution_count": null,
      "outputs": []
    },
    {
      "cell_type": "code",
      "metadata": {
        "id": "mlfaIpaH7Dga",
        "colab_type": "code",
        "colab": {
          "base_uri": "https://localhost:8080/",
          "height": 300
        },
        "outputId": "e340dde2-148b-4b6f-a814-89a822aa67c8"
      },
      "source": [
        "test_data = inputs[size:size+1000]\n",
        "test_labels = outputs[size:size+1000]\n",
        "test_predictions = model.predict(test_data).flatten()\n",
        "print(test_labels.shape, test_predictions.shape)\n",
        "plt.scatter(test_labels, test_predictions)\n",
        "plt.xlabel('True Values')\n",
        "plt.ylabel('Predictions')\n",
        "plt.axis('equal')\n",
        "plt.axis('square')\n",
        "lim=2\n",
        "plt.xlim([-lim, lim])\n",
        "plt.ylim([-lim, lim])\n",
        "_ = plt.plot([-lim, lim], [-lim, lim])"
      ],
      "execution_count": null,
      "outputs": [
        {
          "output_type": "stream",
          "text": [
            "(1000,) (1000,)\n"
          ],
          "name": "stdout"
        },
        {
          "output_type": "display_data",
          "data": {
            "image/png": "[encoded data removed]",
            "text/plain": [
              "<Figure size 432x288 with 1 Axes>"
            ]
          },
          "metadata": {
            "tags": [],
            "needs_background": "light"
          }
        }
      ]
    },
    {
      "cell_type": "code",
      "metadata": {
        "id": "rCrn01-AiC9e",
        "colab_type": "code",
        "colab": {
          "base_uri": "https://localhost:8080/",
          "height": 388
        },
        "outputId": "72cc29c1-db88-499a-aded-05b81f0337e6"
      },
      "source": [
        "plt.figure(figsize=(10, 6))\n",
        "plt.plot(test_labels, label='Actual')\n",
        "plt.plot(test_predictions, label='Predicted', c='r')\n",
        "plt.ylabel(\"Return(%)\")\n",
        "plt.xlabel('Days into The Future')\n",
        "plt.legend()\n",
        "plt.show()"
      ],
      "execution_count": null,
      "outputs": [
        {
          "output_type": "display_data",
          "data": {
            "image/png": "[encoded data removed]",
            "text/plain": [
              "<Figure size 720x432 with 1 Axes>"
            ]
          },
          "metadata": {
            "tags": [],
            "needs_background": "light"
          }
        }
      ]
    },
    {
      "cell_type": "markdown",
      "metadata": {
        "id": "B_gyw54Ua20M",
        "colab_type": "text"
      },
      "source": [
        "* Next steps:\n",
        "  * Making predictions for given time period.\n",
        "  * Build and test the prediction performance on a strategy\n"
      ]
    },
    {
      "cell_type": "code",
      "metadata": {
        "id": "_KjjLaEucnVD",
        "colab_type": "code",
        "colab": {
          "base_uri": "https://localhost:8080/",
          "height": 431
        },
        "outputId": "07dcf240-ed62-47ba-d32e-123adf56879b"
      },
      "source": [
        "norm_features"
      ],
      "execution_count": null,
      "outputs": [
        {
          "output_type": "execute_result",
          "data": {
            "text/html": [
              "<div>\n",
              "<style scoped>\n",
              "    .dataframe tbody tr th:only-of-type {\n",
              "        vertical-align: middle;\n",
              "    }\n",
              "\n",
              "    .dataframe tbody tr th {\n",
              "        vertical-align: top;\n",
              "    }\n",
              "\n",
              "    .dataframe thead th {\n",
              "        text-align: right;\n",
              "    }\n",
              "</style>\n",
              "<table border=\"1\" class=\"dataframe\">\n",
              "  <thead>\n",
              "    <tr style=\"text-align: right;\">\n",
              "      <th></th>\n",
              "      <th>relative_vol</th>\n",
              "      <th>return</th>\n",
              "      <th>rela_HML</th>\n",
              "      <th>Rvol</th>\n",
              "      <th>return_ETH</th>\n",
              "      <th>price_diff_1h</th>\n",
              "      <th>price_diff_12h</th>\n",
              "    </tr>\n",
              "    <tr>\n",
              "      <th>Time</th>\n",
              "      <th></th>\n",
              "      <th></th>\n",
              "      <th></th>\n",
              "      <th></th>\n",
              "      <th></th>\n",
              "      <th></th>\n",
              "      <th></th>\n",
              "    </tr>\n",
              "  </thead>\n",
              "  <tbody>\n",
              "    <tr>\n",
              "      <th>2016-05-10 13:30:00</th>\n",
              "      <td>NaN</td>\n",
              "      <td>NaN</td>\n",
              "      <td>NaN</td>\n",
              "      <td>NaN</td>\n",
              "      <td>NaN</td>\n",
              "      <td>NaN</td>\n",
              "      <td>NaN</td>\n",
              "    </tr>\n",
              "    <tr>\n",
              "      <th>2016-05-10 13:40:00</th>\n",
              "      <td>NaN</td>\n",
              "      <td>NaN</td>\n",
              "      <td>NaN</td>\n",
              "      <td>NaN</td>\n",
              "      <td>NaN</td>\n",
              "      <td>NaN</td>\n",
              "      <td>NaN</td>\n",
              "    </tr>\n",
              "    <tr>\n",
              "      <th>2016-05-10 13:50:00</th>\n",
              "      <td>NaN</td>\n",
              "      <td>NaN</td>\n",
              "      <td>NaN</td>\n",
              "      <td>NaN</td>\n",
              "      <td>NaN</td>\n",
              "      <td>NaN</td>\n",
              "      <td>NaN</td>\n",
              "    </tr>\n",
              "    <tr>\n",
              "      <th>2016-05-10 14:00:00</th>\n",
              "      <td>NaN</td>\n",
              "      <td>NaN</td>\n",
              "      <td>NaN</td>\n",
              "      <td>NaN</td>\n",
              "      <td>NaN</td>\n",
              "      <td>NaN</td>\n",
              "      <td>NaN</td>\n",
              "    </tr>\n",
              "    <tr>\n",
              "      <th>2016-05-10 14:10:00</th>\n",
              "      <td>NaN</td>\n",
              "      <td>NaN</td>\n",
              "      <td>NaN</td>\n",
              "      <td>NaN</td>\n",
              "      <td>NaN</td>\n",
              "      <td>NaN</td>\n",
              "      <td>NaN</td>\n",
              "    </tr>\n",
              "    <tr>\n",
              "      <th>...</th>\n",
              "      <td>...</td>\n",
              "      <td>...</td>\n",
              "      <td>...</td>\n",
              "      <td>...</td>\n",
              "      <td>...</td>\n",
              "      <td>...</td>\n",
              "      <td>...</td>\n",
              "    </tr>\n",
              "    <tr>\n",
              "      <th>2019-01-07 21:20:00</th>\n",
              "      <td>0.352456</td>\n",
              "      <td>-0.163541</td>\n",
              "      <td>-0.228866</td>\n",
              "      <td>-0.182309</td>\n",
              "      <td>-0.246363</td>\n",
              "      <td>-0.004992</td>\n",
              "      <td>-0.054930</td>\n",
              "    </tr>\n",
              "    <tr>\n",
              "      <th>2019-01-07 21:30:00</th>\n",
              "      <td>0.031618</td>\n",
              "      <td>-0.426442</td>\n",
              "      <td>-0.211422</td>\n",
              "      <td>-0.225059</td>\n",
              "      <td>-1.326428</td>\n",
              "      <td>-0.125991</td>\n",
              "      <td>-0.083215</td>\n",
              "    </tr>\n",
              "    <tr>\n",
              "      <th>2019-01-07 21:40:00</th>\n",
              "      <td>-0.038978</td>\n",
              "      <td>0.405179</td>\n",
              "      <td>-0.579771</td>\n",
              "      <td>-0.325312</td>\n",
              "      <td>-3.000000</td>\n",
              "      <td>0.089472</td>\n",
              "      <td>-0.107827</td>\n",
              "    </tr>\n",
              "    <tr>\n",
              "      <th>2019-01-07 21:50:00</th>\n",
              "      <td>0.292652</td>\n",
              "      <td>0.139888</td>\n",
              "      <td>-0.329468</td>\n",
              "      <td>-0.038665</td>\n",
              "      <td>3.000000</td>\n",
              "      <td>0.361217</td>\n",
              "      <td>-0.122913</td>\n",
              "    </tr>\n",
              "    <tr>\n",
              "      <th>2019-01-07 22:00:00</th>\n",
              "      <td>0.293982</td>\n",
              "      <td>-0.973940</td>\n",
              "      <td>0.339005</td>\n",
              "      <td>0.120249</td>\n",
              "      <td>-3.000000</td>\n",
              "      <td>-0.349044</td>\n",
              "      <td>-0.156031</td>\n",
              "    </tr>\n",
              "  </tbody>\n",
              "</table>\n",
              "<p>140020 rows × 7 columns</p>\n",
              "</div>"
            ],
            "text/plain": [
              "                     relative_vol    return  ...  price_diff_1h  price_diff_12h\n",
              "Time                                         ...                               \n",
              "2016-05-10 13:30:00           NaN       NaN  ...            NaN             NaN\n",
              "2016-05-10 13:40:00           NaN       NaN  ...            NaN             NaN\n",
              "2016-05-10 13:50:00           NaN       NaN  ...            NaN             NaN\n",
              "2016-05-10 14:00:00           NaN       NaN  ...            NaN             NaN\n",
              "2016-05-10 14:10:00           NaN       NaN  ...            NaN             NaN\n",
              "...                           ...       ...  ...            ...             ...\n",
              "2019-01-07 21:20:00      0.352456 -0.163541  ...      -0.004992       -0.054930\n",
              "2019-01-07 21:30:00      0.031618 -0.426442  ...      -0.125991       -0.083215\n",
              "2019-01-07 21:40:00     -0.038978  0.405179  ...       0.089472       -0.107827\n",
              "2019-01-07 21:50:00      0.292652  0.139888  ...       0.361217       -0.122913\n",
              "2019-01-07 22:00:00      0.293982 -0.973940  ...      -0.349044       -0.156031\n",
              "\n",
              "[140020 rows x 7 columns]"
            ]
          },
          "metadata": {
            "tags": []
          },
          "execution_count": 17
        }
      ]
    },
    {
      "cell_type": "code",
      "metadata": {
        "id": "YxNrptD3cqRU",
        "colab_type": "code",
        "colab": {
          "base_uri": "https://localhost:8080/",
          "height": 235
        },
        "outputId": "ada6e5f7-82b6-4fdf-b8df-141f86d7ad38"
      },
      "source": [
        "flag_nan"
      ],
      "execution_count": null,
      "outputs": [
        {
          "output_type": "execute_result",
          "data": {
            "text/plain": [
              "Time\n",
              "2016-05-10 13:30:00    True\n",
              "2016-05-10 13:40:00    True\n",
              "2016-05-10 13:50:00    True\n",
              "2016-05-10 14:00:00    True\n",
              "2016-05-10 14:10:00    True\n",
              "                       ... \n",
              "2019-01-07 21:20:00    True\n",
              "2019-01-07 21:30:00    True\n",
              "2019-01-07 21:40:00    True\n",
              "2019-01-07 21:50:00    True\n",
              "2019-01-07 22:00:00    True\n",
              "Length: 140020, dtype: bool"
            ]
          },
          "metadata": {
            "tags": []
          },
          "execution_count": 18
        }
      ]
    },
    {
      "cell_type": "code",
      "metadata": {
        "id": "tHjgNE_5fphz",
        "colab_type": "code",
        "colab": {
          "base_uri": "https://localhost:8080/",
          "height": 269
        },
        "outputId": "ae3d3548-dac3-44e1-8a42-25161042fe6d"
      },
      "source": [
        "flag_nan.loc['2019-01-07 20:00:00':]"
      ],
      "execution_count": null,
      "outputs": [
        {
          "output_type": "execute_result",
          "data": {
            "text/plain": [
              "Time\n",
              "2019-01-07 20:00:00    False\n",
              "2019-01-07 20:10:00    False\n",
              "2019-01-07 20:20:00    False\n",
              "2019-01-07 20:30:00    False\n",
              "2019-01-07 20:40:00    False\n",
              "2019-01-07 20:50:00    False\n",
              "2019-01-07 21:00:00    False\n",
              "2019-01-07 21:10:00    False\n",
              "2019-01-07 21:20:00     True\n",
              "2019-01-07 21:30:00     True\n",
              "2019-01-07 21:40:00     True\n",
              "2019-01-07 21:50:00     True\n",
              "2019-01-07 22:00:00     True\n",
              "dtype: bool"
            ]
          },
          "metadata": {
            "tags": []
          },
          "execution_count": 19
        }
      ]
    },
    {
      "cell_type": "code",
      "metadata": {
        "id": "sJ8_5dO5HdR3",
        "colab_type": "code",
        "colab": {}
      },
      "source": [
        "def time_to_index(time, flag_nan=flag_nan):\n",
        "    return np.sum(flag_nan[flag_nan.index < time] == False)\n",
        "\n",
        "def making_prediction(model, start_time, end_time, flag_nan=flag_nan):\n",
        "    \"\"\"\n",
        "    First, find corresponding valid input samples within this period\n",
        "    Second, make predictions for the valid samples\n",
        "    Third, return predictions for every 10-min during this period\n",
        "\n",
        "    Args:\n",
        "      model: the trained LSTM model\n",
        "      start_time: should be no earlier than '2016-05-10 13:30:00' (included)\n",
        "      end_time: should be no later than '2019-01-07 22:00:00'  (included)\n",
        "    \"\"\"\n",
        "    start, end = time_to_index(start_time), time_to_index(end_time)+1\n",
        "    test_data = inputs[start:end]\n",
        "    test_pred = model.predict(test_data).flatten()\n",
        "    \n",
        "    temp_flag = flag_nan.loc[start_time: end_time]\n",
        "    predictions = pd.Series(np.full(len(temp_flag), np.nan), index=temp_flag.index)\n",
        "    predictions[temp_flag==False] = test_pred \n",
        "    return predictions"
      ],
      "execution_count": null,
      "outputs": []
    },
    {
      "cell_type": "code",
      "metadata": {
        "id": "qTAKlvXPhR31",
        "colab_type": "code",
        "colab": {
          "base_uri": "https://localhost:8080/",
          "height": 34
        },
        "outputId": "e7053157-8348-406f-f5be-0b25c4905e04"
      },
      "source": [
        "time_to_index('2016-08-12 00:00:00')"
      ],
      "execution_count": null,
      "outputs": [
        {
          "output_type": "execute_result",
          "data": {
            "text/plain": [
              "10323"
            ]
          },
          "metadata": {
            "tags": []
          },
          "execution_count": 21
        }
      ]
    },
    {
      "cell_type": "code",
      "metadata": {
        "id": "wKjdN-nuh1sl",
        "colab_type": "code",
        "colab": {
          "base_uri": "https://localhost:8080/",
          "height": 202
        },
        "outputId": "64fc9f0b-62a5-44ff-94e6-dab5c2e66073"
      },
      "source": [
        "a = pd.Series([1]*10)\n",
        "a[a.index < 5] = [1,2,3,4,5]\n",
        "a"
      ],
      "execution_count": null,
      "outputs": [
        {
          "output_type": "execute_result",
          "data": {
            "text/plain": [
              "0    1\n",
              "1    2\n",
              "2    3\n",
              "3    4\n",
              "4    5\n",
              "5    1\n",
              "6    1\n",
              "7    1\n",
              "8    1\n",
              "9    1\n",
              "dtype: int64"
            ]
          },
          "metadata": {
            "tags": []
          },
          "execution_count": 22
        }
      ]
    },
    {
      "cell_type": "code",
      "metadata": {
        "id": "bTE1q2UAjNo3",
        "colab_type": "code",
        "colab": {
          "base_uri": "https://localhost:8080/",
          "height": 168
        },
        "outputId": "f35a9891-255f-491c-ad3d-72c637e54542"
      },
      "source": [
        "flag_nan.loc['2016-08-12 00:00:00': '2016-08-12 01:00:00']"
      ],
      "execution_count": null,
      "outputs": [
        {
          "output_type": "execute_result",
          "data": {
            "text/plain": [
              "Time\n",
              "2016-08-12 00:00:00    False\n",
              "2016-08-12 00:10:00    False\n",
              "2016-08-12 00:20:00    False\n",
              "2016-08-12 00:30:00    False\n",
              "2016-08-12 00:40:00    False\n",
              "2016-08-12 00:50:00    False\n",
              "2016-08-12 01:00:00    False\n",
              "dtype: bool"
            ]
          },
          "metadata": {
            "tags": []
          },
          "execution_count": 23
        }
      ]
    },
    {
      "cell_type": "code",
      "metadata": {
        "id": "0qpG6bAbhIxs",
        "colab_type": "code",
        "colab": {
          "base_uri": "https://localhost:8080/",
          "height": 235
        },
        "outputId": "983ccc6f-8157-40c5-d86d-986a484cab6f"
      },
      "source": [
        "preds = making_prediction(model, '2016-08-12 00:00:00', '2016-10-12 00:00:00')\n",
        "preds"
      ],
      "execution_count": null,
      "outputs": [
        {
          "output_type": "execute_result",
          "data": {
            "text/plain": [
              "Time\n",
              "2016-08-12 00:00:00   -0.144350\n",
              "2016-08-12 00:10:00   -0.108049\n",
              "2016-08-12 00:20:00   -0.041231\n",
              "2016-08-12 00:30:00   -0.049758\n",
              "2016-08-12 00:40:00   -0.052844\n",
              "                         ...   \n",
              "2016-10-11 23:20:00   -0.022667\n",
              "2016-10-11 23:30:00   -0.004189\n",
              "2016-10-11 23:40:00    0.005539\n",
              "2016-10-11 23:50:00   -0.002429\n",
              "2016-10-12 00:00:00    0.010618\n",
              "Length: 8785, dtype: float64"
            ]
          },
          "metadata": {
            "tags": []
          },
          "execution_count": 24
        }
      ]
    },
    {
      "cell_type": "code",
      "metadata": {
        "id": "DrYc1aUkjpIf",
        "colab_type": "code",
        "colab": {
          "base_uri": "https://localhost:8080/",
          "height": 235
        },
        "outputId": "dbb24130-5b76-4760-d33b-8b556d6a91c3"
      },
      "source": [
        "ret_10min = pd.read_csv(data_dir + 'ret_10min.csv', index_col=0, parse_dates=True)['0']\n",
        "ret_10min"
      ],
      "execution_count": null,
      "outputs": [
        {
          "output_type": "execute_result",
          "data": {
            "text/plain": [
              "Time\n",
              "2016-05-09 13:30:00         NaN\n",
              "2016-05-09 13:40:00   -0.000498\n",
              "2016-05-09 13:50:00    0.000563\n",
              "2016-05-09 14:00:00    0.000758\n",
              "2016-05-09 14:10:00   -0.000087\n",
              "                         ...   \n",
              "2019-01-07 21:20:00   -0.000877\n",
              "2019-01-07 21:30:00    0.000850\n",
              "2019-01-07 21:40:00    0.000299\n",
              "2019-01-07 21:50:00   -0.002015\n",
              "2019-01-07 22:00:00   -0.000145\n",
              "Name: 0, Length: 140164, dtype: float64"
            ]
          },
          "metadata": {
            "tags": []
          },
          "execution_count": 25
        }
      ]
    },
    {
      "cell_type": "code",
      "metadata": {
        "id": "g7IbeCIoliTi",
        "colab_type": "code",
        "colab": {
          "base_uri": "https://localhost:8080/",
          "height": 34
        },
        "outputId": "7fdacd57-baad-4419-b5cf-8ecfb8260083"
      },
      "source": [
        "np.nan < 0"
      ],
      "execution_count": null,
      "outputs": [
        {
          "output_type": "execute_result",
          "data": {
            "text/plain": [
              "False"
            ]
          },
          "metadata": {
            "tags": []
          },
          "execution_count": 26
        }
      ]
    },
    {
      "cell_type": "code",
      "metadata": {
        "id": "dt3pP5sa8zNo",
        "colab_type": "code",
        "colab": {}
      },
      "source": [
        "def test_signal(y_pre, threshold=1):\n",
        "    flag_p = y_pre > threshold\n",
        "    flag_n = y_pre < -threshold\n",
        "    return (flag_p, flag_n)\n",
        "\n",
        "def stra_performance(flag_n, flag_p, ret_23, label='long-short', mode='test'):\n",
        "    time = ret_23.index\n",
        "    ret_23 = ret_23.values\n",
        "    stra_ret = np.zeros(len(ret_23))\n",
        "    # flag = (trends[11] > 0) & (trends[11]<5)\n",
        "    # flag_1 = (trends_1[11] < 0) & (trends_1[11]>-5)\n",
        "    dates = range(len(ret_23))\n",
        "    flag_p = flag_p.squeeze()\n",
        "    flag_n = flag_n.squeeze()\n",
        "    stra_ret[flag_n] = ret_23[flag_n]\n",
        "    stra_ret[flag_p] = -ret_23[flag_p]\n",
        "    stra_ret[np.isnan(stra_ret)] = 0\n",
        "    earnings  = [0]\n",
        "    count_trades = np.count_nonzero(stra_ret)\n",
        "    print(label, \": \")\n",
        "    print(\"# of trading：\", count_trades, \";   winning rate：\", np.count_nonzero(stra_ret > 0) / count_trades)\n",
        "    for i in range(len(stra_ret)):\n",
        "        earnings.append(stra_ret[i] + earnings[-1])\n",
        "    # tdays = stra_ret != 0\n",
        "    stra_ret = pd.Series(stra_ret, index=time)\n",
        "    daily_ret = stra_ret.groupby(pd.Grouper(freq='d')).sum()\n",
        "    Sharpe = daily_ret.mean() / daily_ret.std() * np.sqrt(252)\n",
        "    print(\"Sharpe：\", Sharpe)\n",
        "    plt.plot(earnings, label=\"Sharpe Ratio = {:.4}\".format(Sharpe))\n",
        "    plt.xlabel(\"Dates\")\n",
        "    plt.legend()\n",
        "    plt.ylabel(\"Return\")\n",
        "    plt.title(\"Return on {} set\".format(mode))\n",
        "    plt.show()\n",
        "    return stra_ret\n",
        "    \n",
        "def back_test(model, start_time, end_time, threshold=0.5, ret_10min=ret_10min, mode='test'):\n",
        "    test_predictions = making_prediction(model, start_time, end_time)\n",
        "    flag_p, flag_n = test_signal(test_predictions.values, threshold)\n",
        "    stra_performance(flag_p, flag_n, ret_10min.loc[start_time: end_time], mode=mode)\n"
      ],
      "execution_count": null,
      "outputs": []
    },
    {
      "cell_type": "code",
      "metadata": {
        "id": "JgxresjdOyMK",
        "colab_type": "code",
        "colab": {}
      },
      "source": [
        "def test_signal(y_pre, vol_threshold_span=100, ewm_span=100, open_constant=1, close_constant=0.75):\n",
        "  ewm_preds = y_pre.ewm(adjust=False, span=ewm_span).mean()\n",
        "  vol_thresholds = y_pre.rolling(vol_threshold_span).std()\n",
        "  flag_sp = y_pre > open_constant*vol_thresholds\n",
        "  flag_sn = y_pre < -open_constant*vol_thresholds\n",
        "  flag_wp = y_pre > close_constant*vol_thresholds\n",
        "  flag_wn = y_pre < -close_constant*vol_thresholds\n",
        "  return (flag_sp, flag_sn, flag_wp, flag_wn)\n",
        "\n",
        "def stra_performance(flag_sp, flag_sn, flag_wp, flag_wn, ret_23, start_num=2000, end_num=3000, label='long-short', mode='test', trading_cost=0.15/100, show=True):\n",
        "  stra_ret = np.zeros(len(ret_23))\n",
        "  portfolio = np.zeros(len(ret_23))\n",
        "  time = ret_23.index\n",
        "  ret_23 = ret_23.values\n",
        "  position = 0\n",
        "  count_trades = 0\n",
        "  earnings  = [0]\n",
        "  for i in range(len(ret_23)):\n",
        "    if position == 0:\n",
        "      if flag_sp[i]:\n",
        "        position = 1\n",
        "        stra_ret[i] = ret_23[i] - trading_cost\n",
        "        count_trades += 1\n",
        "      elif flag_sn[i]:\n",
        "        position = -1\n",
        "        stra_ret[i] = -ret_23[i] - trading_cost\n",
        "        count_trades += 1\n",
        "      else:\n",
        "        stra_ret[i] = 0\n",
        "    elif (flag_wn[i] and position == 1) or (flag_wp[i] and position == -1):\n",
        "      position = 0\n",
        "      stra_ret[i] = -trading_cost\n",
        "      count_trades += 1\n",
        "    else:\n",
        "      stra_ret[i] = ret_23[i] if position > 0 else -ret_23[i]\n",
        "  nan_filter = np.any([~np.isnan(ret_23), stra_ret == 0], axis=0)\n",
        "  stra_ret = stra_ret[nan_filter]\n",
        "  for i in range(len(stra_ret)):\n",
        "    earnings.append(stra_ret[i] + earnings[-1])\n",
        "  daily_ret = pd.Series(stra_ret, index=time[nan_filter]).groupby(pd.Grouper(freq='d')).sum()\n",
        "  Sharpe = daily_ret.mean() / daily_ret.std() * np.sqrt(365)\n",
        "  if show:\n",
        "    print(label, \": \")\n",
        "    print(\"Trades: \", count_trades, \"; Daily Sharpe：\", Sharpe)\n",
        "    plt.figure(figsize=(20,10))\n",
        "    plt.plot(pd.Series(earnings[1:], index=time[nan_filter]), label=\"Daily Sharpe Ratio = {:.4}\".format(Sharpe))\n",
        "    plt.xlabel(\"Dates\")\n",
        "    plt.legend()\n",
        "    plt.ylabel(\"Return\")\n",
        "    plt.title(\"Return on {} set\".format(mode))\n",
        "    plt.show()\n",
        "  return earnings[-1], Sharpe\n",
        "    \n",
        "def back_test(start_time=0, end_time=2000, ret_10min=ret_10min, vol_threshold_span=100, ewm_span=100, open_constant=1, close_constant=0.75, mode='test', show=True, preds=None):\n",
        "  'weak and strong signals specified in % points (for ex. 0.3 = 0.3% or a return of 0.003)'\n",
        "  if preds is None:\n",
        "    test_predictions = making_prediction(model, start_time, end_time)\n",
        "  else:\n",
        "    test_predictions = preds\n",
        "  flag_sp, flag_sn, flag_wp, flag_wn = test_signal(test_predictions, vol_threshold_span=vol_threshold_span, ewm_span=ewm_span, open_constant=open_constant, close_constant=close_constant)\n",
        "  return stra_performance(flag_sp, flag_sn, flag_wp, flag_wn, ret_10min.loc[start_time: end_time], start_time, end_time, mode=mode, show=show)\n"
      ],
      "execution_count": null,
      "outputs": []
    },
    {
      "cell_type": "code",
      "metadata": {
        "id": "rUMPcR7wUbKk",
        "colab_type": "code",
        "colab": {
          "base_uri": "https://localhost:8080/",
          "height": 610
        },
        "outputId": "4723e047-f24c-429f-e385-73beeeb678bf"
      },
      "source": [
        "plt.figure(figsize=(20, 10))\n",
        "making_prediction(model, '2017-09-12 00:00:00', '2018-01-07 00:00:00').plot()"
      ],
      "execution_count": null,
      "outputs": [
        {
          "output_type": "execute_result",
          "data": {
            "text/plain": [
              "<matplotlib.axes._subplots.AxesSubplot at 0x7fa490777eb8>"
            ]
          },
          "metadata": {
            "tags": []
          },
          "execution_count": 29
        },
        {
          "output_type": "display_data",
          "data": {
            "image/png": "[encoded data removed]",
            "text/plain": [
              "<Figure size 1440x720 with 1 Axes>"
            ]
          },
          "metadata": {
            "tags": [],
            "needs_background": "light"
          }
        }
      ]
    },
    {
      "cell_type": "code",
      "metadata": {
        "id": "TaQmh2E-OlAA",
        "colab_type": "code",
        "colab": {
          "base_uri": "https://localhost:8080/",
          "height": 84
        },
        "outputId": "e22d094e-e056-4bb9-96e5-6074c86bc909"
      },
      "source": [
        "# Grid search for ideal weak and strong cutoffs:\n",
        "port_sr = []\n",
        "constants = []\n",
        "count = 0\n",
        "for open_constant in np.linspace(0.25, 5, num=20, endpoint=True):\n",
        "  for close_constant in np.linspace(0.25, 5, num=20, endpoint=True):\n",
        "    if count % 100 == 0:\n",
        "      print(\"Completed\", count, \"cross validations\")\n",
        "    port, sr = back_test(start_time='2018-01-07 00:00:00', end_time='2018-03-12 00:00:00', vol_threshold_span=144, ewm_span=100, open_constant=open_constant, close_constant=close_constant, mode='test', show=False)\n",
        "    port_sr.append([open_constant, close_constant, port, sr])\n",
        "    count += 1\n"
      ],
      "execution_count": null,
      "outputs": [
        {
          "output_type": "stream",
          "text": [
            "Completed 0 cross validations\n",
            "Completed 100 cross validations\n",
            "Completed 200 cross validations\n",
            "Completed 300 cross validations\n"
          ],
          "name": "stdout"
        }
      ]
    },
    {
      "cell_type": "code",
      "metadata": {
        "id": "v_HlEnQVD1Bk",
        "colab_type": "code",
        "colab": {
          "base_uri": "https://localhost:8080/",
          "height": 640
        },
        "outputId": "87b1d74b-9857-42ab-f9fd-91edf94c7a2c"
      },
      "source": [
        "back_test(start_time='2018-09-12 00:00:00', end_time='2019-01-07 00:00:00', vol_threshold_span=1440, ewm_span=100, open_constant=2, close_constant=0.1, mode='test', show=True)"
      ],
      "execution_count": null,
      "outputs": [
        {
          "output_type": "stream",
          "text": [
            "long-short : \n",
            "Trades:  129 ; Daily Sharpe： -3.57271026551896\n"
          ],
          "name": "stdout"
        },
        {
          "output_type": "display_data",
          "data": {
            "image/png": "[encoded data removed]",
            "text/plain": [
              "<Figure size 1440x720 with 1 Axes>"
            ]
          },
          "metadata": {
            "tags": [],
            "needs_background": "light"
          }
        },
        {
          "output_type": "execute_result",
          "data": {
            "text/plain": [
              "(-0.6948029822901249, -3.57271026551896)"
            ]
          },
          "metadata": {
            "tags": []
          },
          "execution_count": 31
        }
      ]
    },
    {
      "cell_type": "code",
      "metadata": {
        "id": "3ltOPxIvmDh9",
        "colab_type": "code",
        "colab": {}
      },
      "source": [
        "test_predictions = making_prediction(model, start_time='2017-09-12 00:00:00', end_time='2018-01-07 00:00:00')"
      ],
      "execution_count": null,
      "outputs": []
    },
    {
      "cell_type": "code",
      "metadata": {
        "id": "ttHCXewISWDt",
        "colab_type": "code",
        "colab": {
          "base_uri": "https://localhost:8080/",
          "height": 402
        },
        "outputId": "e7f0b87e-676d-4e9e-c162-22f48928464c"
      },
      "source": [
        "calibrations = pd.DataFrame(port_sr)\n",
        "calibrations = calibrations.rename({\"1\": \"Weak Signal\", \"2\": \"Strong Signal\", \"3\": \"Portfolio Final Value\", \"4\": \"Sharpe Ratio (Daily)\"})\n",
        "calibrations.columns = [\"Open Constant\", \"Close Constant\", \"Portfolio Final Value\", \"Sharpe Ratio (Daily)\"]\n",
        "calibrations = calibrations.sort_values(by=['Portfolio Final Value', \"Sharpe Ratio (Daily)\"], ascending=False).reset_index(drop=True)\n",
        "\n",
        "calibrations.head(400)"
      ],
      "execution_count": null,
      "outputs": [
        {
          "output_type": "execute_result",
          "data": {
            "text/html": [
              "<div>\n",
              "<style scoped>\n",
              "    .dataframe tbody tr th:only-of-type {\n",
              "        vertical-align: middle;\n",
              "    }\n",
              "\n",
              "    .dataframe tbody tr th {\n",
              "        vertical-align: top;\n",
              "    }\n",
              "\n",
              "    .dataframe thead th {\n",
              "        text-align: right;\n",
              "    }\n",
              "</style>\n",
              "<table border=\"1\" class=\"dataframe\">\n",
              "  <thead>\n",
              "    <tr style=\"text-align: right;\">\n",
              "      <th></th>\n",
              "      <th>Open Constant</th>\n",
              "      <th>Close Constant</th>\n",
              "      <th>Portfolio Final Value</th>\n",
              "      <th>Sharpe Ratio (Daily)</th>\n",
              "    </tr>\n",
              "  </thead>\n",
              "  <tbody>\n",
              "    <tr>\n",
              "      <th>0</th>\n",
              "      <td>4.25</td>\n",
              "      <td>0.75</td>\n",
              "      <td>0.125710</td>\n",
              "      <td>1.673046</td>\n",
              "    </tr>\n",
              "    <tr>\n",
              "      <th>1</th>\n",
              "      <td>4.25</td>\n",
              "      <td>1.00</td>\n",
              "      <td>0.059726</td>\n",
              "      <td>0.593698</td>\n",
              "    </tr>\n",
              "    <tr>\n",
              "      <th>2</th>\n",
              "      <td>3.50</td>\n",
              "      <td>0.25</td>\n",
              "      <td>0.049897</td>\n",
              "      <td>0.679207</td>\n",
              "    </tr>\n",
              "    <tr>\n",
              "      <th>3</th>\n",
              "      <td>4.25</td>\n",
              "      <td>1.25</td>\n",
              "      <td>0.031183</td>\n",
              "      <td>0.226063</td>\n",
              "    </tr>\n",
              "    <tr>\n",
              "      <th>4</th>\n",
              "      <td>5.00</td>\n",
              "      <td>0.25</td>\n",
              "      <td>0.024268</td>\n",
              "      <td>1.169150</td>\n",
              "    </tr>\n",
              "    <tr>\n",
              "      <th>...</th>\n",
              "      <td>...</td>\n",
              "      <td>...</td>\n",
              "      <td>...</td>\n",
              "      <td>...</td>\n",
              "    </tr>\n",
              "    <tr>\n",
              "      <th>395</th>\n",
              "      <td>0.75</td>\n",
              "      <td>0.50</td>\n",
              "      <td>-0.881614</td>\n",
              "      <td>-4.586925</td>\n",
              "    </tr>\n",
              "    <tr>\n",
              "      <th>396</th>\n",
              "      <td>0.25</td>\n",
              "      <td>0.75</td>\n",
              "      <td>-0.887403</td>\n",
              "      <td>-4.739616</td>\n",
              "    </tr>\n",
              "    <tr>\n",
              "      <th>397</th>\n",
              "      <td>0.75</td>\n",
              "      <td>0.25</td>\n",
              "      <td>-0.889629</td>\n",
              "      <td>-4.972859</td>\n",
              "    </tr>\n",
              "    <tr>\n",
              "      <th>398</th>\n",
              "      <td>0.25</td>\n",
              "      <td>0.50</td>\n",
              "      <td>-0.948470</td>\n",
              "      <td>-4.629282</td>\n",
              "    </tr>\n",
              "    <tr>\n",
              "      <th>399</th>\n",
              "      <td>0.25</td>\n",
              "      <td>0.25</td>\n",
              "      <td>-1.065207</td>\n",
              "      <td>-5.359429</td>\n",
              "    </tr>\n",
              "  </tbody>\n",
              "</table>\n",
              "<p>400 rows × 4 columns</p>\n",
              "</div>"
            ],
            "text/plain": [
              "     Open Constant  Close Constant  Portfolio Final Value  Sharpe Ratio (Daily)\n",
              "0             4.25            0.75               0.125710              1.673046\n",
              "1             4.25            1.00               0.059726              0.593698\n",
              "2             3.50            0.25               0.049897              0.679207\n",
              "3             4.25            1.25               0.031183              0.226063\n",
              "4             5.00            0.25               0.024268              1.169150\n",
              "..             ...             ...                    ...                   ...\n",
              "395           0.75            0.50              -0.881614             -4.586925\n",
              "396           0.25            0.75              -0.887403             -4.739616\n",
              "397           0.75            0.25              -0.889629             -4.972859\n",
              "398           0.25            0.50              -0.948470             -4.629282\n",
              "399           0.25            0.25              -1.065207             -5.359429\n",
              "\n",
              "[400 rows x 4 columns]"
            ]
          },
          "metadata": {
            "tags": []
          },
          "execution_count": 33
        }
      ]
    },
    {
      "cell_type": "code",
      "metadata": {
        "id": "SD2d2eRskc5I",
        "colab_type": "code",
        "colab": {
          "base_uri": "https://localhost:8080/",
          "height": 34
        },
        "outputId": "cc55a8f6-3d68-4446-f82c-fcf59334eee3"
      },
      "source": [
        "np.linspace(0.5, 4.5, num=5, endpoint=True)"
      ],
      "execution_count": null,
      "outputs": [
        {
          "output_type": "execute_result",
          "data": {
            "text/plain": [
              "array([0.5, 1.5, 2.5, 3.5, 4.5])"
            ]
          },
          "metadata": {
            "tags": []
          },
          "execution_count": 34
        }
      ]
    },
    {
      "cell_type": "code",
      "metadata": {
        "id": "_c5UcmWNfNZ9",
        "colab_type": "code",
        "colab": {}
      },
      "source": [
        "def cross_validate(start_time, end_time, preds=None, vol_threshold_span=144, ewm_span=100):\n",
        "  port_sr = []\n",
        "  for open_constant in np.linspace(0.5, 4.5, num=5, endpoint=True):\n",
        "    for close_constant in np.linspace(0.5, 4.5, num=5, endpoint=True):\n",
        "      port, sr = back_test(start_time=start_time, end_time=end_time, vol_threshold_span=vol_threshold_span, ewm_span=ewm_span, open_constant=open_constant, close_constant=close_constant, mode='test', show=False, preds=preds)\n",
        "      port_sr.append([open_constant, close_constant, port, sr])\n",
        "  calibrations = pd.DataFrame(port_sr)\n",
        "  calibrations.columns = [\"Open Constant\", \"Close Constant\", \"Portfolio Final Value\", \"Sharpe Ratio (Daily)\"]\n",
        "  calibrations = calibrations.sort_values(by=['Portfolio Final Value', \"Sharpe Ratio (Daily)\"], ascending=False).reset_index(drop=True)\n",
        "  return calibrations"
      ],
      "execution_count": null,
      "outputs": []
    },
    {
      "cell_type": "code",
      "metadata": {
        "id": "LJO_0lMYip0g",
        "colab_type": "code",
        "colab": {}
      },
      "source": [
        "def test(start_time, end_time, open_constant, close_constant, preds=None, vol_threshold_span=144, ewm_span=100):\n",
        "  ret, sr = back_test(start_time=start_time, end_time=end_time, vol_threshold_span=vol_threshold_span, ewm_span=ewm_span, open_constant=open_constant, close_constant=close_constant, mode='test', show=False, preds=preds)\n",
        "  return ret, sr"
      ],
      "execution_count": null,
      "outputs": []
    },
    {
      "cell_type": "code",
      "metadata": {
        "id": "uLJkVRukdP3K",
        "colab_type": "code",
        "colab": {}
      },
      "source": [
        "preds = pd.read_csv(\"../Data/predictions.csv\", index_col=0, parse_dates=True)\n",
        "preds = pd.Series(preds['0'])\n",
        "cv_start_time = preds.index[0]\n",
        "cv_end_time = cv_start_time + datetime.timedelta(days=30)\n",
        "test_start_time = cv_end_time + datetime.timedelta(seconds=1)\n",
        "test_end_time = test_start_time + datetime.timedelta(days=60)\n",
        "test_results = []\n",
        "while test_start_time < preds.index.max():\n",
        "  cv_preds = preds[(preds.index >= cv_start_time) & \n",
        "                   (preds.index <= cv_end_time)]\n",
        "  test_preds = preds[(preds.index >= test_start_time) & \n",
        "                     (preds.index <= test_end_time)]\n",
        "  calibrations = cross_validate(cv_start_time, cv_end_time, preds=cv_preds)\n",
        "  open_constant = calibrations['Open Constant'][0]\n",
        "  close_constant = calibrations['Close Constant'][0]\n",
        "  cv_return = calibrations['Portfolio Final Value'][0]\n",
        "  cv_sr = calibrations['Sharpe Ratio (Daily)'][0]\n",
        "  test_return, test_sr = test(test_start_time, test_end_time, open_constant=open_constant, close_constant=close_constant, preds=test_preds)\n",
        "  test_results.append([test_start_time, test_end_time,  open_constant, close_constant, cv_return, cv_sr, test_return, test_sr])\n",
        "  cv_start_time += datetime.timedelta(days=90)\n",
        "  cv_end_time += datetime.timedelta(days=90)\n",
        "  test_start_time += datetime.timedelta(days=90)\n",
        "  test_end_time += datetime.timedelta(days=90)"
      ],
      "execution_count": null,
      "outputs": []
    },
    {
      "cell_type": "code",
      "metadata": {
        "id": "pc2hVy8cs8lc",
        "colab_type": "code",
        "colab": {
          "base_uri": "https://localhost:8080/",
          "height": 225
        },
        "outputId": "1345c375-bada-41e3-9840-4575533711ef"
      },
      "source": [
        "results = pd.DataFrame(test_results)\n",
        "results.columns = [\"Test Start\", \"Test End\", \"Open Constant\", \"Close Constant\", \"CV Return\", \"CV SR\", \"Test Return\", \"Test SR\"]\n",
        "results"
      ],
      "execution_count": null,
      "outputs": [
        {
          "output_type": "execute_result",
          "data": {
            "text/html": [
              "<div>\n",
              "<style scoped>\n",
              "    .dataframe tbody tr th:only-of-type {\n",
              "        vertical-align: middle;\n",
              "    }\n",
              "\n",
              "    .dataframe tbody tr th {\n",
              "        vertical-align: top;\n",
              "    }\n",
              "\n",
              "    .dataframe thead th {\n",
              "        text-align: right;\n",
              "    }\n",
              "</style>\n",
              "<table border=\"1\" class=\"dataframe\">\n",
              "  <thead>\n",
              "    <tr style=\"text-align: right;\">\n",
              "      <th></th>\n",
              "      <th>Test Start</th>\n",
              "      <th>Test End</th>\n",
              "      <th>Open Constant</th>\n",
              "      <th>Close Constant</th>\n",
              "      <th>CV Return</th>\n",
              "      <th>CV SR</th>\n",
              "      <th>Test Return</th>\n",
              "      <th>Test SR</th>\n",
              "    </tr>\n",
              "  </thead>\n",
              "  <tbody>\n",
              "    <tr>\n",
              "      <th>0</th>\n",
              "      <td>2017-08-11 00:00:01</td>\n",
              "      <td>2017-10-10 00:00:01</td>\n",
              "      <td>0.5</td>\n",
              "      <td>0.5</td>\n",
              "      <td>0.587949</td>\n",
              "      <td>5.522215</td>\n",
              "      <td>0.196749</td>\n",
              "      <td>1.581970</td>\n",
              "    </tr>\n",
              "    <tr>\n",
              "      <th>1</th>\n",
              "      <td>2017-11-09 00:00:01</td>\n",
              "      <td>2018-01-08 00:00:01</td>\n",
              "      <td>4.5</td>\n",
              "      <td>4.5</td>\n",
              "      <td>0.437376</td>\n",
              "      <td>7.259064</td>\n",
              "      <td>0.848154</td>\n",
              "      <td>3.918757</td>\n",
              "    </tr>\n",
              "    <tr>\n",
              "      <th>2</th>\n",
              "      <td>2018-02-07 00:00:01</td>\n",
              "      <td>2018-04-08 00:00:01</td>\n",
              "      <td>2.5</td>\n",
              "      <td>0.5</td>\n",
              "      <td>0.255962</td>\n",
              "      <td>3.512368</td>\n",
              "      <td>0.253350</td>\n",
              "      <td>2.415076</td>\n",
              "    </tr>\n",
              "    <tr>\n",
              "      <th>3</th>\n",
              "      <td>2018-05-08 00:00:01</td>\n",
              "      <td>2018-07-07 00:00:01</td>\n",
              "      <td>0.5</td>\n",
              "      <td>3.5</td>\n",
              "      <td>0.363592</td>\n",
              "      <td>4.946958</td>\n",
              "      <td>-0.110370</td>\n",
              "      <td>-0.968453</td>\n",
              "    </tr>\n",
              "    <tr>\n",
              "      <th>4</th>\n",
              "      <td>2018-08-06 00:00:01</td>\n",
              "      <td>2018-10-05 00:00:01</td>\n",
              "      <td>3.5</td>\n",
              "      <td>1.5</td>\n",
              "      <td>0.062333</td>\n",
              "      <td>3.888583</td>\n",
              "      <td>-0.100016</td>\n",
              "      <td>-2.360890</td>\n",
              "    </tr>\n",
              "    <tr>\n",
              "      <th>5</th>\n",
              "      <td>2018-11-04 00:00:01</td>\n",
              "      <td>2019-01-03 00:00:01</td>\n",
              "      <td>3.5</td>\n",
              "      <td>3.5</td>\n",
              "      <td>0.042220</td>\n",
              "      <td>1.867253</td>\n",
              "      <td>-0.694353</td>\n",
              "      <td>-4.309150</td>\n",
              "    </tr>\n",
              "  </tbody>\n",
              "</table>\n",
              "</div>"
            ],
            "text/plain": [
              "           Test Start            Test End  ...  Test Return   Test SR\n",
              "0 2017-08-11 00:00:01 2017-10-10 00:00:01  ...     0.196749  1.581970\n",
              "1 2017-11-09 00:00:01 2018-01-08 00:00:01  ...     0.848154  3.918757\n",
              "2 2018-02-07 00:00:01 2018-04-08 00:00:01  ...     0.253350  2.415076\n",
              "3 2018-05-08 00:00:01 2018-07-07 00:00:01  ...    -0.110370 -0.968453\n",
              "4 2018-08-06 00:00:01 2018-10-05 00:00:01  ...    -0.100016 -2.360890\n",
              "5 2018-11-04 00:00:01 2019-01-03 00:00:01  ...    -0.694353 -4.309150\n",
              "\n",
              "[6 rows x 8 columns]"
            ]
          },
          "metadata": {
            "tags": []
          },
          "execution_count": 40
        }
      ]
    },
    {
      "cell_type": "code",
      "metadata": {
        "id": "6siQhHzVu7J4",
        "colab_type": "code",
        "colab": {
          "base_uri": "https://localhost:8080/",
          "height": 644
        },
        "outputId": "941b0f9a-ab7e-48f5-d87f-a1419c90dbfe"
      },
      "source": [
        "back_test(start_time=str(preds.index.min()), end_time=str(preds.index.max()), vol_threshold_span=144, ewm_span=100, open_constant=1, close_constant=0.1, mode='test', show=True, preds=preds)"
      ],
      "execution_count": null,
      "outputs": [
        {
          "output_type": "stream",
          "text": [
            "long-short : \n",
            "Trades:  118 ; Daily Sharpe： 0.6619252216600007\n"
          ],
          "name": "stdout"
        },
        {
          "output_type": "display_data",
          "data": {
            "image/png": "[encoded data removed]",
            "text/plain": [
              "<Figure size 1440x720 with 1 Axes>"
            ]
          },
          "metadata": {
            "tags": [],
            "needs_background": "light"
          }
        },
        {
          "output_type": "execute_result",
          "data": {
            "text/plain": [
              "(0.7333871548363738, 0.6619252216600007)"
            ]
          },
          "metadata": {
            "tags": []
          },
          "execution_count": 102
        }
      ]
    },
    {
      "cell_type": "markdown",
      "metadata": {
        "id": "02fxiZlvvV3t",
        "colab_type": "text"
      },
      "source": [
        "* We can say ignoring costs and fractions, this strategy significantly beat the market.\n",
        "\n",
        "* Is it possible to build this into a practically profitable strategy?"
      ]
    }
  ]
}