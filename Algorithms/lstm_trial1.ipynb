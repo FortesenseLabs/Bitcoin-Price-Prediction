{
 "cells": [
  {
   "cell_type": "code",
   "execution_count": 8,
   "metadata": {
    "colab": {
     "base_uri": "https://localhost:8080/",
     "height": 34
    },
    "colab_type": "code",
    "id": "0Kzxs-LPIj_d",
    "outputId": "52736d90-aadf-420d-d159-32f1d6239f0c"
   },
   "outputs": [
    {
     "name": "stdout",
     "output_type": "stream",
     "text": [
      "Num GPUs Available:  1\n"
     ]
    }
   ],
   "source": [
    "import numpy as np\n",
    "import pandas as pd\n",
    "import os\n",
    "import matplotlib.pyplot as plt\n",
    "import seaborn as sns\n",
    "import datetime\n",
    "from sklearn.preprocessing import RobustScaler\n",
    "import datetime\n",
    "\n",
    "import tensorflow as tf\n",
    "from tensorflow import keras\n",
    "from tensorflow.keras import layers\n",
    "\n",
    "print(\"Num GPUs Available: \", len(tf.config.experimental.list_physical_devices('GPU')))"
   ]
  },
  {
   "cell_type": "code",
   "execution_count": 9,
   "metadata": {
    "colab": {
     "base_uri": "https://localhost:8080/",
     "height": 304
    },
    "colab_type": "code",
    "id": "GYsvsZx8Ij_i",
    "outputId": "31631264-14b5-42e5-e91e-17c3a6fa7a40"
   },
   "outputs": [
    {
     "data": {
      "text/html": [
       "<div>\n",
       "<style scoped>\n",
       "    .dataframe tbody tr th:only-of-type {\n",
       "        vertical-align: middle;\n",
       "    }\n",
       "\n",
       "    .dataframe tbody tr th {\n",
       "        vertical-align: top;\n",
       "    }\n",
       "\n",
       "    .dataframe thead th {\n",
       "        text-align: right;\n",
       "    }\n",
       "</style>\n",
       "<table border=\"1\" class=\"dataframe\">\n",
       "  <thead>\n",
       "    <tr style=\"text-align: right;\">\n",
       "      <th></th>\n",
       "      <th>Open</th>\n",
       "      <th>High</th>\n",
       "      <th>Low</th>\n",
       "      <th>Close</th>\n",
       "      <th>Adj Close</th>\n",
       "      <th>Volume</th>\n",
       "      <th>adj_factor</th>\n",
       "      <th>Adj Open</th>\n",
       "      <th>Adj High</th>\n",
       "      <th>Adj Low</th>\n",
       "      <th>Amount</th>\n",
       "      <th>Return</th>\n",
       "    </tr>\n",
       "  </thead>\n",
       "  <tbody>\n",
       "    <tr>\n",
       "      <th>count</th>\n",
       "      <td>4940.000000</td>\n",
       "      <td>4940.000000</td>\n",
       "      <td>4940.000000</td>\n",
       "      <td>4940.000000</td>\n",
       "      <td>4940.000000</td>\n",
       "      <td>4.940000e+03</td>\n",
       "      <td>4940.000000</td>\n",
       "      <td>4940.000000</td>\n",
       "      <td>4940.000000</td>\n",
       "      <td>4940.000000</td>\n",
       "      <td>4.940000e+03</td>\n",
       "      <td>4939.000000</td>\n",
       "    </tr>\n",
       "    <tr>\n",
       "      <th>mean</th>\n",
       "      <td>154.916778</td>\n",
       "      <td>155.806689</td>\n",
       "      <td>153.932967</td>\n",
       "      <td>154.915397</td>\n",
       "      <td>130.080000</td>\n",
       "      <td>1.131555e+08</td>\n",
       "      <td>0.812321</td>\n",
       "      <td>130.078555</td>\n",
       "      <td>130.806185</td>\n",
       "      <td>129.273872</td>\n",
       "      <td>1.670164e+10</td>\n",
       "      <td>0.000215</td>\n",
       "    </tr>\n",
       "    <tr>\n",
       "      <th>std</th>\n",
       "      <td>55.392654</td>\n",
       "      <td>55.455574</td>\n",
       "      <td>55.300664</td>\n",
       "      <td>55.399593</td>\n",
       "      <td>61.369875</td>\n",
       "      <td>9.924321e+07</td>\n",
       "      <td>0.090854</td>\n",
       "      <td>61.360605</td>\n",
       "      <td>61.498516</td>\n",
       "      <td>61.191653</td>\n",
       "      <td>1.263130e+10</td>\n",
       "      <td>0.012023</td>\n",
       "    </tr>\n",
       "    <tr>\n",
       "      <th>min</th>\n",
       "      <td>67.949997</td>\n",
       "      <td>70.000000</td>\n",
       "      <td>67.099998</td>\n",
       "      <td>68.110001</td>\n",
       "      <td>53.947025</td>\n",
       "      <td>1.436600e+06</td>\n",
       "      <td>0.680423</td>\n",
       "      <td>53.820293</td>\n",
       "      <td>55.444013</td>\n",
       "      <td>53.147048</td>\n",
       "      <td>2.102599e+08</td>\n",
       "      <td>-0.103637</td>\n",
       "    </tr>\n",
       "    <tr>\n",
       "      <th>25%</th>\n",
       "      <td>115.087498</td>\n",
       "      <td>115.914999</td>\n",
       "      <td>114.237499</td>\n",
       "      <td>115.035000</td>\n",
       "      <td>86.590834</td>\n",
       "      <td>4.774008e+07</td>\n",
       "      <td>0.729271</td>\n",
       "      <td>86.563831</td>\n",
       "      <td>87.135411</td>\n",
       "      <td>85.990860</td>\n",
       "      <td>5.662622e+09</td>\n",
       "      <td>-0.004688</td>\n",
       "    </tr>\n",
       "    <tr>\n",
       "      <th>50%</th>\n",
       "      <td>135.365005</td>\n",
       "      <td>136.359375</td>\n",
       "      <td>134.345001</td>\n",
       "      <td>135.367500</td>\n",
       "      <td>104.276886</td>\n",
       "      <td>8.471245e+07</td>\n",
       "      <td>0.806054</td>\n",
       "      <td>104.382847</td>\n",
       "      <td>105.009414</td>\n",
       "      <td>103.567459</td>\n",
       "      <td>1.585927e+10</td>\n",
       "      <td>0.000637</td>\n",
       "    </tr>\n",
       "    <tr>\n",
       "      <th>75%</th>\n",
       "      <td>194.987495</td>\n",
       "      <td>195.797501</td>\n",
       "      <td>193.922504</td>\n",
       "      <td>194.922497</td>\n",
       "      <td>174.989334</td>\n",
       "      <td>1.524191e+08</td>\n",
       "      <td>0.892026</td>\n",
       "      <td>174.750644</td>\n",
       "      <td>175.675158</td>\n",
       "      <td>173.599633</td>\n",
       "      <td>2.352806e+10</td>\n",
       "      <td>0.005786</td>\n",
       "    </tr>\n",
       "    <tr>\n",
       "      <th>max</th>\n",
       "      <td>301.880005</td>\n",
       "      <td>302.230011</td>\n",
       "      <td>300.850006</td>\n",
       "      <td>302.010010</td>\n",
       "      <td>296.099121</td>\n",
       "      <td>8.710263e+08</td>\n",
       "      <td>0.980428</td>\n",
       "      <td>295.971668</td>\n",
       "      <td>296.314816</td>\n",
       "      <td>294.961829</td>\n",
       "      <td>9.561302e+10</td>\n",
       "      <td>0.135577</td>\n",
       "    </tr>\n",
       "  </tbody>\n",
       "</table>\n",
       "</div>"
      ],
      "text/plain": [
       "              Open         High  ...        Amount       Return\n",
       "count  4940.000000  4940.000000  ...  4.940000e+03  4939.000000\n",
       "mean    154.916778   155.806689  ...  1.670164e+10     0.000215\n",
       "std      55.392654    55.455574  ...  1.263130e+10     0.012023\n",
       "min      67.949997    70.000000  ...  2.102599e+08    -0.103637\n",
       "25%     115.087498   115.914999  ...  5.662622e+09    -0.004688\n",
       "50%     135.365005   136.359375  ...  1.585927e+10     0.000637\n",
       "75%     194.987495   195.797501  ...  2.352806e+10     0.005786\n",
       "max     301.880005   302.230011  ...  9.561302e+10     0.135577\n",
       "\n",
       "[8 rows x 12 columns]"
      ]
     },
     "execution_count": 9,
     "metadata": {
      "tags": []
     },
     "output_type": "execute_result"
    }
   ],
   "source": [
    "data = pd.read_csv('SPY.csv', index_col=0)\n",
    "data.describe()"
   ]
  },
  {
   "cell_type": "code",
   "execution_count": 10,
   "metadata": {
    "colab": {},
    "colab_type": "code",
    "id": "tKoiOCDeIj_l"
   },
   "outputs": [],
   "source": [
    "def series_to_supervised(data, lags=10, columns=None, burnout=100):\n",
    "    \"\"\"\n",
    "    Create  X: a 3D array, in shape (nsample, lags, nfeatures)\n",
    "            Y: a 2D array, in shape (nsample, 1)\n",
    "    \"\"\"\n",
    "    if not columns:\n",
    "        columns = ['Adj Open', 'Adj High', 'Adj Low', 'Adj Close', 'Amount']\n",
    "    nsample, nfeatures = len(data), len(columns)\n",
    "    \n",
    "    Y = data['Return'].values\n",
    "    X = np.zeros((nsample, lags, nfeatures))\n",
    "    for i in range(1, lags+1):\n",
    "        X[:, lags-i, :] = data[columns].shift(i).values\n",
    "    \n",
    "    return X[lags+burnout:], Y[lags+burnout:]\n",
    "\n",
    "def normalize_X(X, data, lags=10, burnout=100, window=50):\n",
    "    \"\"\"\n",
    "    This part will normalize features in X.\n",
    "    To normalize the prices, we will calculate the ratio of price to the close of lag+1 day before\n",
    "    To normalize the amount, we will calculate the ratio of amount to its 50 days' rolling average\n",
    "    args:\n",
    "        X: feature data\n",
    "        data: the price&volume dataframe\n",
    "        window: the window for the rolling average\n",
    "    return:\n",
    "        normalized X\n",
    "    \"\"\"\n",
    "    price_o = data['Adj Close'].shift(lags + 1).values[lags+burnout:].reshape(-1, 1, 1)\n",
    "    avg_amt = data['Amount'].rolling(window).mean().shift(1).values[lags+burnout:].reshape(-1, 1)\n",
    "    \n",
    "    X[:, :, :-1] = X[:, :, :-1] / price_o # normalize the prices\n",
    "    X[:, :, -1] = X[:, :, -1] / avg_amt # normalize the amount\n",
    "    \n",
    "    return X\n",
    "\n",
    "def normalize_y(Y):\n",
    "    \"\"\"\n",
    "    Apply robust scaler to Y and Clip the extremums of Y.\n",
    "    return:\n",
    "        y: normalized version\n",
    "    \"\"\"\n",
    "    scaler = RobustScaler()\n",
    "    scaler.fit(Y.reshape(-1,1))\n",
    "    Y[Y > scaler.center_ + 2.5*scaler.scale_] = scaler.center_ + 2.5*scaler.scale_\n",
    "    Y[Y < scaler.center_ - 2.5*scaler.scale_] = scaler.center_ - 2.5*scaler.scale_\n",
    "    return Y * 100\n",
    "\n",
    "def Prepare_data(data, lags=10, columns=None, burnout=100, window=50, train_size=2000):\n",
    "    \"\"\"\n",
    "    A wrapper for data preparation.\n",
    "    \"\"\"\n",
    "    X, Y = series_to_supervised(data, lags, columns, burnout)\n",
    "    X = normalize_X(X, data, lags, burnout, window)\n",
    "    train_label, test_label = Y[:train_size], Y[train_size:]*100\n",
    "    train_label = normalize_y(train_label)\n",
    "    cache = {\n",
    "        'train_data': X[:train_size],\n",
    "        'train_label': train_label,\n",
    "        'test_data': X[train_size:],\n",
    "        'test_label': test_label\n",
    "#         'scaler': scaler\n",
    "    }\n",
    "    return cache"
   ]
  },
  {
   "cell_type": "code",
   "execution_count": 11,
   "metadata": {
    "colab": {},
    "colab_type": "code",
    "id": "f5Du18chIj_n"
   },
   "outputs": [],
   "source": [
    "nlags = 20\n",
    "\n",
    "cache = Prepare_data(data, 20, train_size=-1200)"
   ]
  },
  {
   "cell_type": "code",
   "execution_count": 12,
   "metadata": {
    "colab": {},
    "colab_type": "code",
    "id": "0q9LiLLlIj_p"
   },
   "outputs": [],
   "source": [
    "import keras.backend as K\n",
    "def right_direction(y_true, y_pred):\n",
    "    length = K.shape(y_true)[0]\n",
    "    pmn = K.sum(K.sign(y_true * y_pred)) ## positive - negative\n",
    "    ppn = K.sum(K.abs(K.sign(y_true * y_pred)))\n",
    "    wrong_rate = (ppn + pmn) /2/ ppn\n",
    "    return wrong_rate * 100\n",
    "\n",
    "def plot_history(history):\n",
    "    hist = pd.DataFrame(history.history)\n",
    "    hist['epoch'] = history.epoch\n",
    "  \n",
    "    fig, ax = plt.subplots()\n",
    "    ax.set_xlabel('Epoch')\n",
    "    ax.set_ylabel('MSE')\n",
    "    ax.plot(hist['epoch'], hist['loss'],\n",
    "           label='Train Error')\n",
    "    ax.legend()\n",
    "    ax1 = ax.twinx()\n",
    "    ax1.plot(hist['epoch'], hist['val_loss'],\n",
    "           label = 'Val Error', color='r')\n",
    "    #   plt.ylim([0,])\n",
    "    ax1.legend()\n",
    "\n",
    "    plt.figure()\n",
    "    plt.xlabel('Epoch')\n",
    "    plt.ylabel('accuracy')\n",
    "    plt.plot(hist['epoch'], hist['right_direction'],\n",
    "           label='Train Accuracy')\n",
    "    plt.plot(hist['epoch'], hist['val_right_direction'],\n",
    "           label = 'Val Accuracy', color='r')\n",
    "    #   plt.ylim([0,20])\n",
    "    plt.legend()\n",
    "    plt.show()\n",
    "\n",
    "def build_model1(units=12, nlags=10, seed=1):\n",
    "    \n",
    "    model = keras.Sequential([\n",
    "#         layers.Dense(8, input_shape=(nlags, 5), activation='relu', kernel_regularizer=keras.regularizers.L2(0.01)),\n",
    "#         layers.Dense(12, activation='relu', kernel_regularizer=keras.regularizers.L2(0.01)),\n",
    "#         layers.BatchNormalization(trainable=True),\n",
    "#         layers.Dense(12, activation='relu', kernel_regularizer=keras.regularizers.L2(0.0)),\n",
    "#         layers.Dropout(rate=0.1),\n",
    "        layers.LSTM(units=units, activation='tanh', recurrent_activation='tanh', return_sequences=False, input_shape=(nlags, 5)),\n",
    "        layers.Dropout(rate=0.2),\n",
    "#         layers.LSTM(units=units, activation='tanh', recurrent_activation='tanh'),\n",
    "        layers.Dense(10, activation='relu'),\n",
    "        layers.BatchNormalization(trainable=True),\n",
    "        layers.Dense(10, activation=tf.nn.relu),\n",
    "        layers.Dense(5, activation=tf.nn.relu),\n",
    "        layers.Dense(1)\n",
    "    ])\n",
    "\n",
    "#     lr = tf.keras.optimizers.schedules.ExponentialDecay(initial_learning_rate=0.001, decay_steps=100, decay_rate=0.9)\n",
    "    lr=0.001\n",
    "    \n",
    "    optimizer = tf.keras.optimizers.Adam(lr)\n",
    "\n",
    "    model.compile(loss='mse',\n",
    "                optimizer=optimizer,\n",
    "                metrics=[right_direction, 'mae'])\n",
    "    return model\n",
    "\n",
    "def build_model(units=12, nlags=10, seed=1):\n",
    "#     tf.random.set_seed(seed)\n",
    "    model = keras.Sequential([\n",
    "#         layers.Dense(8, input_shape=(nlags, 5), activation='relu', kernel_regularizer=keras.regularizers.L2(0.01)),\n",
    "#         layers.Dense(12, activation='relu', kernel_regularizer=keras.regularizers.L2(0.01)),\n",
    "#         layers.BatchNormalization(trainable=True),\n",
    "#         layers.Dense(12, activation='relu', kernel_regularizer=keras.regularizers.L2(0.0)),\n",
    "#         layers.Dropout(rate=0.1),\n",
    "        layers.LSTM(units=units, activation='tanh', recurrent_activation='tanh', return_sequences=True, input_shape=(nlags, 5)),\n",
    "        layers.Dropout(rate=0.2),\n",
    "        layers.LSTM(units=units, activation='tanh', recurrent_activation='tanh'),\n",
    "        layers.BatchNormalization(trainable=True),\n",
    "        layers.Dense(10, activation=tf.nn.relu),\n",
    "        layers.Dense(5, activation=tf.nn.relu),\n",
    "        layers.Dense(1)\n",
    "    ])\n",
    "\n",
    "#     lr = tf.keras.optimizers.schedules.ExponentialDecay(initial_learning_rate=0.001, decay_steps=100, decay_rate=0.9)\n",
    "    lr=0.001\n",
    "    \n",
    "    optimizer = tf.keras.optimizers.Adam(lr)\n",
    "\n",
    "    model.compile(loss='mse',\n",
    "                optimizer=optimizer,\n",
    "                metrics=[right_direction, 'mae'])\n",
    "    return model"
   ]
  },
  {
   "cell_type": "code",
   "execution_count": 13,
   "metadata": {
    "colab": {
     "base_uri": "https://localhost:8080/",
     "height": 423
    },
    "colab_type": "code",
    "id": "FnJV9lNZIj_r",
    "outputId": "134e554f-d242-467f-ce27-7e5621dd43c1"
   },
   "outputs": [
    {
     "name": "stdout",
     "output_type": "stream",
     "text": [
      "WARNING:tensorflow:Layer lstm will not use cuDNN kernel since it doesn't meet the cuDNN kernel criteria. It will use generic GPU kernel as fallback when running on GPU\n",
      "Model: \"sequential\"\n",
      "_________________________________________________________________\n",
      "Layer (type)                 Output Shape              Param #   \n",
      "=================================================================\n",
      "lstm (LSTM)                  (None, 12)                864       \n",
      "_________________________________________________________________\n",
      "dropout (Dropout)            (None, 12)                0         \n",
      "_________________________________________________________________\n",
      "dense (Dense)                (None, 10)                130       \n",
      "_________________________________________________________________\n",
      "batch_normalization (BatchNo (None, 10)                40        \n",
      "_________________________________________________________________\n",
      "dense_1 (Dense)              (None, 10)                110       \n",
      "_________________________________________________________________\n",
      "dense_2 (Dense)              (None, 5)                 55        \n",
      "_________________________________________________________________\n",
      "dense_3 (Dense)              (None, 1)                 6         \n",
      "=================================================================\n",
      "Total params: 1,205\n",
      "Trainable params: 1,185\n",
      "Non-trainable params: 20\n",
      "_________________________________________________________________\n"
     ]
    }
   ],
   "source": [
    "initial_epoch=0\n",
    "tf.random.set_seed(0)\n",
    "model = build_model1(nlags=nlags)\n",
    "model.summary()"
   ]
  },
  {
   "cell_type": "code",
   "execution_count": 14,
   "metadata": {
    "colab": {
     "base_uri": "https://localhost:8080/",
     "height": 1000
    },
    "colab_type": "code",
    "id": "AT515lYtIj_t",
    "outputId": "8f5fedcb-28ac-491b-9537-72d809e17702"
   },
   "outputs": [
    {
     "name": "stdout",
     "output_type": "stream",
     "text": [
      "Epoch 1/150\n",
      "180/181 [============================>.] - ETA: 0s - loss: 1.3517 - right_direction: 46.0648 - mae: 0.8687\n",
      "181/181 [==============================] - 3s 17ms/step - loss: 1.3527 - right_direction: 45.9830 - mae: 0.8692 - val_loss: 0.5477 - val_right_direction: 42.2645 - val_mae: 0.5557\n",
      "Epoch 2/150\n",
      "181/181 [==============================] - 3s 16ms/step - loss: 1.3326 - right_direction: 47.5944 - mae: 0.8612 - val_loss: 0.5465 - val_right_direction: 42.6721 - val_mae: 0.5547\n",
      "Epoch 3/150\n",
      "181/181 [==============================] - 3s 16ms/step - loss: 1.3326 - right_direction: 49.5189 - mae: 0.8607 - val_loss: 0.5425 - val_right_direction: 50.0634 - val_mae: 0.5519\n",
      "Epoch 4/150\n",
      "181/181 [==============================] - 3s 16ms/step - loss: 1.3384 - right_direction: 46.5009 - mae: 0.8628 - val_loss: 0.5468 - val_right_direction: 41.9928 - val_mae: 0.5548\n",
      "Epoch 5/150\n",
      "181/181 [==============================] - 3s 16ms/step - loss: 1.3332 - right_direction: 47.5230 - mae: 0.8616 - val_loss: 0.5462 - val_right_direction: 57.7355 - val_mae: 0.5542\n",
      "Epoch 6/150\n",
      "181/181 [==============================] - 3s 18ms/step - loss: 1.3298 - right_direction: 51.7887 - mae: 0.8585 - val_loss: 0.5426 - val_right_direction: 49.7735 - val_mae: 0.5523\n",
      "Epoch 7/150\n",
      "181/181 [==============================] - 3s 16ms/step - loss: 1.3341 - right_direction: 50.5479 - mae: 0.8626 - val_loss: 0.5547 - val_right_direction: 42.5362 - val_mae: 0.5585\n",
      "Epoch 8/150\n",
      "181/181 [==============================] - 3s 19ms/step - loss: 1.3337 - right_direction: 52.0948 - mae: 0.8608 - val_loss: 0.5433 - val_right_direction: 49.4746 - val_mae: 0.5530\n",
      "Epoch 9/150\n",
      "181/181 [==============================] - 3s 16ms/step - loss: 1.3276 - right_direction: 53.0133 - mae: 0.8582 - val_loss: 0.5446 - val_right_direction: 50.5797 - val_mae: 0.5537\n",
      "Epoch 10/150\n",
      "181/181 [==============================] - 3s 18ms/step - loss: 1.3286 - right_direction: 52.2238 - mae: 0.8594 - val_loss: 0.5589 - val_right_direction: 44.7192 - val_mae: 0.5665\n",
      "Epoch 11/150\n",
      "181/181 [==============================] - 3s 16ms/step - loss: 1.3248 - right_direction: 52.0419 - mae: 0.8586 - val_loss: 0.5417 - val_right_direction: 57.7355 - val_mae: 0.5500\n",
      "Epoch 12/150\n",
      "181/181 [==============================] - 3s 17ms/step - loss: 1.3244 - right_direction: 53.0502 - mae: 0.8585 - val_loss: 0.5519 - val_right_direction: 47.4638 - val_mae: 0.5620\n",
      "Epoch 13/150\n",
      "181/181 [==============================] - 3s 16ms/step - loss: 1.3227 - right_direction: 54.0907 - mae: 0.8579 - val_loss: 0.5522 - val_right_direction: 48.4420 - val_mae: 0.5619\n",
      "Epoch 14/150\n",
      "181/181 [==============================] - 3s 17ms/step - loss: 1.3184 - right_direction: 54.8135 - mae: 0.8561 - val_loss: 0.5554 - val_right_direction: 46.6576 - val_mae: 0.5608\n",
      "Epoch 15/150\n",
      "181/181 [==============================] - 3s 15ms/step - loss: 1.3244 - right_direction: 54.7744 - mae: 0.8578 - val_loss: 0.5811 - val_right_direction: 46.2319 - val_mae: 0.5879\n",
      "Epoch 16/150\n",
      "181/181 [==============================] - 3s 16ms/step - loss: 1.3157 - right_direction: 54.0539 - mae: 0.8549 - val_loss: 0.5779 - val_right_direction: 45.9601 - val_mae: 0.5843\n",
      "Epoch 17/150\n",
      "181/181 [==============================] - 3s 16ms/step - loss: 1.3174 - right_direction: 54.8573 - mae: 0.8550 - val_loss: 0.5422 - val_right_direction: 53.4511 - val_mae: 0.5513\n",
      "Epoch 18/150\n",
      "181/181 [==============================] - 3s 17ms/step - loss: 1.3136 - right_direction: 55.4374 - mae: 0.8551 - val_loss: 0.5498 - val_right_direction: 50.4529 - val_mae: 0.5572\n",
      "Epoch 19/150\n",
      "181/181 [==============================] - 3s 15ms/step - loss: 1.3173 - right_direction: 53.2781 - mae: 0.8584 - val_loss: 0.5479 - val_right_direction: 57.7355 - val_mae: 0.5511\n",
      "Epoch 20/150\n",
      "181/181 [==============================] - 3s 17ms/step - loss: 1.3132 - right_direction: 54.5189 - mae: 0.8551 - val_loss: 0.5450 - val_right_direction: 53.7228 - val_mae: 0.5512\n",
      "Epoch 21/150\n",
      "181/181 [==============================] - 3s 15ms/step - loss: 1.3123 - right_direction: 54.6386 - mae: 0.8554 - val_loss: 0.5462 - val_right_direction: 51.7844 - val_mae: 0.5540\n",
      "Epoch 22/150\n",
      "181/181 [==============================] - 3s 18ms/step - loss: 1.3146 - right_direction: 55.7320 - mae: 0.8566 - val_loss: 0.5510 - val_right_direction: 50.9964 - val_mae: 0.5604\n",
      "Epoch 23/150\n",
      "181/181 [==============================] - 3s 16ms/step - loss: 1.3078 - right_direction: 56.3260 - mae: 0.8522 - val_loss: 0.5756 - val_right_direction: 49.6467 - val_mae: 0.5806\n",
      "Epoch 24/150\n",
      "181/181 [==============================] - 3s 15ms/step - loss: 1.3132 - right_direction: 55.4972 - mae: 0.8548 - val_loss: 0.5485 - val_right_direction: 49.4837 - val_mae: 0.5570\n",
      "Epoch 25/150\n",
      "181/181 [==============================] - 3s 16ms/step - loss: 1.3086 - right_direction: 55.9415 - mae: 0.8535 - val_loss: 0.6672 - val_right_direction: 42.9348 - val_mae: 0.6420\n",
      "Epoch 26/150\n",
      "181/181 [==============================] - 3s 16ms/step - loss: 1.3211 - right_direction: 54.8458 - mae: 0.8580 - val_loss: 0.5936 - val_right_direction: 57.7355 - val_mae: 0.5664\n",
      "Epoch 27/150\n",
      "181/181 [==============================] - 3s 16ms/step - loss: 1.3092 - right_direction: 55.8103 - mae: 0.8532 - val_loss: 0.5498 - val_right_direction: 49.6286 - val_mae: 0.5573\n",
      "Epoch 28/150\n",
      "181/181 [==============================] - 3s 18ms/step - loss: 1.3092 - right_direction: 56.2523 - mae: 0.8531 - val_loss: 0.6030 - val_right_direction: 46.0960 - val_mae: 0.6034\n",
      "Epoch 29/150\n",
      "181/181 [==============================] - 3s 17ms/step - loss: 1.3105 - right_direction: 55.8610 - mae: 0.8545 - val_loss: 0.5751 - val_right_direction: 48.1250 - val_mae: 0.5788\n",
      "Epoch 30/150\n",
      "181/181 [==============================] - 3s 15ms/step - loss: 1.3036 - right_direction: 56.2546 - mae: 0.8524 - val_loss: 0.5958 - val_right_direction: 45.8152 - val_mae: 0.5978\n",
      "Epoch 31/150\n",
      "181/181 [==============================] - 3s 19ms/step - loss: 1.3076 - right_direction: 56.0797 - mae: 0.8536 - val_loss: 0.5566 - val_right_direction: 50.3170 - val_mae: 0.5632\n",
      "Epoch 32/150\n",
      "181/181 [==============================] - 3s 16ms/step - loss: 1.3125 - right_direction: 55.1381 - mae: 0.8564 - val_loss: 0.6256 - val_right_direction: 45.7971 - val_mae: 0.6094\n",
      "Epoch 33/150\n",
      "181/181 [==============================] - 3s 15ms/step - loss: 1.3122 - right_direction: 55.1082 - mae: 0.8539 - val_loss: 0.5840 - val_right_direction: 45.5435 - val_mae: 0.5883\n",
      "Epoch 34/150\n",
      "181/181 [==============================] - 3s 16ms/step - loss: 1.3089 - right_direction: 55.9024 - mae: 0.8534 - val_loss: 0.5461 - val_right_direction: 53.5688 - val_mae: 0.5525\n",
      "Epoch 35/150\n",
      "181/181 [==============================] - 3s 16ms/step - loss: 1.3093 - right_direction: 55.2901 - mae: 0.8553 - val_loss: 0.5505 - val_right_direction: 53.2971 - val_mae: 0.5541\n",
      "Epoch 36/150\n",
      "181/181 [==============================] - 3s 17ms/step - loss: 1.3002 - right_direction: 56.8439 - mae: 0.8505 - val_loss: 0.5977 - val_right_direction: 46.9112 - val_mae: 0.5982\n",
      "Epoch 37/150\n",
      "181/181 [==============================] - 3s 16ms/step - loss: 1.3088 - right_direction: 55.7666 - mae: 0.8539 - val_loss: 0.5676 - val_right_direction: 51.6395 - val_mae: 0.5670\n",
      "Epoch 38/150\n",
      "181/181 [==============================] - 3s 17ms/step - loss: 1.3083 - right_direction: 56.2339 - mae: 0.8536 - val_loss: 0.6212 - val_right_direction: 42.8080 - val_mae: 0.6121\n",
      "Epoch 39/150\n",
      "181/181 [==============================] - 3s 15ms/step - loss: 1.3156 - right_direction: 53.7500 - mae: 0.8571 - val_loss: 0.5770 - val_right_direction: 57.7355 - val_mae: 0.5602\n",
      "Epoch 40/150\n",
      "181/181 [==============================] - 3s 18ms/step - loss: 1.3078 - right_direction: 56.3766 - mae: 0.8518 - val_loss: 0.6116 - val_right_direction: 47.0471 - val_mae: 0.6086\n",
      "Epoch 41/150\n",
      "181/181 [==============================] - 3s 19ms/step - loss: 1.3126 - right_direction: 55.6492 - mae: 0.8549 - val_loss: 0.5677 - val_right_direction: 43.4964 - val_mae: 0.5737\n",
      "Epoch 42/150\n",
      "181/181 [==============================] - 3s 16ms/step - loss: 1.3095 - right_direction: 55.6192 - mae: 0.8527 - val_loss: 0.5462 - val_right_direction: 51.8025 - val_mae: 0.5540\n",
      "Epoch 43/150\n",
      "181/181 [==============================] - 3s 16ms/step - loss: 1.3076 - right_direction: 55.8379 - mae: 0.8541 - val_loss: 0.5487 - val_right_direction: 49.7645 - val_mae: 0.5557\n",
      "Epoch 44/150\n",
      "181/181 [==============================] - 3s 17ms/step - loss: 1.3028 - right_direction: 55.9415 - mae: 0.8522 - val_loss: 0.6109 - val_right_direction: 45.8152 - val_mae: 0.6090\n",
      "Epoch 45/150\n",
      "181/181 [==============================] - 3s 16ms/step - loss: 1.3048 - right_direction: 57.2882 - mae: 0.8532 - val_loss: 0.5636 - val_right_direction: 48.8315 - val_mae: 0.5705\n",
      "Epoch 46/150\n",
      "181/181 [==============================] - 3s 16ms/step - loss: 1.3025 - right_direction: 56.6275 - mae: 0.8513 - val_loss: 0.5822 - val_right_direction: 45.5344 - val_mae: 0.5871\n",
      "Epoch 47/150\n",
      "181/181 [==============================] - 3s 16ms/step - loss: 1.3030 - right_direction: 56.2937 - mae: 0.8514 - val_loss: 0.5711 - val_right_direction: 47.8895 - val_mae: 0.5759\n",
      "Epoch 48/150\n",
      "181/181 [==============================] - 3s 16ms/step - loss: 1.3027 - right_direction: 57.4148 - mae: 0.8504 - val_loss: 0.5932 - val_right_direction: 46.0960 - val_mae: 0.5958\n",
      "Epoch 49/150\n",
      "181/181 [==============================] - 3s 16ms/step - loss: 1.3024 - right_direction: 56.3651 - mae: 0.8517 - val_loss: 0.5542 - val_right_direction: 48.0073 - val_mae: 0.5639\n",
      "Epoch 50/150\n",
      "181/181 [==============================] - 3s 15ms/step - loss: 1.3035 - right_direction: 56.1855 - mae: 0.8529 - val_loss: 0.5588 - val_right_direction: 50.7337 - val_mae: 0.5631\n",
      "Epoch 51/150\n",
      "181/181 [==============================] - 3s 16ms/step - loss: 1.3069 - right_direction: 56.8715 - mae: 0.8527 - val_loss: 0.5669 - val_right_direction: 48.5417 - val_mae: 0.5699\n",
      "Epoch 52/150\n",
      "181/181 [==============================] - 3s 15ms/step - loss: 1.3026 - right_direction: 56.1188 - mae: 0.8527 - val_loss: 0.5884 - val_right_direction: 44.8460 - val_mae: 0.5933\n",
      "Epoch 53/150\n",
      "181/181 [==============================] - 3s 17ms/step - loss: 1.3070 - right_direction: 56.1464 - mae: 0.8546 - val_loss: 0.5710 - val_right_direction: 48.6775 - val_mae: 0.5770\n",
      "Epoch 54/150\n",
      "181/181 [==============================] - 3s 19ms/step - loss: 1.2973 - right_direction: 56.8808 - mae: 0.8490 - val_loss: 0.5717 - val_right_direction: 48.0073 - val_mae: 0.5774\n",
      "Epoch 55/150\n",
      "181/181 [==============================] - 3s 16ms/step - loss: 1.2974 - right_direction: 56.5723 - mae: 0.8488 - val_loss: 0.5565 - val_right_direction: 48.2880 - val_mae: 0.5651\n",
      "Epoch 56/150\n",
      "181/181 [==============================] - 3s 16ms/step - loss: 1.3008 - right_direction: 56.8370 - mae: 0.8511 - val_loss: 0.5836 - val_right_direction: 46.0779 - val_mae: 0.5893\n",
      "Epoch 57/150\n",
      "181/181 [==============================] - 3s 15ms/step - loss: 1.3079 - right_direction: 55.2348 - mae: 0.8543 - val_loss: 0.5497 - val_right_direction: 56.4855 - val_mae: 0.5510\n",
      "Epoch 58/150\n",
      "181/181 [==============================] - 3s 17ms/step - loss: 1.2998 - right_direction: 55.2486 - mae: 0.8535 - val_loss: 0.5516 - val_right_direction: 50.1540 - val_mae: 0.5585\n",
      "Epoch 59/150\n",
      "181/181 [==============================] - 3s 16ms/step - loss: 1.2925 - right_direction: 57.2307 - mae: 0.8490 - val_loss: 0.5781 - val_right_direction: 50.4620 - val_mae: 0.5766\n",
      "Epoch 60/150\n",
      "181/181 [==============================] - 3s 17ms/step - loss: 1.2986 - right_direction: 56.4572 - mae: 0.8526 - val_loss: 0.6033 - val_right_direction: 51.9112 - val_mae: 0.5778\n",
      "Epoch 61/150\n",
      "181/181 [==============================] - 3s 18ms/step - loss: 1.2929 - right_direction: 56.1602 - mae: 0.8498 - val_loss: 0.6038 - val_right_direction: 53.5779 - val_mae: 0.5697\n",
      "Epoch 62/150\n",
      "181/181 [==============================] - 3s 16ms/step - loss: 1.2916 - right_direction: 56.2615 - mae: 0.8479 - val_loss: 0.6145 - val_right_direction: 44.3025 - val_mae: 0.6027\n",
      "Epoch 63/150\n",
      "181/181 [==============================] - 3s 19ms/step - loss: 1.2830 - right_direction: 56.9820 - mae: 0.8467 - val_loss: 0.6034 - val_right_direction: 46.3768 - val_mae: 0.5990\n",
      "Epoch 64/150\n",
      "181/181 [==============================] - 3s 17ms/step - loss: 1.2906 - right_direction: 56.9521 - mae: 0.8479 - val_loss: 0.5981 - val_right_direction: 45.8243 - val_mae: 0.6001\n",
      "Epoch 65/150\n",
      "181/181 [==============================] - 3s 17ms/step - loss: 1.2999 - right_direction: 57.2629 - mae: 0.8502 - val_loss: 0.6703 - val_right_direction: 48.0435 - val_mae: 0.6314\n",
      "Epoch 66/150\n",
      "181/181 [==============================] - 3s 18ms/step - loss: 1.3161 - right_direction: 54.8089 - mae: 0.8578 - val_loss: 0.5761 - val_right_direction: 53.8315 - val_mae: 0.5632\n",
      "Epoch 67/150\n",
      "181/181 [==============================] - 3s 19ms/step - loss: 1.2978 - right_direction: 55.6538 - mae: 0.8494 - val_loss: 0.5878 - val_right_direction: 45.8243 - val_mae: 0.5934\n",
      "Epoch 68/150\n",
      "181/181 [==============================] - 3s 17ms/step - loss: 1.2972 - right_direction: 57.3895 - mae: 0.8510 - val_loss: 0.5781 - val_right_direction: 50.8424 - val_mae: 0.5730\n",
      "Epoch 69/150\n",
      "181/181 [==============================] - 3s 17ms/step - loss: 1.2951 - right_direction: 57.1662 - mae: 0.8488 - val_loss: 0.5515 - val_right_direction: 55.1177 - val_mae: 0.5530\n",
      "Epoch 70/150\n",
      "181/181 [==============================] - 3s 18ms/step - loss: 1.2879 - right_direction: 57.6750 - mae: 0.8487 - val_loss: 0.5748 - val_right_direction: 53.0344 - val_mae: 0.5666\n",
      "Epoch 71/150\n",
      "181/181 [==============================] - 3s 19ms/step - loss: 1.2876 - right_direction: 55.8656 - mae: 0.8498 - val_loss: 0.5726 - val_right_direction: 47.3279 - val_mae: 0.5743\n",
      "Epoch 72/150\n",
      "181/181 [==============================] - 3s 18ms/step - loss: 1.2885 - right_direction: 57.7417 - mae: 0.8475 - val_loss: 0.5923 - val_right_direction: 46.7844 - val_mae: 0.5921\n",
      "Epoch 73/150\n",
      "181/181 [==============================] - 3s 17ms/step - loss: 1.2875 - right_direction: 57.5852 - mae: 0.8452 - val_loss: 0.5805 - val_right_direction: 45.4076 - val_mae: 0.5835\n",
      "Epoch 74/150\n",
      "181/181 [==============================] - 3s 17ms/step - loss: 1.2886 - right_direction: 56.3168 - mae: 0.8518 - val_loss: 0.5697 - val_right_direction: 47.5906 - val_mae: 0.5669\n",
      "Epoch 75/150\n",
      "181/181 [==============================] - 3s 18ms/step - loss: 1.2873 - right_direction: 57.2560 - mae: 0.8480 - val_loss: 0.5758 - val_right_direction: 53.0344 - val_mae: 0.5621\n",
      "Epoch 76/150\n",
      "181/181 [==============================] - 3s 17ms/step - loss: 1.2840 - right_direction: 57.3366 - mae: 0.8474 - val_loss: 0.6079 - val_right_direction: 48.8225 - val_mae: 0.5910\n",
      "Epoch 77/150\n",
      "181/181 [==============================] - 4s 20ms/step - loss: 1.2818 - right_direction: 57.1616 - mae: 0.8458 - val_loss: 0.5620 - val_right_direction: 54.7011 - val_mae: 0.5577\n",
      "Epoch 78/150\n",
      "181/181 [==============================] - 3s 16ms/step - loss: 1.2731 - right_direction: 58.5382 - mae: 0.8427 - val_loss: 0.5586 - val_right_direction: 50.4801 - val_mae: 0.5598\n",
      "Epoch 79/150\n",
      "181/181 [==============================] - 3s 18ms/step - loss: 1.2768 - right_direction: 57.6911 - mae: 0.8437 - val_loss: 0.5757 - val_right_direction: 48.4239 - val_mae: 0.5786\n",
      "Epoch 80/150\n",
      "181/181 [==============================] - 3s 16ms/step - loss: 1.2823 - right_direction: 57.0511 - mae: 0.8469 - val_loss: 0.5691 - val_right_direction: 57.4638 - val_mae: 0.5614\n",
      "Epoch 81/150\n",
      "181/181 [==============================] - 3s 15ms/step - loss: 1.2737 - right_direction: 57.4033 - mae: 0.8444 - val_loss: 0.5888 - val_right_direction: 50.8696 - val_mae: 0.5819\n",
      "Epoch 82/150\n",
      "181/181 [==============================] - 3s 17ms/step - loss: 1.2811 - right_direction: 57.0833 - mae: 0.8487 - val_loss: 0.5964 - val_right_direction: 46.5036 - val_mae: 0.5980\n",
      "Epoch 83/150\n",
      "181/181 [==============================] - 3s 18ms/step - loss: 1.2775 - right_direction: 57.7371 - mae: 0.8444 - val_loss: 0.6162 - val_right_direction: 44.8822 - val_mae: 0.6132\n",
      "Epoch 84/150\n",
      "181/181 [==============================] - 3s 17ms/step - loss: 1.2763 - right_direction: 56.6874 - mae: 0.8469 - val_loss: 0.5610 - val_right_direction: 53.3514 - val_mae: 0.5580\n",
      "Epoch 85/150\n",
      "181/181 [==============================] - 3s 15ms/step - loss: 1.2744 - right_direction: 57.3550 - mae: 0.8439 - val_loss: 0.5792 - val_right_direction: 50.3080 - val_mae: 0.5783\n",
      "Epoch 86/150\n",
      "181/181 [==============================] - 3s 15ms/step - loss: 1.2686 - right_direction: 58.0939 - mae: 0.8429 - val_loss: 0.6924 - val_right_direction: 57.7355 - val_mae: 0.6076\n",
      "Epoch 87/150\n",
      "181/181 [==============================] - 3s 16ms/step - loss: 1.2770 - right_direction: 57.3296 - mae: 0.8444 - val_loss: 0.5705 - val_right_direction: 48.6775 - val_mae: 0.5739\n",
      "Epoch 88/150\n",
      "181/181 [==============================] - 3s 16ms/step - loss: 1.2724 - right_direction: 56.8117 - mae: 0.8460 - val_loss: 0.5727 - val_right_direction: 53.1703 - val_mae: 0.5643\n",
      "Epoch 89/150\n",
      "181/181 [==============================] - 3s 16ms/step - loss: 1.2588 - right_direction: 58.4415 - mae: 0.8385 - val_loss: 0.5887 - val_right_direction: 48.2699 - val_mae: 0.5864\n",
      "Epoch 90/150\n",
      "181/181 [==============================] - 3s 15ms/step - loss: 1.2736 - right_direction: 57.5783 - mae: 0.8457 - val_loss: 0.6200 - val_right_direction: 44.6105 - val_mae: 0.6151\n",
      "Epoch 91/150\n",
      "181/181 [==============================] - 3s 16ms/step - loss: 1.2661 - right_direction: 57.7486 - mae: 0.8410 - val_loss: 0.5860 - val_right_direction: 45.1268 - val_mae: 0.5921\n",
      "Epoch 92/150\n",
      "181/181 [==============================] - 3s 16ms/step - loss: 1.2550 - right_direction: 58.6809 - mae: 0.8380 - val_loss: 0.5608 - val_right_direction: 49.6558 - val_mae: 0.5682\n",
      "Epoch 93/150\n",
      "181/181 [==============================] - 3s 17ms/step - loss: 1.2594 - right_direction: 57.4102 - mae: 0.8425 - val_loss: 0.5906 - val_right_direction: 55.9783 - val_mae: 0.5700\n",
      "Epoch 94/150\n",
      "181/181 [==============================] - 3s 19ms/step - loss: 1.2687 - right_direction: 57.2675 - mae: 0.8431 - val_loss: 0.6666 - val_right_direction: 57.4728 - val_mae: 0.5992\n",
      "Epoch 95/150\n",
      "181/181 [==============================] - 3s 18ms/step - loss: 1.2633 - right_direction: 57.5391 - mae: 0.8417 - val_loss: 0.6152 - val_right_direction: 55.9692 - val_mae: 0.5768\n",
      "Epoch 96/150\n",
      "181/181 [==============================] - 3s 16ms/step - loss: 1.2545 - right_direction: 57.2928 - mae: 0.8395 - val_loss: 0.5904 - val_right_direction: 52.2283 - val_mae: 0.5734\n",
      "Epoch 97/150\n",
      "181/181 [==============================] - 3s 18ms/step - loss: 1.2538 - right_direction: 57.7095 - mae: 0.8393 - val_loss: 0.5857 - val_right_direction: 55.2717 - val_mae: 0.5665\n",
      "Epoch 98/150\n",
      "181/181 [==============================] - 3s 18ms/step - loss: 1.2461 - right_direction: 58.5658 - mae: 0.8369 - val_loss: 0.5605 - val_right_direction: 52.4094 - val_mae: 0.5660\n",
      "Epoch 99/150\n",
      "181/181 [==============================] - 3s 17ms/step - loss: 1.2561 - right_direction: 57.7302 - mae: 0.8432 - val_loss: 0.5835 - val_right_direction: 50.8605 - val_mae: 0.5746\n",
      "Epoch 100/150\n",
      "181/181 [==============================] - 3s 17ms/step - loss: 1.2449 - right_direction: 58.6027 - mae: 0.8397 - val_loss: 0.5942 - val_right_direction: 48.0616 - val_mae: 0.5949\n",
      "Epoch 101/150\n",
      "180/181 [============================>.] - ETA: 0s - loss: 1.2572 - right_direction: 57.7500 - mae: 0.8431\n",
      "181/181 [==============================] - 3s 16ms/step - loss: 1.2587 - right_direction: 57.7072 - mae: 0.8439 - val_loss: 0.6166 - val_right_direction: 54.8551 - val_mae: 0.5829\n",
      "Epoch 102/150\n",
      "181/181 [==============================] - 3s 17ms/step - loss: 1.2382 - right_direction: 57.7026 - mae: 0.8378 - val_loss: 0.5749 - val_right_direction: 48.3152 - val_mae: 0.5793\n",
      "Epoch 103/150\n",
      "181/181 [==============================] - 3s 16ms/step - loss: 1.2441 - right_direction: 57.8960 - mae: 0.8349 - val_loss: 0.6306 - val_right_direction: 55.2627 - val_mae: 0.5877\n",
      "Epoch 104/150\n",
      "181/181 [==============================] - 3s 16ms/step - loss: 1.2318 - right_direction: 58.7431 - mae: 0.8315 - val_loss: 0.5728 - val_right_direction: 52.7989 - val_mae: 0.5635\n",
      "Epoch 105/150\n",
      "181/181 [==============================] - 3s 16ms/step - loss: 1.2427 - right_direction: 58.3817 - mae: 0.8359 - val_loss: 0.6113 - val_right_direction: 48.2065 - val_mae: 0.6102\n",
      "Epoch 106/150\n",
      "181/181 [==============================] - 3s 16ms/step - loss: 1.2368 - right_direction: 58.6464 - mae: 0.8329 - val_loss: 0.5836 - val_right_direction: 52.4004 - val_mae: 0.5728\n",
      "Epoch 107/150\n",
      "181/181 [==============================] - 3s 17ms/step - loss: 1.2344 - right_direction: 58.6671 - mae: 0.8320 - val_loss: 0.7442 - val_right_direction: 43.3514 - val_mae: 0.6944\n",
      "Epoch 108/150\n",
      "181/181 [==============================] - 3s 17ms/step - loss: 1.2339 - right_direction: 59.3416 - mae: 0.8367 - val_loss: 0.6189 - val_right_direction: 46.1232 - val_mae: 0.6181\n",
      "Epoch 109/150\n",
      "181/181 [==============================] - 3s 17ms/step - loss: 1.2276 - right_direction: 58.6878 - mae: 0.8314 - val_loss: 0.5670 - val_right_direction: 49.4475 - val_mae: 0.5748\n",
      "Epoch 110/150\n",
      "181/181 [==============================] - 3s 17ms/step - loss: 1.2218 - right_direction: 59.5856 - mae: 0.8285 - val_loss: 0.6547 - val_right_direction: 54.1576 - val_mae: 0.5879\n",
      "Epoch 111/150\n",
      "181/181 [==============================] - 3s 17ms/step - loss: 1.2264 - right_direction: 59.3923 - mae: 0.8322 - val_loss: 0.5695 - val_right_direction: 55.2808 - val_mae: 0.5708\n",
      "Epoch 112/150\n",
      "181/181 [==============================] - 3s 18ms/step - loss: 1.2434 - right_direction: 57.8085 - mae: 0.8388 - val_loss: 0.5640 - val_right_direction: 51.0236 - val_mae: 0.5680\n",
      "Epoch 113/150\n",
      "181/181 [==============================] - 3s 18ms/step - loss: 1.2361 - right_direction: 58.9342 - mae: 0.8350 - val_loss: 0.5785 - val_right_direction: 47.1014 - val_mae: 0.5864\n",
      "Epoch 114/150\n",
      "181/181 [==============================] - 3s 16ms/step - loss: 1.2426 - right_direction: 58.6533 - mae: 0.8370 - val_loss: 0.5722 - val_right_direction: 53.0435 - val_mae: 0.5645\n",
      "Epoch 115/150\n",
      "181/181 [==============================] - 3s 17ms/step - loss: 1.2325 - right_direction: 59.1183 - mae: 0.8333 - val_loss: 0.5501 - val_right_direction: 52.5815 - val_mae: 0.5568\n",
      "Epoch 116/150\n",
      "181/181 [==============================] - 3s 15ms/step - loss: 1.2218 - right_direction: 58.4277 - mae: 0.8320 - val_loss: 0.5873 - val_right_direction: 43.9130 - val_mae: 0.5925\n",
      "Epoch 117/150\n",
      "181/181 [==============================] - 3s 17ms/step - loss: 1.2246 - right_direction: 58.5935 - mae: 0.8299 - val_loss: 0.5908 - val_right_direction: 51.8478 - val_mae: 0.5800\n",
      "Epoch 118/150\n",
      "181/181 [==============================] - 3s 17ms/step - loss: 1.2385 - right_direction: 58.3425 - mae: 0.8358 - val_loss: 0.5945 - val_right_direction: 49.9547 - val_mae: 0.5858\n",
      "Epoch 119/150\n",
      "181/181 [==============================] - 3s 16ms/step - loss: 1.2115 - right_direction: 59.5350 - mae: 0.8278 - val_loss: 0.5774 - val_right_direction: 53.6323 - val_mae: 0.5704\n",
      "Epoch 120/150\n",
      "181/181 [==============================] - 3s 17ms/step - loss: 1.2289 - right_direction: 58.9203 - mae: 0.8335 - val_loss: 0.5702 - val_right_direction: 48.0707 - val_mae: 0.5831\n",
      "Epoch 121/150\n",
      "181/181 [==============================] - 3s 17ms/step - loss: 1.2345 - right_direction: 58.2182 - mae: 0.8307 - val_loss: 0.5868 - val_right_direction: 53.1793 - val_mae: 0.5734\n",
      "Epoch 122/150\n",
      "181/181 [==============================] - 3s 17ms/step - loss: 1.2479 - right_direction: 58.2735 - mae: 0.8379 - val_loss: 0.5576 - val_right_direction: 50.3804 - val_mae: 0.5685\n",
      "Epoch 123/150\n",
      "181/181 [==============================] - 3s 16ms/step - loss: 1.2089 - right_direction: 59.4245 - mae: 0.8251 - val_loss: 0.6127 - val_right_direction: 46.2409 - val_mae: 0.6131\n",
      "Epoch 124/150\n",
      "181/181 [==============================] - 3s 16ms/step - loss: 1.2246 - right_direction: 59.0884 - mae: 0.8281 - val_loss: 0.5732 - val_right_direction: 47.0924 - val_mae: 0.5851\n",
      "Epoch 125/150\n",
      "181/181 [==============================] - 3s 16ms/step - loss: 1.2396 - right_direction: 57.5506 - mae: 0.8342 - val_loss: 0.6064 - val_right_direction: 46.8116 - val_mae: 0.6097\n",
      "Epoch 126/150\n",
      "181/181 [==============================] - 3s 16ms/step - loss: 1.2132 - right_direction: 60.1220 - mae: 0.8240 - val_loss: 0.6232 - val_right_direction: 44.4746 - val_mae: 0.6234\n",
      "Epoch 127/150\n",
      "181/181 [==============================] - 3s 17ms/step - loss: 1.2091 - right_direction: 59.2219 - mae: 0.8248 - val_loss: 0.6162 - val_right_direction: 44.7283 - val_mae: 0.6152\n",
      "Epoch 128/150\n",
      "181/181 [==============================] - 3s 18ms/step - loss: 1.2251 - right_direction: 59.1989 - mae: 0.8315 - val_loss: 0.5830 - val_right_direction: 51.5670 - val_mae: 0.5747\n",
      "Epoch 129/150\n",
      "181/181 [==============================] - 3s 17ms/step - loss: 1.2123 - right_direction: 60.5479 - mae: 0.8238 - val_loss: 0.6004 - val_right_direction: 48.5870 - val_mae: 0.6001\n",
      "Epoch 130/150\n",
      "181/181 [==============================] - 3s 17ms/step - loss: 1.2409 - right_direction: 59.8412 - mae: 0.8333 - val_loss: 0.5829 - val_right_direction: 45.4620 - val_mae: 0.5833\n",
      "Epoch 131/150\n",
      "181/181 [==============================] - 3s 17ms/step - loss: 1.2388 - right_direction: 58.2896 - mae: 0.8333 - val_loss: 0.5688 - val_right_direction: 46.6757 - val_mae: 0.5728\n",
      "Epoch 132/150\n",
      "181/181 [==============================] - 3s 16ms/step - loss: 1.2134 - right_direction: 59.8089 - mae: 0.8246 - val_loss: 0.5853 - val_right_direction: 53.7228 - val_mae: 0.5685\n",
      "Epoch 133/150\n",
      "181/181 [==============================] - 3s 15ms/step - loss: 1.2150 - right_direction: 58.7247 - mae: 0.8281 - val_loss: 0.5468 - val_right_direction: 51.8750 - val_mae: 0.5572\n",
      "Epoch 134/150\n",
      "181/181 [==============================] - 3s 16ms/step - loss: 1.2099 - right_direction: 58.7063 - mae: 0.8242 - val_loss: 0.5586 - val_right_direction: 50.7880 - val_mae: 0.5662\n",
      "Epoch 135/150\n",
      "181/181 [==============================] - 3s 15ms/step - loss: 1.2209 - right_direction: 60.0599 - mae: 0.8264 - val_loss: 0.5640 - val_right_direction: 49.5743 - val_mae: 0.5767\n",
      "Epoch 136/150\n",
      "181/181 [==============================] - 3s 15ms/step - loss: 1.2114 - right_direction: 58.4392 - mae: 0.8274 - val_loss: 0.5713 - val_right_direction: 47.7808 - val_mae: 0.5817\n",
      "Epoch 137/150\n",
      "181/181 [==============================] - 3s 16ms/step - loss: 1.2161 - right_direction: 59.3071 - mae: 0.8253 - val_loss: 0.5676 - val_right_direction: 51.0145 - val_mae: 0.5696\n",
      "Epoch 138/150\n",
      "181/181 [==============================] - 3s 15ms/step - loss: 1.2000 - right_direction: 59.2196 - mae: 0.8236 - val_loss: 0.5926 - val_right_direction: 44.6105 - val_mae: 0.5986\n",
      "Epoch 139/150\n",
      "181/181 [==============================] - 3s 17ms/step - loss: 1.1810 - right_direction: 59.1851 - mae: 0.8197 - val_loss: 0.6354 - val_right_direction: 44.4565 - val_mae: 0.6243\n",
      "Epoch 140/150\n",
      "181/181 [==============================] - 3s 16ms/step - loss: 1.2048 - right_direction: 59.3393 - mae: 0.8267 - val_loss: 0.5735 - val_right_direction: 45.4348 - val_mae: 0.5797\n",
      "Epoch 141/150\n",
      "181/181 [==============================] - 3s 19ms/step - loss: 1.2027 - right_direction: 59.8481 - mae: 0.8253 - val_loss: 0.5563 - val_right_direction: 52.1649 - val_mae: 0.5656\n",
      "Epoch 142/150\n",
      "181/181 [==============================] - 3s 16ms/step - loss: 1.2208 - right_direction: 58.6740 - mae: 0.8303 - val_loss: 0.5591 - val_right_direction: 51.0236 - val_mae: 0.5676\n",
      "Epoch 143/150\n",
      "181/181 [==============================] - 3s 17ms/step - loss: 1.2067 - right_direction: 58.9480 - mae: 0.8250 - val_loss: 0.6670 - val_right_direction: 42.7989 - val_mae: 0.6442\n",
      "Epoch 144/150\n",
      "181/181 [==============================] - 3s 17ms/step - loss: 1.1979 - right_direction: 59.4245 - mae: 0.8225 - val_loss: 0.5610 - val_right_direction: 51.3225 - val_mae: 0.5667\n",
      "Epoch 145/150\n",
      "181/181 [==============================] - 3s 17ms/step - loss: 1.1917 - right_direction: 58.9825 - mae: 0.8241 - val_loss: 0.5952 - val_right_direction: 44.0761 - val_mae: 0.5982\n",
      "Epoch 146/150\n",
      "181/181 [==============================] - 3s 15ms/step - loss: 1.2047 - right_direction: 58.7316 - mae: 0.8254 - val_loss: 0.5510 - val_right_direction: 51.7210 - val_mae: 0.5619\n",
      "Epoch 147/150\n",
      "181/181 [==============================] - 3s 17ms/step - loss: 1.2026 - right_direction: 58.4346 - mae: 0.8251 - val_loss: 0.5566 - val_right_direction: 49.4112 - val_mae: 0.5689\n",
      "Epoch 148/150\n",
      "181/181 [==============================] - 3s 17ms/step - loss: 1.2029 - right_direction: 58.9848 - mae: 0.8231 - val_loss: 0.5751 - val_right_direction: 44.9909 - val_mae: 0.5853\n",
      "Epoch 149/150\n",
      "181/181 [==============================] - 3s 17ms/step - loss: 1.1968 - right_direction: 59.7053 - mae: 0.8218 - val_loss: 0.5559 - val_right_direction: 48.1884 - val_mae: 0.5705\n",
      "Epoch 150/150\n",
      "181/181 [==============================] - 3s 16ms/step - loss: 1.2167 - right_direction: 58.3287 - mae: 0.8288 - val_loss: 0.5707 - val_right_direction: 48.5598 - val_mae: 0.5754\n",
      "150\n"
     ]
    },
    {
     "data": {
      "image/png": "[encoded data removed]",
      "text/plain": [
       "<Figure size 432x288 with 2 Axes>"
      ]
     },
     "metadata": {
      "needs_background": "light",
      "tags": []
     },
     "output_type": "display_data"
    },
    {
     "data": {
      "image/png": "[encoded data removed]",
      "text/plain": [
       "<Figure size 432x288 with 1 Axes>"
      ]
     },
     "metadata": {
      "needs_background": "light",
      "tags": []
     },
     "output_type": "display_data"
    }
   ],
   "source": [
    "train_data = cache['train_data']\n",
    "train_label = cache['train_label']\n",
    "\n",
    "class PrintDot(keras.callbacks.Callback):\n",
    "    def on_epoch_end(self, epoch, logs):\n",
    "        if epoch % 100 == 0: print('')\n",
    "        print('.', end='')\n",
    "\n",
    "log_dir=\"logs/fit/\" + datetime.datetime.now().strftime(\"%Y%m%d-%H%M%S\")\n",
    "tensorboard_callback = tf.keras.callbacks.TensorBoard(log_dir=log_dir, histogram_freq=1)\n",
    "\n",
    "EPOCHS = 150\n",
    "tf.random.set_seed(1)\n",
    "history = model.fit(\n",
    "    train_data, train_label, batch_size=16, shuffle=False ,epochs=EPOCHS, validation_split=0.2, \n",
    "    verbose=1, callbacks=[PrintDot()])#, initial_epoch=initial_epoch)\n",
    "initial_epoch += EPOCHS\n",
    "print(initial_epoch)\n",
    "plot_history(history)"
   ]
  },
  {
   "cell_type": "code",
   "execution_count": 15,
   "metadata": {
    "colab": {},
    "colab_type": "code",
    "id": "z9B07p7tIj_w"
   },
   "outputs": [],
   "source": [
    "# model.load_weights('../Weights/weights01')"
   ]
  },
  {
   "cell_type": "code",
   "execution_count": 16,
   "metadata": {
    "colab": {
     "base_uri": "https://localhost:8080/",
     "height": 34
    },
    "colab_type": "code",
    "id": "X6rtY_dUIj_z",
    "outputId": "95d7801c-27a6-492c-e032-65be2d29e0b8"
   },
   "outputs": [
    {
     "data": {
      "text/plain": [
       "1.3343695469124586"
      ]
     },
     "execution_count": 16,
     "metadata": {
      "tags": []
     },
     "output_type": "execute_result"
    }
   ],
   "source": [
    "length = int(len(cache['train_label']) * 0.8)\n",
    "np.var(cache['train_label'][:length])"
   ]
  },
  {
   "cell_type": "code",
   "execution_count": 17,
   "metadata": {
    "colab": {
     "base_uri": "https://localhost:8080/",
     "height": 296
    },
    "colab_type": "code",
    "id": "Fh-9itrrIj_1",
    "outputId": "17ada4e5-1546-4402-d088-a7e9ca3a721c"
   },
   "outputs": [
    {
     "name": "stdout",
     "output_type": "stream",
     "text": [
      "(1200,) (1200,)\n"
     ]
    },
    {
     "data": {
      "image/png": "[encoded data removed]",
      "text/plain": [
       "<Figure size 432x288 with 1 Axes>"
      ]
     },
     "metadata": {
      "needs_background": "light",
      "tags": []
     },
     "output_type": "display_data"
    }
   ],
   "source": [
    "test_data = cache['test_data']\n",
    "test_labels = cache['test_label']\n",
    "test_predictions = model.predict(test_data).flatten()\n",
    "print(test_labels.shape, test_predictions.shape)\n",
    "plt.scatter(test_labels, test_predictions)\n",
    "plt.xlabel('True Values')\n",
    "plt.ylabel('Predictions')\n",
    "plt.axis('equal')\n",
    "plt.axis('square')\n",
    "plt.xlim([-5, 5])\n",
    "plt.ylim([-5, 5])\n",
    "_ = plt.plot([-5, 5], [-5, 5])\n"
   ]
  },
  {
   "cell_type": "code",
   "execution_count": 18,
   "metadata": {
    "colab": {
     "base_uri": "https://localhost:8080/",
     "height": 388
    },
    "colab_type": "code",
    "id": "9wHtNY_sIj_3",
    "outputId": "63bb9bd3-694d-4d4f-bdac-732131ac2d61"
   },
   "outputs": [
    {
     "data": {
      "image/png": "[encoded data removed]",
      "text/plain": [
       "<Figure size 720x432 with 1 Axes>"
      ]
     },
     "metadata": {
      "needs_background": "light",
      "tags": []
     },
     "output_type": "display_data"
    }
   ],
   "source": [
    "plt.figure(figsize=(10, 6))\n",
    "plt.plot(test_labels, label='Actual')\n",
    "plt.plot(test_predictions, label='Predicted', c='r')\n",
    "plt.ylabel(\"Return(%)\")\n",
    "plt.xlabel('Days into The Future')\n",
    "plt.legend()\n",
    "plt.show()"
   ]
  },
  {
   "cell_type": "code",
   "execution_count": 96,
   "metadata": {
    "colab": {},
    "colab_type": "code",
    "id": "f50AQ_p7Ij_5"
   },
   "outputs": [],
   "source": [
    "def test_signal(y_pre, strong_signal=0.3, weak_signal=0.1, weak_lookahead=3):\n",
    "    flag_sp = y_pre > strong_signal\n",
    "    flag_sn = y_pre < -strong_signal\n",
    "    flag_wp = np.zeros(len(y_pre), dtype=bool)\n",
    "    flag_wn = np.zeros(len(y_pre), dtype=bool)\n",
    "    for i in range(len(y_pre) - weak_lookahead):\n",
    "    wn = True\n",
    "    wp = True\n",
    "    for j in range(i+1, i+1+weak_lookahead):\n",
    "        if y_pre[j] < weak_signal:\n",
    "            wp = False\n",
    "        if y_pre[j] > -weak_signal:\n",
    "            wn = False\n",
    "    if wn:\n",
    "        flag_wn[i] = True\n",
    "    if wp:\n",
    "        flag_wp[i] = True\n",
    "    return (flag_sp, flag_sn, flag_wp, flag_wn)\n",
    "\n",
    "def stra_performance(flag_sp, flag_sn, flag_wp, flag_wn, ret_23, start_num=2000, end_num=3000, label='long-short', mode='test', show=True):\n",
    "    stra_ret = np.zeros(len(ret_23))\n",
    "    portfolio = np.zeros(len(ret_23))\n",
    "    position = 0\n",
    "    funds = 1\n",
    "    count_trades = 0\n",
    "    for i in range(len(ret_23)):\n",
    "    if position == 0:\n",
    "        if flag_sp[i] or flag_wp[i]:\n",
    "            position += funds\n",
    "            funds -= funds\n",
    "            stra_ret[i] = ret_23[i]\n",
    "            count_trades += 1\n",
    "        elif flag_sn[i] or flag_wn[i]:\n",
    "            position -= funds\n",
    "            funds += funds\n",
    "            stra_ret[i] = -ret_23[i]\n",
    "            count_trades += 1\n",
    "    elif position > 0:\n",
    "        if flag_wn[i] or flag_sn[i]:\n",
    "            funds += position\n",
    "            position = 0\n",
    "            stra_ret[i] = 0\n",
    "            count_trades += 1\n",
    "        else:\n",
    "            stra_ret[i] = ret_23[i]\n",
    "            position *= (1+ret_23[i])\n",
    "    elif position < 0:\n",
    "        if flag_wp[i] or flag_sp[i]:\n",
    "            funds += position\n",
    "            position = 0\n",
    "            stra_ret[i] = 0\n",
    "            count_trades += 1\n",
    "        else:\n",
    "            stra_ret[i] = ret_23[i]\n",
    "            position *= (1+ret_23[i])\n",
    "    portfolio[i] = funds + position\n",
    "    if show:\n",
    "    print(stra_ret)\n",
    "    print(label, \": \")\n",
    "    print(\"Trades: \", count_trades, \"; Daily Sharpe：\", np.mean(stra_ret) / np.std(stra_ret))\n",
    "    plt.plot(portfolio, label=\"Daily Sharpe Ratio = {:.4}\".format(np.mean(stra_ret) / np.std(stra_ret)))\n",
    "    plt.xlabel(\"Dates\")\n",
    "    plt.legend()\n",
    "    plt.ylabel(\"Return\")\n",
    "    plt.title(\"Return on {} set\".format(mode))\n",
    "    plt.show()\n",
    "    return portfolio[-1], np.mean(stra_ret) / np.std(stra_ret)\n",
    "    \n",
    "def back_test(start_num=0, end_num=2000, strong_signal=0.3, weak_signal=0.1, weak_lookahead=3, mode='test', show=True):\n",
    "    'weak and strong signals specified in % points (for ex. 0.3 = 0.3% or a return of 0.003)'\n",
    "    test_data = cache[mode+'_data'][start_num:end_num]\n",
    "    test_labels = cache[mode+'_label'][start_num:end_num]\n",
    "    test_predictions = model.predict(test_data).flatten()\n",
    "    flag_sp, flag_sn, flag_wp, flag_wn = test_signal(test_predictions, strong_signal, weak_signal, weak_lookahead)\n",
    "    return stra_performance(flag_sp, flag_sn, flag_wp, flag_wn, test_labels/100, start_num, end_num, mode=mode, show=show)\n",
    "\n",
    "    "
   ]
  },
  {
   "cell_type": "code",
   "execution_count": 97,
   "metadata": {
    "colab": {
     "base_uri": "https://localhost:8080/",
     "height": 362
    },
    "colab_type": "code",
    "id": "r3hydcWuIj_7",
    "outputId": "8da95ce6-0cc4-4929-f6a0-5e68307034a1"
   },
   "outputs": [
    {
     "name": "stdout",
     "output_type": "stream",
     "text": [
      "[0. 0. 0. ... 0. 0. 0.]\n",
      "long-short : \n",
      "Trades:  12 ; Daily Sharpe： 0.04458927554451477\n"
     ]
    },
    {
     "data": {
      "image/png": "[encoded data removed]",
      "text/plain": [
       "<Figure size 432x288 with 1 Axes>"
      ]
     },
     "metadata": {
      "needs_background": "light",
      "tags": []
     },
     "output_type": "display_data"
    },
    {
     "data": {
      "text/plain": [
       "(1.0283924223352652, 0.04458927554451477)"
      ]
     },
     "execution_count": 97,
     "metadata": {
      "tags": []
     },
     "output_type": "execute_result"
    }
   ],
   "source": [
    "back_test(start_num=0, end_num=4000, strong_signal=0.75, weak_signal=0.2, mode='test')"
   ]
  },
  {
   "cell_type": "code",
   "execution_count": 131,
   "metadata": {
    "colab": {},
    "colab_type": "code",
    "id": "OYoa5ubILS0e"
   },
   "outputs": [],
   "source": [
    "# Grid search for ideal weak and strong cutoffs:\n",
    "port_sr = []\n",
    "for weak_signal in np.linspace(0.01,1,10,endpoint=True):\n",
    "    for strong_signal in np.linspace(weak_signal,1,10,endpoint=True):\n",
    "        port, sr = back_test(start_num=0, end_num=4000, strong_signal=strong_signal, weak_signal=weak_signal, mode='test', show=False)\n",
    "        port_sr.append([weak_signal, strong_signal, port, sr])"
   ]
  },
  {
   "cell_type": "code",
   "execution_count": 132,
   "metadata": {
    "colab": {
     "base_uri": "https://localhost:8080/",
     "height": 402
    },
    "colab_type": "code",
    "id": "LogryzLgMPSa",
    "outputId": "b2420884-c851-46b0-be7c-ceb6810f5609"
   },
   "outputs": [
    {
     "data": {
      "text/html": [
       "<div>\n",
       "<style scoped>\n",
       "    .dataframe tbody tr th:only-of-type {\n",
       "        vertical-align: middle;\n",
       "    }\n",
       "\n",
       "    .dataframe tbody tr th {\n",
       "        vertical-align: top;\n",
       "    }\n",
       "\n",
       "    .dataframe thead th {\n",
       "        text-align: right;\n",
       "    }\n",
       "</style>\n",
       "<table border=\"1\" class=\"dataframe\">\n",
       "  <thead>\n",
       "    <tr style=\"text-align: right;\">\n",
       "      <th></th>\n",
       "      <th>Weak Signal</th>\n",
       "      <th>Strong Signal</th>\n",
       "      <th>Portfolio Final Value</th>\n",
       "      <th>Sharpe Ratio (Daily)</th>\n",
       "    </tr>\n",
       "  </thead>\n",
       "  <tbody>\n",
       "    <tr>\n",
       "      <th>0</th>\n",
       "      <td>0.56</td>\n",
       "      <td>0.706667</td>\n",
       "      <td>1.616078</td>\n",
       "      <td>0.049992</td>\n",
       "    </tr>\n",
       "    <tr>\n",
       "      <th>1</th>\n",
       "      <td>0.67</td>\n",
       "      <td>0.706667</td>\n",
       "      <td>1.616078</td>\n",
       "      <td>0.049992</td>\n",
       "    </tr>\n",
       "    <tr>\n",
       "      <th>2</th>\n",
       "      <td>0.67</td>\n",
       "      <td>0.743333</td>\n",
       "      <td>1.616078</td>\n",
       "      <td>0.049992</td>\n",
       "    </tr>\n",
       "    <tr>\n",
       "      <th>3</th>\n",
       "      <td>0.56</td>\n",
       "      <td>0.755556</td>\n",
       "      <td>1.610023</td>\n",
       "      <td>0.049204</td>\n",
       "    </tr>\n",
       "    <tr>\n",
       "      <th>4</th>\n",
       "      <td>0.56</td>\n",
       "      <td>0.804444</td>\n",
       "      <td>1.610023</td>\n",
       "      <td>0.049204</td>\n",
       "    </tr>\n",
       "    <tr>\n",
       "      <th>...</th>\n",
       "      <td>...</td>\n",
       "      <td>...</td>\n",
       "      <td>...</td>\n",
       "      <td>...</td>\n",
       "    </tr>\n",
       "    <tr>\n",
       "      <th>75</th>\n",
       "      <td>0.23</td>\n",
       "      <td>0.657778</td>\n",
       "      <td>1.021992</td>\n",
       "      <td>0.042132</td>\n",
       "    </tr>\n",
       "    <tr>\n",
       "      <th>76</th>\n",
       "      <td>0.34</td>\n",
       "      <td>0.560000</td>\n",
       "      <td>0.972702</td>\n",
       "      <td>0.047200</td>\n",
       "    </tr>\n",
       "    <tr>\n",
       "      <th>77</th>\n",
       "      <td>0.34</td>\n",
       "      <td>0.486667</td>\n",
       "      <td>0.971444</td>\n",
       "      <td>0.047606</td>\n",
       "    </tr>\n",
       "    <tr>\n",
       "      <th>78</th>\n",
       "      <td>0.45</td>\n",
       "      <td>0.450000</td>\n",
       "      <td>0.935326</td>\n",
       "      <td>0.046442</td>\n",
       "    </tr>\n",
       "    <tr>\n",
       "      <th>79</th>\n",
       "      <td>0.12</td>\n",
       "      <td>0.217778</td>\n",
       "      <td>0.930109</td>\n",
       "      <td>0.059970</td>\n",
       "    </tr>\n",
       "  </tbody>\n",
       "</table>\n",
       "<p>80 rows × 4 columns</p>\n",
       "</div>"
      ],
      "text/plain": [
       "    Weak Signal  Strong Signal  Portfolio Final Value  Sharpe Ratio (Daily)\n",
       "0          0.56       0.706667               1.616078              0.049992\n",
       "1          0.67       0.706667               1.616078              0.049992\n",
       "2          0.67       0.743333               1.616078              0.049992\n",
       "3          0.56       0.755556               1.610023              0.049204\n",
       "4          0.56       0.804444               1.610023              0.049204\n",
       "..          ...            ...                    ...                   ...\n",
       "75         0.23       0.657778               1.021992              0.042132\n",
       "76         0.34       0.560000               0.972702              0.047200\n",
       "77         0.34       0.486667               0.971444              0.047606\n",
       "78         0.45       0.450000               0.935326              0.046442\n",
       "79         0.12       0.217778               0.930109              0.059970\n",
       "\n",
       "[80 rows x 4 columns]"
      ]
     },
     "execution_count": 132,
     "metadata": {
      "tags": []
     },
     "output_type": "execute_result"
    }
   ],
   "source": [
    "calibrations = pd.DataFrame(port_sr)\n",
    "calibrations = calibrations.rename({\"1\": \"Weak Signal\", \"2\": \"Strong Signal\", \"3\": \"Portfolio Final Value\", \"4\": \"Sharpe Ratio (Daily)\"})\n",
    "calibrations.columns = [\"Weak Signal\", \"Strong Signal\", \"Portfolio Final Value\", \"Sharpe Ratio (Daily)\"]\n",
    "calibrations = calibrations.sort_values(by=['Portfolio Final Value', \"Sharpe Ratio (Daily)\"], ascending=False).reset_index(drop=True)\n",
    "\n",
    "calibrations.head(80)"
   ]
  },
  {
   "cell_type": "code",
   "execution_count": null,
   "metadata": {
    "colab": {},
    "colab_type": "code",
    "id": "ACUi1SB4Ij_9"
   },
   "outputs": [],
   "source": [
    "model.evaluate(cache['test_data'], cache['test_label'])"
   ]
  },
  {
   "cell_type": "code",
   "execution_count": null,
   "metadata": {
    "colab": {},
    "colab_type": "code",
    "id": "4Q9iMu2iIj__"
   },
   "outputs": [],
   "source": [
    "np.mean(cache['test_label']**2), np.mean(np.abs(cache['test_label']))"
   ]
  },
  {
   "cell_type": "code",
   "execution_count": null,
   "metadata": {
    "colab": {},
    "colab_type": "code",
    "id": "TMu-3j_qIkAB"
   },
   "outputs": [],
   "source": [
    "dirpath = '../Weights'\n",
    "if os.path.exists(dirpath):\n",
    "    os.makedirs(dirpath)\n",
    "filename = 'weights01'\n",
    "model.save_weights(os.path.join(dirpath, filename))"
   ]
  },
  {
   "cell_type": "code",
   "execution_count": null,
   "metadata": {
    "colab": {},
    "colab_type": "code",
    "id": "-LFfNXFVIkAD"
   },
   "outputs": [],
   "source": [
    "len(cache['test_data'][:2500])"
   ]
  },
  {
   "cell_type": "code",
   "execution_count": null,
   "metadata": {
    "colab": {},
    "colab_type": "code",
    "id": "U3SieJHvIkAF"
   },
   "outputs": [],
   "source": [
    "def build_model2(units=12, nlags=10, seed=1):\n",
    "#     tf.random.set_seed(seed)\n",
    "    model = keras.Sequential([\n",
    "        layers.Dense(8, input_shape=(nlags, 5), activation='relu', kernel_regularizer=keras.regularizers.L2(0.01)),\n",
    "        layers.Dense(12, activation='relu', kernel_regularizer=keras.regularizers.L2(0.01)),\n",
    "        layers.BatchNormalization(trainable=True),\n",
    "        layers.Dense(12, activation='relu', kernel_regularizer=keras.regularizers.L2(0.0)),\n",
    "#         layers.Dropout(rate=0.1),\n",
    "        layers.LSTM(units=units, activation='tanh', recurrent_activation='tanh', return_sequences=True, input_shape=(nlags, 5)),\n",
    "        layers.Dropout(rate=0.2),\n",
    "        layers.LSTM(units=units, activation='tanh', recurrent_activation='tanh'),\n",
    "        layers.BatchNormalization(trainable=True),\n",
    "        layers.Dense(10, activation=tf.nn.relu),\n",
    "        layers.Dense(5, activation=tf.nn.relu),\n",
    "        layers.Dense(1)\n",
    "    ])\n",
    "\n",
    "#     lr = tf.keras.optimizers.schedules.ExponentialDecay(initial_learning_rate=0.001, decay_steps=100, decay_rate=0.9)\n",
    "    lr=0.001\n",
    "    \n",
    "    optimizer = tf.keras.optimizers.Adam(lr)\n",
    "\n",
    "    model.compile(loss='mse',\n",
    "                optimizer=optimizer,\n",
    "                metrics=[right_direction, 'mae'])\n",
    "    return model"
   ]
  },
  {
   "cell_type": "code",
   "execution_count": null,
   "metadata": {
    "colab": {},
    "colab_type": "code",
    "id": "i3hKav6EIkAH"
   },
   "outputs": [],
   "source": [
    "initial_epoch=0\n",
    "tf.random.set_seed(0)\n",
    "model2 = build_model2(nlags=nlags)\n",
    "model2.summary()"
   ]
  },
  {
   "cell_type": "code",
   "execution_count": null,
   "metadata": {
    "colab": {},
    "colab_type": "code",
    "id": "eH_svpIBIkAJ"
   },
   "outputs": [],
   "source": [
    "EPOCHS = 300\n",
    "tf.random.set_seed(1)\n",
    "history2 = model2.fit(\n",
    "    train_data, train_label, batch_size=2048, shuffle=False ,epochs=EPOCHS, validation_split=0.2, \n",
    "    verbose=0, callbacks=[PrintDot()])#, initial_epoch=initial_epoch)\n",
    "initial_epoch += EPOCHS\n",
    "print(initial_epoch)\n",
    "plot_history(history2)"
   ]
  },
  {
   "cell_type": "code",
   "execution_count": null,
   "metadata": {
    "colab": {},
    "colab_type": "code",
    "id": "aln3e5rmIkAL"
   },
   "outputs": [],
   "source": [
    "model2.evaluate(cache['train_data'][:2896], cache['train_label'][:2896])"
   ]
  },
  {
   "cell_type": "code",
   "execution_count": null,
   "metadata": {
    "colab": {},
    "colab_type": "code",
    "id": "dJh_J4QUIkAN"
   },
   "outputs": [],
   "source": [
    "test_data = cache['train_data'][:1000]\n",
    "test_labels = cache['train_label'][:1000]\n",
    "test_predictions = model2.predict(test_data).flatten()\n",
    "\n",
    "plt.scatter(test_labels, test_predictions)\n",
    "plt.xlabel('True Values')\n",
    "plt.ylabel('Predictions')\n",
    "plt.axis('equal')\n",
    "plt.axis('square')\n",
    "plt.xlim([-5, 5])\n",
    "plt.ylim([-5, 5])\n",
    "_ = plt.plot([-5, 5], [-5, 5])"
   ]
  },
  {
   "cell_type": "code",
   "execution_count": null,
   "metadata": {
    "colab": {},
    "colab_type": "code",
    "id": "FPfJo-DAIkAP"
   },
   "outputs": [],
   "source": [
    "features = pd.DataFrame(cache['train_data'][:,19,:], columns=['norm_'+i for i in ['open','high','low','close','amount']])\n",
    "sns.pairplot(features, diag_kind=\"kde\")"
   ]
  },
  {
   "cell_type": "code",
   "execution_count": null,
   "metadata": {
    "colab": {},
    "colab_type": "code",
    "id": "8lJqDmPGIkAR"
   },
   "outputs": [],
   "source": [
    "s = RobustScaler()\n",
    "s.fit(np.random.randn(100000,1))\n",
    "s.scale_"
   ]
  },
  {
   "cell_type": "code",
   "execution_count": null,
   "metadata": {
    "colab": {},
    "colab_type": "code",
    "id": "S3EpUEB1IkAT"
   },
   "outputs": [],
   "source": []
  }
 ],
 "metadata": {
  "accelerator": "GPU",
  "colab": {
   "collapsed_sections": [],
   "name": "lstm_trial1.ipynb",
   "provenance": []
  },
  "environment": {
   "name": "tf2-2-3-gpu.2-3.m55",
   "type": "gcloud",
   "uri": "gcr.io/deeplearning-platform-release/tf2-2-3-gpu.2-3:m55"
  },
  "kernelspec": {
   "display_name": "Python 3",
   "language": "python",
   "name": "python3"
  },
  "language_info": {
   "codemirror_mode": {
    "name": "ipython",
    "version": 3
   },
   "file_extension": ".py",
   "mimetype": "text/x-python",
   "name": "python",
   "nbconvert_exporter": "python",
   "pygments_lexer": "ipython3",
   "version": "3.8.2"
  }
 },
 "nbformat": 4,
 "nbformat_minor": 1
}
