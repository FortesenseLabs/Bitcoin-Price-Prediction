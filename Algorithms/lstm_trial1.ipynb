{
 "cells": [
  {
   "cell_type": "code",
   "execution_count": 1,
   "metadata": {},
   "outputs": [
    {
     "name": "stdout",
     "output_type": "stream",
     "text": [
      "2.3.0\n"
     ]
    }
   ],
   "source": [
    "import numpy as np\n",
    "import pandas as pd\n",
    "import os\n",
    "import matplotlib.pyplot as plt\n",
    "import seaborn as sns\n",
    "\n",
    "from sklearn.preprocessing import RobustScaler\n",
    "\n",
    "import tensorflow as tf\n",
    "from tensorflow import keras\n",
    "from tensorflow.keras import layers\n",
    "\n",
    "print(tf.__version__)"
   ]
  },
  {
   "cell_type": "code",
   "execution_count": 2,
   "metadata": {},
   "outputs": [],
   "source": [
    "import os\n",
    "os.environ['KMP_DUPLICATE_LIB_OK']='True'"
   ]
  },
  {
   "cell_type": "code",
   "execution_count": 3,
   "metadata": {},
   "outputs": [
    {
     "data": {
      "text/html": [
       "<div>\n",
       "<style scoped>\n",
       "    .dataframe tbody tr th:only-of-type {\n",
       "        vertical-align: middle;\n",
       "    }\n",
       "\n",
       "    .dataframe tbody tr th {\n",
       "        vertical-align: top;\n",
       "    }\n",
       "\n",
       "    .dataframe thead th {\n",
       "        text-align: right;\n",
       "    }\n",
       "</style>\n",
       "<table border=\"1\" class=\"dataframe\">\n",
       "  <thead>\n",
       "    <tr style=\"text-align: right;\">\n",
       "      <th></th>\n",
       "      <th>Open</th>\n",
       "      <th>High</th>\n",
       "      <th>Low</th>\n",
       "      <th>Close</th>\n",
       "      <th>Adj Close</th>\n",
       "      <th>Volume</th>\n",
       "      <th>adj_factor</th>\n",
       "      <th>Adj Open</th>\n",
       "      <th>Adj High</th>\n",
       "      <th>Adj Low</th>\n",
       "      <th>Amount</th>\n",
       "      <th>Return</th>\n",
       "    </tr>\n",
       "  </thead>\n",
       "  <tbody>\n",
       "    <tr>\n",
       "      <th>count</th>\n",
       "      <td>4940.000000</td>\n",
       "      <td>4940.000000</td>\n",
       "      <td>4940.000000</td>\n",
       "      <td>4940.000000</td>\n",
       "      <td>4940.000000</td>\n",
       "      <td>4.940000e+03</td>\n",
       "      <td>4940.000000</td>\n",
       "      <td>4940.000000</td>\n",
       "      <td>4940.000000</td>\n",
       "      <td>4940.000000</td>\n",
       "      <td>4.940000e+03</td>\n",
       "      <td>4939.000000</td>\n",
       "    </tr>\n",
       "    <tr>\n",
       "      <th>mean</th>\n",
       "      <td>154.916778</td>\n",
       "      <td>155.806689</td>\n",
       "      <td>153.932967</td>\n",
       "      <td>154.915397</td>\n",
       "      <td>130.080000</td>\n",
       "      <td>1.131555e+08</td>\n",
       "      <td>0.812321</td>\n",
       "      <td>130.078555</td>\n",
       "      <td>130.806185</td>\n",
       "      <td>129.273872</td>\n",
       "      <td>1.670164e+10</td>\n",
       "      <td>0.000215</td>\n",
       "    </tr>\n",
       "    <tr>\n",
       "      <th>std</th>\n",
       "      <td>55.392654</td>\n",
       "      <td>55.455574</td>\n",
       "      <td>55.300664</td>\n",
       "      <td>55.399593</td>\n",
       "      <td>61.369875</td>\n",
       "      <td>9.924321e+07</td>\n",
       "      <td>0.090854</td>\n",
       "      <td>61.360605</td>\n",
       "      <td>61.498516</td>\n",
       "      <td>61.191653</td>\n",
       "      <td>1.263130e+10</td>\n",
       "      <td>0.012023</td>\n",
       "    </tr>\n",
       "    <tr>\n",
       "      <th>min</th>\n",
       "      <td>67.949997</td>\n",
       "      <td>70.000000</td>\n",
       "      <td>67.099998</td>\n",
       "      <td>68.110001</td>\n",
       "      <td>53.947025</td>\n",
       "      <td>1.436600e+06</td>\n",
       "      <td>0.680423</td>\n",
       "      <td>53.820293</td>\n",
       "      <td>55.444013</td>\n",
       "      <td>53.147048</td>\n",
       "      <td>2.102599e+08</td>\n",
       "      <td>-0.103637</td>\n",
       "    </tr>\n",
       "    <tr>\n",
       "      <th>25%</th>\n",
       "      <td>115.087498</td>\n",
       "      <td>115.914999</td>\n",
       "      <td>114.237499</td>\n",
       "      <td>115.035000</td>\n",
       "      <td>86.590834</td>\n",
       "      <td>4.774008e+07</td>\n",
       "      <td>0.729271</td>\n",
       "      <td>86.563831</td>\n",
       "      <td>87.135411</td>\n",
       "      <td>85.990860</td>\n",
       "      <td>5.662622e+09</td>\n",
       "      <td>-0.004688</td>\n",
       "    </tr>\n",
       "    <tr>\n",
       "      <th>50%</th>\n",
       "      <td>135.365005</td>\n",
       "      <td>136.359375</td>\n",
       "      <td>134.345001</td>\n",
       "      <td>135.367500</td>\n",
       "      <td>104.276886</td>\n",
       "      <td>8.471245e+07</td>\n",
       "      <td>0.806054</td>\n",
       "      <td>104.382847</td>\n",
       "      <td>105.009414</td>\n",
       "      <td>103.567459</td>\n",
       "      <td>1.585927e+10</td>\n",
       "      <td>0.000637</td>\n",
       "    </tr>\n",
       "    <tr>\n",
       "      <th>75%</th>\n",
       "      <td>194.987495</td>\n",
       "      <td>195.797501</td>\n",
       "      <td>193.922504</td>\n",
       "      <td>194.922497</td>\n",
       "      <td>174.989334</td>\n",
       "      <td>1.524191e+08</td>\n",
       "      <td>0.892026</td>\n",
       "      <td>174.750644</td>\n",
       "      <td>175.675158</td>\n",
       "      <td>173.599633</td>\n",
       "      <td>2.352806e+10</td>\n",
       "      <td>0.005786</td>\n",
       "    </tr>\n",
       "    <tr>\n",
       "      <th>max</th>\n",
       "      <td>301.880005</td>\n",
       "      <td>302.230011</td>\n",
       "      <td>300.850006</td>\n",
       "      <td>302.010010</td>\n",
       "      <td>296.099121</td>\n",
       "      <td>8.710263e+08</td>\n",
       "      <td>0.980428</td>\n",
       "      <td>295.971668</td>\n",
       "      <td>296.314816</td>\n",
       "      <td>294.961829</td>\n",
       "      <td>9.561302e+10</td>\n",
       "      <td>0.135577</td>\n",
       "    </tr>\n",
       "  </tbody>\n",
       "</table>\n",
       "</div>"
      ],
      "text/plain": [
       "              Open         High          Low        Close    Adj Close  \\\n",
       "count  4940.000000  4940.000000  4940.000000  4940.000000  4940.000000   \n",
       "mean    154.916778   155.806689   153.932967   154.915397   130.080000   \n",
       "std      55.392654    55.455574    55.300664    55.399593    61.369875   \n",
       "min      67.949997    70.000000    67.099998    68.110001    53.947025   \n",
       "25%     115.087498   115.914999   114.237499   115.035000    86.590834   \n",
       "50%     135.365005   136.359375   134.345001   135.367500   104.276886   \n",
       "75%     194.987495   195.797501   193.922504   194.922497   174.989334   \n",
       "max     301.880005   302.230011   300.850006   302.010010   296.099121   \n",
       "\n",
       "             Volume   adj_factor     Adj Open     Adj High      Adj Low  \\\n",
       "count  4.940000e+03  4940.000000  4940.000000  4940.000000  4940.000000   \n",
       "mean   1.131555e+08     0.812321   130.078555   130.806185   129.273872   \n",
       "std    9.924321e+07     0.090854    61.360605    61.498516    61.191653   \n",
       "min    1.436600e+06     0.680423    53.820293    55.444013    53.147048   \n",
       "25%    4.774008e+07     0.729271    86.563831    87.135411    85.990860   \n",
       "50%    8.471245e+07     0.806054   104.382847   105.009414   103.567459   \n",
       "75%    1.524191e+08     0.892026   174.750644   175.675158   173.599633   \n",
       "max    8.710263e+08     0.980428   295.971668   296.314816   294.961829   \n",
       "\n",
       "             Amount       Return  \n",
       "count  4.940000e+03  4939.000000  \n",
       "mean   1.670164e+10     0.000215  \n",
       "std    1.263130e+10     0.012023  \n",
       "min    2.102599e+08    -0.103637  \n",
       "25%    5.662622e+09    -0.004688  \n",
       "50%    1.585927e+10     0.000637  \n",
       "75%    2.352806e+10     0.005786  \n",
       "max    9.561302e+10     0.135577  "
      ]
     },
     "execution_count": 3,
     "metadata": {},
     "output_type": "execute_result"
    }
   ],
   "source": [
    "data = pd.read_csv('SPY.csv', index_col=0)\n",
    "data.describe()"
   ]
  },
  {
   "cell_type": "code",
   "execution_count": 42,
   "metadata": {},
   "outputs": [],
   "source": [
    "def series_to_supervised(data, lags=10, columns=None, burnout=100):\n",
    "    \"\"\"\n",
    "    Create  X: a 3D array, in shape (nsample, lags, nfeatures)\n",
    "            Y: a 2D array, in shape (nsample, 1)\n",
    "    \"\"\"\n",
    "    if not columns:\n",
    "        columns = ['Adj Open', 'Adj High', 'Adj Low', 'Adj Close', 'Amount']\n",
    "    nsample, nfeatures = len(data), len(columns)\n",
    "    \n",
    "    Y = data['Return'].values\n",
    "    X = np.zeros((nsample, lags, nfeatures))\n",
    "    for i in range(1, lags+1):\n",
    "        X[:, lags-i, :] = data[columns].shift(i).values\n",
    "    \n",
    "    return X[lags+burnout:], Y[lags+burnout:]\n",
    "\n",
    "def normalize_X(X, data, lags=10, burnout=100, window=50):\n",
    "    \"\"\"\n",
    "    This part will normalize features in X.\n",
    "    To normalize the prices, we will calculate the ratio of price to the close of lag+1 day before\n",
    "    To normalize the amount, we will calculate the ratio of amount to its 50 days' rolling average\n",
    "    args:\n",
    "        X: feature data\n",
    "        data: the price&volume dataframe\n",
    "        window: the window for the rolling average\n",
    "    return:\n",
    "        normalized X\n",
    "    \"\"\"\n",
    "    price_o = data['Adj Close'].shift(lags + 1).values[lags+burnout:].reshape(-1, 1, 1)\n",
    "    avg_amt = data['Amount'].rolling(window).mean().shift(1).values[lags+burnout:].reshape(-1, 1)\n",
    "    \n",
    "    X[:, :, :-1] = X[:, :, :-1] / price_o # normalize the prices\n",
    "    X[:, :, -1] = X[:, :, -1] / avg_amt # normalize the amount\n",
    "    \n",
    "    return X\n",
    "\n",
    "def normalize_y(Y):\n",
    "    \"\"\"\n",
    "    Apply robust scaler to Y and Clip the extremums of Y.\n",
    "    return:\n",
    "        y: normalized version\n",
    "        scaler: the RobustScaler\n",
    "    \"\"\"\n",
    "    scaler = RobustScaler()\n",
    "    scaler.fit(Y.reshape(-1,1))\n",
    "    Y[Y > scaler.center_ + 3*scaler.scale_] = scaler.center_ + 3*scaler.scale_\n",
    "    Y[Y < scaler.center_ - 3*scaler.scale_] = scaler.center_ - 3*scaler.scale_\n",
    "    return Y * 100\n",
    "\n",
    "def Prepare_data(data, lags=10, columns=None, burnout=100, window=50):\n",
    "    \"\"\"\n",
    "    A wrapper for data preparation.\n",
    "    \"\"\"\n",
    "    X, Y = series_to_supervised(data, lags, columns, burnout)\n",
    "    X = normalize_X(X, data, lags, burnout, window)\n",
    "    Y= normalize_y(Y)\n",
    "    cache = {\n",
    "        'X': X,\n",
    "        'y': Y,\n",
    "#         'scaler': scaler\n",
    "    }\n",
    "    return cache"
   ]
  },
  {
   "cell_type": "code",
   "execution_count": 131,
   "metadata": {},
   "outputs": [],
   "source": [
    "nlags = 20\n",
    "\n",
    "cache = Prepare_data(data, 20)"
   ]
  },
  {
   "cell_type": "code",
   "execution_count": 133,
   "metadata": {},
   "outputs": [],
   "source": [
    "import keras.backend as K\n",
    "def right_direction(y_true, y_pred):\n",
    "    length = K.shape(y_true)[0]\n",
    "    pmn = K.sum(K.sign(y_true * y_pred)) ## positive - negative\n",
    "    ppn = K.sum(K.abs(K.sign(y_true * y_pred)))\n",
    "    wrong_rate = (ppn + pmn) /2/ ppn\n",
    "    return wrong_rate * 100\n",
    "\n",
    "def build_model(units=12, nlags=10):\n",
    "    model = keras.Sequential([\n",
    "        layers.Dense(6, input_shape=(nlags, 5), activation='relu'),\n",
    "        layers.Dense(12, activation='relu'),\n",
    "        layers.Dropout(rate=0.1),\n",
    "        layers.Dense(12, activation='relu'),\n",
    "        layers.BatchNormalization(),\n",
    "        layers.Dense(12, activation='relu'),\n",
    "        layers.Dense(12, activation='relu'),\n",
    "        layers.LSTM(units=units, activation='tanh', recurrent_activation='tanh', return_sequences=True),\n",
    "        layers.Dropout(rate=0.1),\n",
    "        layers.LSTM(units=units, activation='tanh', recurrent_activation='tanh'),\n",
    "        layers.BatchNormalization(),\n",
    "        layers.Dense(10, activation=tf.nn.relu),\n",
    "        layers.Dropout(rate=0.1),\n",
    "        layers.Dense(5, activation=tf.nn.relu),\n",
    "        layers.Dense(1)\n",
    "    ])\n",
    "\n",
    "    optimizer = tf.keras.optimizers.Adam(0.001)\n",
    "\n",
    "    model.compile(loss='mse',\n",
    "                optimizer=optimizer,\n",
    "                metrics=[right_direction, 'mae'])\n",
    "    return model"
   ]
  },
  {
   "cell_type": "code",
   "execution_count": 142,
   "metadata": {},
   "outputs": [
    {
     "name": "stdout",
     "output_type": "stream",
     "text": [
      "WARNING:tensorflow:Layer lstm_24 will not use cuDNN kernel since it doesn't meet the cuDNN kernel criteria. It will use generic GPU kernel as fallback when running on GPU\n",
      "WARNING:tensorflow:Layer lstm_25 will not use cuDNN kernel since it doesn't meet the cuDNN kernel criteria. It will use generic GPU kernel as fallback when running on GPU\n"
     ]
    }
   ],
   "source": [
    "model = build_model(nlags=nlags)"
   ]
  },
  {
   "cell_type": "code",
   "execution_count": 143,
   "metadata": {},
   "outputs": [
    {
     "name": "stdout",
     "output_type": "stream",
     "text": [
      "Model: \"sequential_12\"\n",
      "_________________________________________________________________\n",
      "Layer (type)                 Output Shape              Param #   \n",
      "=================================================================\n",
      "dense_77 (Dense)             (None, 20, 6)             36        \n",
      "_________________________________________________________________\n",
      "dense_78 (Dense)             (None, 20, 12)            84        \n",
      "_________________________________________________________________\n",
      "dropout_14 (Dropout)         (None, 20, 12)            0         \n",
      "_________________________________________________________________\n",
      "dense_79 (Dense)             (None, 20, 12)            156       \n",
      "_________________________________________________________________\n",
      "batch_normalization_20 (Batc (None, 20, 12)            48        \n",
      "_________________________________________________________________\n",
      "dense_80 (Dense)             (None, 20, 12)            156       \n",
      "_________________________________________________________________\n",
      "dense_81 (Dense)             (None, 20, 12)            156       \n",
      "_________________________________________________________________\n",
      "lstm_24 (LSTM)               (None, 20, 12)            1200      \n",
      "_________________________________________________________________\n",
      "dropout_15 (Dropout)         (None, 20, 12)            0         \n",
      "_________________________________________________________________\n",
      "lstm_25 (LSTM)               (None, 12)                1200      \n",
      "_________________________________________________________________\n",
      "batch_normalization_21 (Batc (None, 12)                48        \n",
      "_________________________________________________________________\n",
      "dense_82 (Dense)             (None, 10)                130       \n",
      "_________________________________________________________________\n",
      "dropout_16 (Dropout)         (None, 10)                0         \n",
      "_________________________________________________________________\n",
      "dense_83 (Dense)             (None, 5)                 55        \n",
      "_________________________________________________________________\n",
      "dense_84 (Dense)             (None, 1)                 6         \n",
      "=================================================================\n",
      "Total params: 3,275\n",
      "Trainable params: 3,227\n",
      "Non-trainable params: 48\n",
      "_________________________________________________________________\n"
     ]
    }
   ],
   "source": [
    "model.summary()"
   ]
  },
  {
   "cell_type": "code",
   "execution_count": null,
   "metadata": {},
   "outputs": [
    {
     "name": "stdout",
     "output_type": "stream",
     "text": [
      "\n",
      "....................................................................................................\n",
      "....................................................................................................\n",
      "......................................................."
     ]
    }
   ],
   "source": [
    "X = cache['X']\n",
    "y = cache['y']\n",
    "\n",
    "class PrintDot(keras.callbacks.Callback):\n",
    "  def on_epoch_end(self, epoch, logs):\n",
    "    if epoch % 100 == 0: print('')\n",
    "    print('.', end='')\n",
    "\n",
    "EPOCHS = 500\n",
    "\n",
    "train_set = X[:2000]\n",
    "train_label = y[:2000]*100\n",
    "\n",
    "history = model.fit(\n",
    "    train_set, train_label, batch_size=1024, shuffle=False ,epochs=EPOCHS, validation_split = 0.2, verbose=0, callbacks=[PrintDot()])"
   ]
  },
  {
   "cell_type": "code",
   "execution_count": 141,
   "metadata": {},
   "outputs": [
    {
     "data": {
      "image/png": "[encoded data removed]",
      "text/plain": [
       "<Figure size 432x288 with 1 Axes>"
      ]
     },
     "metadata": {
      "needs_background": "light"
     },
     "output_type": "display_data"
    },
    {
     "data": {
      "image/png": "[encoded data removed]",
      "text/plain": [
       "<Figure size 432x288 with 1 Axes>"
      ]
     },
     "metadata": {
      "needs_background": "light"
     },
     "output_type": "display_data"
    }
   ],
   "source": [
    "def plot_history(history):\n",
    "  hist = pd.DataFrame(history.history)\n",
    "  hist['epoch'] = history.epoch\n",
    "  \n",
    "  plt.figure()\n",
    "  plt.xlabel('Epoch')\n",
    "  plt.ylabel('MSE')\n",
    "  plt.plot(hist['epoch'], hist['loss'],\n",
    "           label='Train Error')\n",
    "  plt.plot(hist['epoch'], hist['val_loss'],\n",
    "           label = 'Val Error')\n",
    "#   plt.ylim([0,])\n",
    "  plt.legend()\n",
    "  \n",
    "  plt.figure()\n",
    "  plt.xlabel('Epoch')\n",
    "  plt.ylabel('accuracy')\n",
    "  plt.plot(hist['epoch'], hist['right_direction'],\n",
    "           label='Train Accuracy')\n",
    "  plt.plot(hist['epoch'], hist['val_right_direction'],\n",
    "           label = 'Val Accuracy')\n",
    "#   plt.ylim([0,20])\n",
    "  plt.legend()\n",
    "  plt.show()\n",
    "\n",
    "\n",
    "plot_history(history)"
   ]
  },
  {
   "cell_type": "code",
   "execution_count": 129,
   "metadata": {},
   "outputs": [
    {
     "data": {
      "image/png": "[encoded data removed]",
      "text/plain": [
       "<Figure size 432x288 with 1 Axes>"
      ]
     },
     "metadata": {
      "needs_background": "light"
     },
     "output_type": "display_data"
    }
   ],
   "source": [
    "test_data = X[1000:1100]\n",
    "test_labels = y[1000:1100]\n",
    "test_predictions = model.predict(test_data).flatten()\n",
    "\n",
    "plt.scatter(test_labels, test_predictions)\n",
    "plt.xlabel('True Values [MPG]')\n",
    "plt.ylabel('Predictions [MPG]')\n",
    "plt.axis('equal')\n",
    "plt.axis('square')\n",
    "plt.xlim([-3, 3])\n",
    "plt.ylim([-3, 3])\n",
    "_ = plt.plot([-3, 3], [-3, 3])\n"
   ]
  },
  {
   "cell_type": "code",
   "execution_count": 130,
   "metadata": {},
   "outputs": [
    {
     "data": {
      "text/plain": [
       "(array([ 2.,  2.,  2.,  0.,  0.,  0.,  2.,  8., 11.,  7., 20.,  6., 10.,\n",
       "         7.,  8.,  2.,  2.,  4.,  2.,  1.,  0.,  1.,  0.,  2.,  0.,  0.,\n",
       "         0.,  0.,  0.,  0.,  0.,  0.,  0.,  0.,  0.,  0.,  0.,  0.,  0.,\n",
       "         1.]),\n",
       " array([-0.7888214 , -0.7168476 , -0.64487386, -0.57290006, -0.5009263 ,\n",
       "        -0.42895252, -0.35697874, -0.28500497, -0.2130312 , -0.14105742,\n",
       "        -0.06908365,  0.00289013,  0.0748639 ,  0.14683768,  0.21881145,\n",
       "         0.29078522,  0.362759  ,  0.4347328 ,  0.50670654,  0.57868034,\n",
       "         0.6506541 ,  0.7226279 ,  0.7946017 ,  0.8665754 ,  0.9385492 ,\n",
       "         1.010523  ,  1.0824968 ,  1.1544706 ,  1.2264444 ,  1.298418  ,\n",
       "         1.3703918 ,  1.4423656 ,  1.5143394 ,  1.5863131 ,  1.6582869 ,\n",
       "         1.7302607 ,  1.8022345 ,  1.8742083 ,  1.946182  ,  2.0181558 ,\n",
       "         2.0901296 ], dtype=float32),\n",
       " <BarContainer object of 40 artists>)"
      ]
     },
     "execution_count": 130,
     "metadata": {},
     "output_type": "execute_result"
    },
    {
     "data": {
      "image/png": "[encoded data removed]",
      "text/plain": [
       "<Figure size 432x288 with 1 Axes>"
      ]
     },
     "metadata": {
      "needs_background": "light"
     },
     "output_type": "display_data"
    }
   ],
   "source": [
    "plt.hist(test_predictions, bins=40)"
   ]
  },
  {
   "cell_type": "code",
   "execution_count": 11,
   "metadata": {},
   "outputs": [
    {
     "name": "stdout",
     "output_type": "stream",
     "text": [
      "WARNING:tensorflow:Layer lstm_1 will not use cuDNN kernel since it doesn't meet the cuDNN kernel criteria. It will use generic GPU kernel as fallback when running on GPU\n"
     ]
    },
    {
     "data": {
      "image/png": "[encoded data removed]",
      "text/plain": [
       "<Figure size 432x288 with 1 Axes>"
      ]
     },
     "metadata": {
      "needs_background": "light"
     },
     "output_type": "display_data"
    },
    {
     "data": {
      "image/png": "[encoded data removed]",
      "text/plain": [
       "<Figure size 432x288 with 1 Axes>"
      ]
     },
     "metadata": {
      "needs_background": "light"
     },
     "output_type": "display_data"
    }
   ],
   "source": [
    "model = build_model()\n",
    "\n",
    "# The patience parameter is the amount of epochs to check for improvement\n",
    "early_stop = keras.callbacks.EarlyStopping(monitor='val_loss', patience=20)\n",
    "\n",
    "history = model.fit(train_set, train_label, epochs=EPOCHS,\n",
    "                    validation_split = 0.2, verbose=0, callbacks=[early_stop])\n",
    "\n",
    "plot_history(history)"
   ]
  },
  {
   "cell_type": "code",
   "execution_count": null,
   "metadata": {},
   "outputs": [],
   "source": []
  }
 ],
 "metadata": {
  "environment": {
   "name": "tf2-2-3-gpu.2-3.m55",
   "type": "gcloud",
   "uri": "gcr.io/deeplearning-platform-release/tf2-2-3-gpu.2-3:m55"
  },
  "kernelspec": {
   "display_name": "Python 3",
   "language": "python",
   "name": "python3"
  },
  "language_info": {
   "codemirror_mode": {
    "name": "ipython",
    "version": 3
   },
   "file_extension": ".py",
   "mimetype": "text/x-python",
   "name": "python",
   "nbconvert_exporter": "python",
   "pygments_lexer": "ipython3",
   "version": "3.7.8"
  }
 },
 "nbformat": 4,
 "nbformat_minor": 4
}
